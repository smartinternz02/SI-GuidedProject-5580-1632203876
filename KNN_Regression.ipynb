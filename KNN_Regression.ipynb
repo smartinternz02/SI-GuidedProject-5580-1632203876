{
  "nbformat": 4,
  "nbformat_minor": 0,
  "metadata": {
    "colab": {
      "name": "KNN_Regression",
      "provenance": [],
      "collapsed_sections": []
    },
    "kernelspec": {
      "name": "python3",
      "display_name": "Python 3"
    },
    "language_info": {
      "name": "python"
    }
  },
  "cells": [
    {
      "cell_type": "markdown",
      "metadata": {
        "id": "kMe5fnCL6G_W"
      },
      "source": [
        "**mounting drive**"
      ]
    },
    {
      "cell_type": "code",
      "metadata": {
        "colab": {
          "base_uri": "https://localhost:8080/"
        },
        "id": "F4lNdVGG6Fu2",
        "outputId": "033c4487-dc74-41f7-93c9-0ee333db3cc5"
      },
      "source": [
        "from google.colab import drive\n",
        "drive.mount('/content/drive')"
      ],
      "execution_count": 1,
      "outputs": [
        {
          "output_type": "stream",
          "name": "stdout",
          "text": [
            "Drive already mounted at /content/drive; to attempt to forcibly remount, call drive.mount(\"/content/drive\", force_remount=True).\n"
          ]
        }
      ]
    },
    {
      "cell_type": "code",
      "metadata": {
        "id": "Xv6-doNu-reo"
      },
      "source": [
        "import numpy as np\n",
        "import pandas as pd\n"
      ],
      "execution_count": 2,
      "outputs": []
    },
    {
      "cell_type": "markdown",
      "metadata": {
        "id": "KGlcSsaZ6Nn1"
      },
      "source": [
        "**read the dataset**"
      ]
    },
    {
      "cell_type": "code",
      "metadata": {
        "id": "5XUDWmJT-12R"
      },
      "source": [
        "realestate_dataset=pd.read_csv(\"/content/drive/MyDrive/ML_TRAINING/Dataset/Real estate valuation data set.csv\")"
      ],
      "execution_count": 3,
      "outputs": []
    },
    {
      "cell_type": "code",
      "metadata": {
        "colab": {
          "base_uri": "https://localhost:8080/",
          "height": 359
        },
        "id": "tb2CFXAb--Ln",
        "outputId": "2949a7f9-763d-49c6-8b1c-ecafd36d6690"
      },
      "source": [
        "realestate_dataset.head(10)"
      ],
      "execution_count": 4,
      "outputs": [
        {
          "output_type": "execute_result",
          "data": {
            "text/html": [
              "<div>\n",
              "<style scoped>\n",
              "    .dataframe tbody tr th:only-of-type {\n",
              "        vertical-align: middle;\n",
              "    }\n",
              "\n",
              "    .dataframe tbody tr th {\n",
              "        vertical-align: top;\n",
              "    }\n",
              "\n",
              "    .dataframe thead th {\n",
              "        text-align: right;\n",
              "    }\n",
              "</style>\n",
              "<table border=\"1\" class=\"dataframe\">\n",
              "  <thead>\n",
              "    <tr style=\"text-align: right;\">\n",
              "      <th></th>\n",
              "      <th>No</th>\n",
              "      <th>transaction date</th>\n",
              "      <th>house age</th>\n",
              "      <th>distance to the nearest MRT station</th>\n",
              "      <th>number of convenience stores</th>\n",
              "      <th>latitude</th>\n",
              "      <th>longitude</th>\n",
              "      <th>house price of unit area</th>\n",
              "    </tr>\n",
              "  </thead>\n",
              "  <tbody>\n",
              "    <tr>\n",
              "      <th>0</th>\n",
              "      <td>1</td>\n",
              "      <td>2012.917</td>\n",
              "      <td>32.0</td>\n",
              "      <td>84.87882</td>\n",
              "      <td>10</td>\n",
              "      <td>24.98298</td>\n",
              "      <td>121.54024</td>\n",
              "      <td>37.9</td>\n",
              "    </tr>\n",
              "    <tr>\n",
              "      <th>1</th>\n",
              "      <td>2</td>\n",
              "      <td>2012.917</td>\n",
              "      <td>19.5</td>\n",
              "      <td>306.59470</td>\n",
              "      <td>9</td>\n",
              "      <td>24.98034</td>\n",
              "      <td>121.53951</td>\n",
              "      <td>42.2</td>\n",
              "    </tr>\n",
              "    <tr>\n",
              "      <th>2</th>\n",
              "      <td>3</td>\n",
              "      <td>2013.583</td>\n",
              "      <td>13.3</td>\n",
              "      <td>561.98450</td>\n",
              "      <td>5</td>\n",
              "      <td>24.98746</td>\n",
              "      <td>121.54391</td>\n",
              "      <td>47.3</td>\n",
              "    </tr>\n",
              "    <tr>\n",
              "      <th>3</th>\n",
              "      <td>4</td>\n",
              "      <td>2013.500</td>\n",
              "      <td>13.3</td>\n",
              "      <td>561.98450</td>\n",
              "      <td>5</td>\n",
              "      <td>24.98746</td>\n",
              "      <td>121.54391</td>\n",
              "      <td>54.8</td>\n",
              "    </tr>\n",
              "    <tr>\n",
              "      <th>4</th>\n",
              "      <td>5</td>\n",
              "      <td>2012.833</td>\n",
              "      <td>5.0</td>\n",
              "      <td>390.56840</td>\n",
              "      <td>5</td>\n",
              "      <td>24.97937</td>\n",
              "      <td>121.54245</td>\n",
              "      <td>43.1</td>\n",
              "    </tr>\n",
              "    <tr>\n",
              "      <th>5</th>\n",
              "      <td>6</td>\n",
              "      <td>2012.667</td>\n",
              "      <td>7.1</td>\n",
              "      <td>2175.03000</td>\n",
              "      <td>3</td>\n",
              "      <td>24.96305</td>\n",
              "      <td>121.51254</td>\n",
              "      <td>32.1</td>\n",
              "    </tr>\n",
              "    <tr>\n",
              "      <th>6</th>\n",
              "      <td>7</td>\n",
              "      <td>2012.667</td>\n",
              "      <td>34.5</td>\n",
              "      <td>623.47310</td>\n",
              "      <td>7</td>\n",
              "      <td>24.97933</td>\n",
              "      <td>121.53642</td>\n",
              "      <td>40.3</td>\n",
              "    </tr>\n",
              "    <tr>\n",
              "      <th>7</th>\n",
              "      <td>8</td>\n",
              "      <td>2013.417</td>\n",
              "      <td>20.3</td>\n",
              "      <td>287.60250</td>\n",
              "      <td>6</td>\n",
              "      <td>24.98042</td>\n",
              "      <td>121.54228</td>\n",
              "      <td>46.7</td>\n",
              "    </tr>\n",
              "    <tr>\n",
              "      <th>8</th>\n",
              "      <td>9</td>\n",
              "      <td>2013.500</td>\n",
              "      <td>31.7</td>\n",
              "      <td>5512.03800</td>\n",
              "      <td>1</td>\n",
              "      <td>24.95095</td>\n",
              "      <td>121.48458</td>\n",
              "      <td>18.8</td>\n",
              "    </tr>\n",
              "    <tr>\n",
              "      <th>9</th>\n",
              "      <td>10</td>\n",
              "      <td>2013.417</td>\n",
              "      <td>17.9</td>\n",
              "      <td>1783.18000</td>\n",
              "      <td>3</td>\n",
              "      <td>24.96731</td>\n",
              "      <td>121.51486</td>\n",
              "      <td>22.1</td>\n",
              "    </tr>\n",
              "  </tbody>\n",
              "</table>\n",
              "</div>"
            ],
            "text/plain": [
              "   No  transaction date  ...  longitude  house price of unit area\n",
              "0   1          2012.917  ...  121.54024                      37.9\n",
              "1   2          2012.917  ...  121.53951                      42.2\n",
              "2   3          2013.583  ...  121.54391                      47.3\n",
              "3   4          2013.500  ...  121.54391                      54.8\n",
              "4   5          2012.833  ...  121.54245                      43.1\n",
              "5   6          2012.667  ...  121.51254                      32.1\n",
              "6   7          2012.667  ...  121.53642                      40.3\n",
              "7   8          2013.417  ...  121.54228                      46.7\n",
              "8   9          2013.500  ...  121.48458                      18.8\n",
              "9  10          2013.417  ...  121.51486                      22.1\n",
              "\n",
              "[10 rows x 8 columns]"
            ]
          },
          "metadata": {},
          "execution_count": 4
        }
      ]
    },
    {
      "cell_type": "markdown",
      "metadata": {
        "id": "OPkkJpEq6Ulh"
      },
      "source": [
        "**Check null values**"
      ]
    },
    {
      "cell_type": "code",
      "metadata": {
        "colab": {
          "base_uri": "https://localhost:8080/"
        },
        "id": "0DSf9ntb_sbL",
        "outputId": "da216f7e-d8d5-42d1-93b5-660e2c99b873"
      },
      "source": [
        "realestate_dataset.isnull().any()"
      ],
      "execution_count": 5,
      "outputs": [
        {
          "output_type": "execute_result",
          "data": {
            "text/plain": [
              "No                                     False\n",
              "transaction date                       False\n",
              "house age                              False\n",
              "distance to the nearest MRT station    False\n",
              "number of convenience stores           False\n",
              "latitude                               False\n",
              "longitude                              False\n",
              "house price of unit area               False\n",
              "dtype: bool"
            ]
          },
          "metadata": {},
          "execution_count": 5
        }
      ]
    },
    {
      "cell_type": "code",
      "metadata": {
        "colab": {
          "base_uri": "https://localhost:8080/"
        },
        "id": "4c7jhAWf_vKk",
        "outputId": "f475b2c6-de9e-4894-e36c-cdd07c64c25a"
      },
      "source": [
        "realestate_dataset.isnull().sum()"
      ],
      "execution_count": 6,
      "outputs": [
        {
          "output_type": "execute_result",
          "data": {
            "text/plain": [
              "No                                     0\n",
              "transaction date                       0\n",
              "house age                              0\n",
              "distance to the nearest MRT station    0\n",
              "number of convenience stores           0\n",
              "latitude                               0\n",
              "longitude                              0\n",
              "house price of unit area               0\n",
              "dtype: int64"
            ]
          },
          "metadata": {},
          "execution_count": 6
        }
      ]
    },
    {
      "cell_type": "code",
      "metadata": {
        "id": "i5JxYL3n_1av"
      },
      "source": [
        "x=realestate_dataset.iloc[:,2:5].values\n",
        "y=realestate_dataset.iloc[:,7:8].values"
      ],
      "execution_count": 7,
      "outputs": []
    },
    {
      "cell_type": "code",
      "metadata": {
        "colab": {
          "base_uri": "https://localhost:8080/"
        },
        "id": "7YYSS_u6_3mn",
        "outputId": "062bbb8e-8ba2-472e-816d-6e73d637e55b"
      },
      "source": [
        "x"
      ],
      "execution_count": 8,
      "outputs": [
        {
          "output_type": "execute_result",
          "data": {
            "text/plain": [
              "array([[ 32.     ,  84.87882,  10.     ],\n",
              "       [ 19.5    , 306.5947 ,   9.     ],\n",
              "       [ 13.3    , 561.9845 ,   5.     ],\n",
              "       ...,\n",
              "       [ 18.8    , 390.9696 ,   7.     ],\n",
              "       [  8.1    , 104.8101 ,   5.     ],\n",
              "       [  6.5    ,  90.45606,   9.     ]])"
            ]
          },
          "metadata": {},
          "execution_count": 8
        }
      ]
    },
    {
      "cell_type": "code",
      "metadata": {
        "colab": {
          "base_uri": "https://localhost:8080/"
        },
        "id": "Dd-xThOvABQn",
        "outputId": "06892174-4d5c-4b90-f697-d26db144d1f7"
      },
      "source": [
        "y"
      ],
      "execution_count": 9,
      "outputs": [
        {
          "output_type": "execute_result",
          "data": {
            "text/plain": [
              "array([[ 37.9],\n",
              "       [ 42.2],\n",
              "       [ 47.3],\n",
              "       [ 54.8],\n",
              "       [ 43.1],\n",
              "       [ 32.1],\n",
              "       [ 40.3],\n",
              "       [ 46.7],\n",
              "       [ 18.8],\n",
              "       [ 22.1],\n",
              "       [ 41.4],\n",
              "       [ 58.1],\n",
              "       [ 39.3],\n",
              "       [ 23.8],\n",
              "       [ 34.3],\n",
              "       [ 50.5],\n",
              "       [ 70.1],\n",
              "       [ 37.4],\n",
              "       [ 42.3],\n",
              "       [ 47.7],\n",
              "       [ 29.3],\n",
              "       [ 51.6],\n",
              "       [ 24.6],\n",
              "       [ 47.9],\n",
              "       [ 38.8],\n",
              "       [ 27. ],\n",
              "       [ 56.2],\n",
              "       [ 33.6],\n",
              "       [ 47. ],\n",
              "       [ 57.1],\n",
              "       [ 22.1],\n",
              "       [ 25. ],\n",
              "       [ 34.2],\n",
              "       [ 49.3],\n",
              "       [ 55.1],\n",
              "       [ 27.3],\n",
              "       [ 22.9],\n",
              "       [ 25.3],\n",
              "       [ 47.7],\n",
              "       [ 46.2],\n",
              "       [ 15.9],\n",
              "       [ 18.2],\n",
              "       [ 34.7],\n",
              "       [ 34.1],\n",
              "       [ 53.9],\n",
              "       [ 38.3],\n",
              "       [ 42. ],\n",
              "       [ 61.5],\n",
              "       [ 13.4],\n",
              "       [ 13.2],\n",
              "       [ 44.2],\n",
              "       [ 20.7],\n",
              "       [ 27. ],\n",
              "       [ 38.9],\n",
              "       [ 51.7],\n",
              "       [ 13.7],\n",
              "       [ 41.9],\n",
              "       [ 53.5],\n",
              "       [ 22.6],\n",
              "       [ 42.4],\n",
              "       [ 21.3],\n",
              "       [ 63.2],\n",
              "       [ 27.7],\n",
              "       [ 55. ],\n",
              "       [ 25.3],\n",
              "       [ 44.3],\n",
              "       [ 50.7],\n",
              "       [ 56.8],\n",
              "       [ 36.2],\n",
              "       [ 42. ],\n",
              "       [ 59. ],\n",
              "       [ 40.8],\n",
              "       [ 36.3],\n",
              "       [ 20. ],\n",
              "       [ 54.4],\n",
              "       [ 29.5],\n",
              "       [ 36.8],\n",
              "       [ 25.6],\n",
              "       [ 29.8],\n",
              "       [ 26.5],\n",
              "       [ 40.3],\n",
              "       [ 36.8],\n",
              "       [ 48.1],\n",
              "       [ 17.7],\n",
              "       [ 43.7],\n",
              "       [ 50.8],\n",
              "       [ 27. ],\n",
              "       [ 18.3],\n",
              "       [ 48. ],\n",
              "       [ 25.3],\n",
              "       [ 45.4],\n",
              "       [ 43.2],\n",
              "       [ 21.8],\n",
              "       [ 16.1],\n",
              "       [ 41. ],\n",
              "       [ 51.8],\n",
              "       [ 59.5],\n",
              "       [ 34.6],\n",
              "       [ 51. ],\n",
              "       [ 62.2],\n",
              "       [ 38.2],\n",
              "       [ 32.9],\n",
              "       [ 54.4],\n",
              "       [ 45.7],\n",
              "       [ 30.5],\n",
              "       [ 71. ],\n",
              "       [ 47.1],\n",
              "       [ 26.6],\n",
              "       [ 34.1],\n",
              "       [ 28.4],\n",
              "       [ 51.6],\n",
              "       [ 39.4],\n",
              "       [ 23.1],\n",
              "       [  7.6],\n",
              "       [ 53.3],\n",
              "       [ 46.4],\n",
              "       [ 12.2],\n",
              "       [ 13. ],\n",
              "       [ 30.6],\n",
              "       [ 59.6],\n",
              "       [ 31.3],\n",
              "       [ 48. ],\n",
              "       [ 32.5],\n",
              "       [ 45.5],\n",
              "       [ 57.4],\n",
              "       [ 48.6],\n",
              "       [ 62.9],\n",
              "       [ 55. ],\n",
              "       [ 60.7],\n",
              "       [ 41. ],\n",
              "       [ 37.5],\n",
              "       [ 30.7],\n",
              "       [ 37.5],\n",
              "       [ 39.5],\n",
              "       [ 42.2],\n",
              "       [ 20.8],\n",
              "       [ 46.8],\n",
              "       [ 47.4],\n",
              "       [ 43.5],\n",
              "       [ 42.5],\n",
              "       [ 51.4],\n",
              "       [ 28.9],\n",
              "       [ 37.5],\n",
              "       [ 40.1],\n",
              "       [ 28.4],\n",
              "       [ 45.5],\n",
              "       [ 52.2],\n",
              "       [ 43.2],\n",
              "       [ 45.1],\n",
              "       [ 39.7],\n",
              "       [ 48.5],\n",
              "       [ 44.7],\n",
              "       [ 28.9],\n",
              "       [ 40.9],\n",
              "       [ 20.7],\n",
              "       [ 15.6],\n",
              "       [ 18.3],\n",
              "       [ 35.6],\n",
              "       [ 39.4],\n",
              "       [ 37.4],\n",
              "       [ 57.8],\n",
              "       [ 39.6],\n",
              "       [ 11.6],\n",
              "       [ 55.5],\n",
              "       [ 55.2],\n",
              "       [ 30.6],\n",
              "       [ 73.6],\n",
              "       [ 43.4],\n",
              "       [ 37.4],\n",
              "       [ 23.5],\n",
              "       [ 14.4],\n",
              "       [ 58.8],\n",
              "       [ 58.1],\n",
              "       [ 35.1],\n",
              "       [ 45.2],\n",
              "       [ 36.5],\n",
              "       [ 19.2],\n",
              "       [ 42. ],\n",
              "       [ 36.7],\n",
              "       [ 42.6],\n",
              "       [ 15.5],\n",
              "       [ 55.9],\n",
              "       [ 23.6],\n",
              "       [ 18.8],\n",
              "       [ 21.8],\n",
              "       [ 21.5],\n",
              "       [ 25.7],\n",
              "       [ 22. ],\n",
              "       [ 44.3],\n",
              "       [ 20.5],\n",
              "       [ 42.3],\n",
              "       [ 37.8],\n",
              "       [ 42.7],\n",
              "       [ 49.3],\n",
              "       [ 29.3],\n",
              "       [ 34.6],\n",
              "       [ 36.6],\n",
              "       [ 48.2],\n",
              "       [ 39.1],\n",
              "       [ 31.6],\n",
              "       [ 25.5],\n",
              "       [ 45.9],\n",
              "       [ 31.5],\n",
              "       [ 46.1],\n",
              "       [ 26.6],\n",
              "       [ 21.4],\n",
              "       [ 44. ],\n",
              "       [ 34.2],\n",
              "       [ 26.2],\n",
              "       [ 40.9],\n",
              "       [ 52.2],\n",
              "       [ 43.5],\n",
              "       [ 31.1],\n",
              "       [ 58. ],\n",
              "       [ 20.9],\n",
              "       [ 48.1],\n",
              "       [ 39.7],\n",
              "       [ 40.8],\n",
              "       [ 43.8],\n",
              "       [ 40.2],\n",
              "       [ 78.3],\n",
              "       [ 38.5],\n",
              "       [ 48.5],\n",
              "       [ 42.3],\n",
              "       [ 46. ],\n",
              "       [ 49. ],\n",
              "       [ 12.8],\n",
              "       [ 40.2],\n",
              "       [ 46.6],\n",
              "       [ 19. ],\n",
              "       [ 33.4],\n",
              "       [ 14.7],\n",
              "       [ 17.4],\n",
              "       [ 32.4],\n",
              "       [ 23.9],\n",
              "       [ 39.3],\n",
              "       [ 61.9],\n",
              "       [ 39. ],\n",
              "       [ 40.6],\n",
              "       [ 29.7],\n",
              "       [ 28.8],\n",
              "       [ 41.4],\n",
              "       [ 33.4],\n",
              "       [ 48.2],\n",
              "       [ 21.7],\n",
              "       [ 40.8],\n",
              "       [ 40.6],\n",
              "       [ 23.1],\n",
              "       [ 22.3],\n",
              "       [ 15. ],\n",
              "       [ 30. ],\n",
              "       [ 13.8],\n",
              "       [ 52.7],\n",
              "       [ 25.9],\n",
              "       [ 51.8],\n",
              "       [ 17.4],\n",
              "       [ 26.5],\n",
              "       [ 43.9],\n",
              "       [ 63.3],\n",
              "       [ 28.8],\n",
              "       [ 30.7],\n",
              "       [ 24.4],\n",
              "       [ 53. ],\n",
              "       [ 31.7],\n",
              "       [ 40.6],\n",
              "       [ 38.1],\n",
              "       [ 23.7],\n",
              "       [ 41.1],\n",
              "       [ 40.1],\n",
              "       [ 23. ],\n",
              "       [117.5],\n",
              "       [ 26.5],\n",
              "       [ 40.5],\n",
              "       [ 29.3],\n",
              "       [ 41. ],\n",
              "       [ 49.7],\n",
              "       [ 34. ],\n",
              "       [ 27.7],\n",
              "       [ 44. ],\n",
              "       [ 31.1],\n",
              "       [ 45.4],\n",
              "       [ 44.8],\n",
              "       [ 25.6],\n",
              "       [ 23.5],\n",
              "       [ 34.4],\n",
              "       [ 55.3],\n",
              "       [ 56.3],\n",
              "       [ 32.9],\n",
              "       [ 51. ],\n",
              "       [ 44.5],\n",
              "       [ 37. ],\n",
              "       [ 54.4],\n",
              "       [ 24.5],\n",
              "       [ 42.5],\n",
              "       [ 38.1],\n",
              "       [ 21.8],\n",
              "       [ 34.1],\n",
              "       [ 28.5],\n",
              "       [ 16.7],\n",
              "       [ 46.1],\n",
              "       [ 36.9],\n",
              "       [ 35.7],\n",
              "       [ 23.2],\n",
              "       [ 38.4],\n",
              "       [ 29.4],\n",
              "       [ 55. ],\n",
              "       [ 50.2],\n",
              "       [ 24.7],\n",
              "       [ 53. ],\n",
              "       [ 19.1],\n",
              "       [ 24.7],\n",
              "       [ 42.2],\n",
              "       [ 78. ],\n",
              "       [ 42.8],\n",
              "       [ 41.6],\n",
              "       [ 27.3],\n",
              "       [ 42. ],\n",
              "       [ 37.5],\n",
              "       [ 49.8],\n",
              "       [ 26.9],\n",
              "       [ 18.6],\n",
              "       [ 37.7],\n",
              "       [ 33.1],\n",
              "       [ 42.5],\n",
              "       [ 31.3],\n",
              "       [ 38.1],\n",
              "       [ 62.1],\n",
              "       [ 36.7],\n",
              "       [ 23.6],\n",
              "       [ 19.2],\n",
              "       [ 12.8],\n",
              "       [ 15.6],\n",
              "       [ 39.6],\n",
              "       [ 38.4],\n",
              "       [ 22.8],\n",
              "       [ 36.5],\n",
              "       [ 35.6],\n",
              "       [ 30.9],\n",
              "       [ 36.3],\n",
              "       [ 50.4],\n",
              "       [ 42.9],\n",
              "       [ 37. ],\n",
              "       [ 53.5],\n",
              "       [ 46.6],\n",
              "       [ 41.2],\n",
              "       [ 37.9],\n",
              "       [ 30.8],\n",
              "       [ 11.2],\n",
              "       [ 53.7],\n",
              "       [ 47. ],\n",
              "       [ 42.3],\n",
              "       [ 28.6],\n",
              "       [ 25.7],\n",
              "       [ 31.3],\n",
              "       [ 30.1],\n",
              "       [ 60.7],\n",
              "       [ 45.3],\n",
              "       [ 44.9],\n",
              "       [ 45.1],\n",
              "       [ 24.7],\n",
              "       [ 47.1],\n",
              "       [ 63.3],\n",
              "       [ 40. ],\n",
              "       [ 48. ],\n",
              "       [ 33.1],\n",
              "       [ 29.5],\n",
              "       [ 24.8],\n",
              "       [ 20.9],\n",
              "       [ 43.1],\n",
              "       [ 22.8],\n",
              "       [ 42.1],\n",
              "       [ 51.7],\n",
              "       [ 41.5],\n",
              "       [ 52.2],\n",
              "       [ 49.5],\n",
              "       [ 23.8],\n",
              "       [ 30.5],\n",
              "       [ 56.8],\n",
              "       [ 37.4],\n",
              "       [ 69.7],\n",
              "       [ 53.3],\n",
              "       [ 47.3],\n",
              "       [ 29.3],\n",
              "       [ 40.3],\n",
              "       [ 12.9],\n",
              "       [ 46.6],\n",
              "       [ 55.3],\n",
              "       [ 25.6],\n",
              "       [ 27.3],\n",
              "       [ 67.7],\n",
              "       [ 38.6],\n",
              "       [ 31.3],\n",
              "       [ 35.3],\n",
              "       [ 40.3],\n",
              "       [ 24.7],\n",
              "       [ 42.5],\n",
              "       [ 31.9],\n",
              "       [ 32.2],\n",
              "       [ 23. ],\n",
              "       [ 37.3],\n",
              "       [ 35.5],\n",
              "       [ 27.7],\n",
              "       [ 28.5],\n",
              "       [ 39.7],\n",
              "       [ 41.2],\n",
              "       [ 37.2],\n",
              "       [ 40.5],\n",
              "       [ 22.3],\n",
              "       [ 28.1],\n",
              "       [ 15.4],\n",
              "       [ 50. ],\n",
              "       [ 40.6],\n",
              "       [ 52.5],\n",
              "       [ 63.9]])"
            ]
          },
          "metadata": {},
          "execution_count": 9
        }
      ]
    },
    {
      "cell_type": "code",
      "metadata": {
        "colab": {
          "base_uri": "https://localhost:8080/"
        },
        "id": "8VOGKUOLACDZ",
        "outputId": "6b94814d-8e8d-414b-c5be-7a5e65df762e"
      },
      "source": [
        "x.shape"
      ],
      "execution_count": 10,
      "outputs": [
        {
          "output_type": "execute_result",
          "data": {
            "text/plain": [
              "(414, 3)"
            ]
          },
          "metadata": {},
          "execution_count": 10
        }
      ]
    },
    {
      "cell_type": "code",
      "metadata": {
        "colab": {
          "base_uri": "https://localhost:8080/"
        },
        "id": "RzGDCMfHATJi",
        "outputId": "bd708064-344c-4b48-a219-d0ccc7259d6d"
      },
      "source": [
        "y.shape"
      ],
      "execution_count": 11,
      "outputs": [
        {
          "output_type": "execute_result",
          "data": {
            "text/plain": [
              "(414, 1)"
            ]
          },
          "metadata": {},
          "execution_count": 11
        }
      ]
    },
    {
      "cell_type": "markdown",
      "metadata": {
        "id": "fYqDWkzs6d42"
      },
      "source": [
        "**split the dataset into train set and test set**"
      ]
    },
    {
      "cell_type": "code",
      "metadata": {
        "id": "coSC5iixAV9V"
      },
      "source": [
        "from sklearn.model_selection import train_test_split\n",
        "x_train, x_test, y_train, y_test=train_test_split(x,y,test_size=0.2,random_state=0)"
      ],
      "execution_count": 12,
      "outputs": []
    },
    {
      "cell_type": "code",
      "metadata": {
        "colab": {
          "base_uri": "https://localhost:8080/"
        },
        "id": "7KoGrLLZ4W63",
        "outputId": "6d4cd784-a192-4802-b05e-4094477b6555"
      },
      "source": [
        "print(x_train.shape)\n",
        "print(y_train.shape)\n",
        "print(x_test.shape)\n",
        "print(x_test.shape)"
      ],
      "execution_count": 13,
      "outputs": [
        {
          "output_type": "stream",
          "name": "stdout",
          "text": [
            "(331, 3)\n",
            "(331, 1)\n",
            "(83, 3)\n",
            "(83, 3)\n"
          ]
        }
      ]
    },
    {
      "cell_type": "markdown",
      "metadata": {
        "id": "qQzBnhrr6lYt"
      },
      "source": [
        "**feature scaling**"
      ]
    },
    {
      "cell_type": "code",
      "metadata": {
        "id": "WjTlZIk3A1KK"
      },
      "source": [
        "from sklearn.preprocessing import StandardScaler\n",
        "sc=StandardScaler()\n",
        "x_train=sc.fit_transform(x_train)\n",
        "x_test=sc.fit_transform(x_test)"
      ],
      "execution_count": 14,
      "outputs": []
    },
    {
      "cell_type": "code",
      "metadata": {
        "id": "fM3hp8TBA_yL"
      },
      "source": [
        "from sklearn.neighbors import KNeighborsRegressor\n",
        "knn=KNeighborsRegressor()"
      ],
      "execution_count": 15,
      "outputs": []
    },
    {
      "cell_type": "code",
      "metadata": {
        "colab": {
          "base_uri": "https://localhost:8080/"
        },
        "id": "wv2c2mSnBQII",
        "outputId": "284b761f-05b1-4435-a4f3-63be2141cc02"
      },
      "source": [
        "knn.fit(x_train,y_train)"
      ],
      "execution_count": 16,
      "outputs": [
        {
          "output_type": "execute_result",
          "data": {
            "text/plain": [
              "KNeighborsRegressor(algorithm='auto', leaf_size=30, metric='minkowski',\n",
              "                    metric_params=None, n_jobs=None, n_neighbors=5, p=2,\n",
              "                    weights='uniform')"
            ]
          },
          "metadata": {},
          "execution_count": 16
        }
      ]
    },
    {
      "cell_type": "code",
      "metadata": {
        "id": "BAgLJb_QBXrE"
      },
      "source": [
        "y_pred=knn.predict(x_test)"
      ],
      "execution_count": 17,
      "outputs": []
    },
    {
      "cell_type": "code",
      "metadata": {
        "colab": {
          "base_uri": "https://localhost:8080/"
        },
        "id": "b50Mzhg4Bdkq",
        "outputId": "296307e4-2349-4a04-c928-afe5c46d4506"
      },
      "source": [
        "y_pred"
      ],
      "execution_count": 18,
      "outputs": [
        {
          "output_type": "execute_result",
          "data": {
            "text/plain": [
              "array([[50.02],\n",
              "       [19.02],\n",
              "       [34.68],\n",
              "       [18.74],\n",
              "       [31.82],\n",
              "       [39.06],\n",
              "       [36.46],\n",
              "       [36.56],\n",
              "       [49.24],\n",
              "       [42.52],\n",
              "       [45.46],\n",
              "       [42.24],\n",
              "       [50.02],\n",
              "       [38.14],\n",
              "       [50.7 ],\n",
              "       [45.64],\n",
              "       [34.82],\n",
              "       [48.62],\n",
              "       [42.24],\n",
              "       [41.12],\n",
              "       [50.82],\n",
              "       [30.88],\n",
              "       [39.88],\n",
              "       [43.96],\n",
              "       [53.98],\n",
              "       [36.52],\n",
              "       [44.24],\n",
              "       [24.66],\n",
              "       [54.98],\n",
              "       [27.48],\n",
              "       [54.62],\n",
              "       [27.02],\n",
              "       [49.74],\n",
              "       [41.6 ],\n",
              "       [44.24],\n",
              "       [30.88],\n",
              "       [41.02],\n",
              "       [30.7 ],\n",
              "       [50.24],\n",
              "       [14.6 ],\n",
              "       [47.42],\n",
              "       [35.9 ],\n",
              "       [26.6 ],\n",
              "       [41.02],\n",
              "       [17.84],\n",
              "       [51.06],\n",
              "       [37.54],\n",
              "       [18.84],\n",
              "       [30.1 ],\n",
              "       [49.48],\n",
              "       [54.72],\n",
              "       [31.9 ],\n",
              "       [43.8 ],\n",
              "       [16.18],\n",
              "       [30.88],\n",
              "       [46.88],\n",
              "       [54.62],\n",
              "       [40.36],\n",
              "       [45.46],\n",
              "       [27.02],\n",
              "       [36.58],\n",
              "       [37.8 ],\n",
              "       [50.12],\n",
              "       [48.08],\n",
              "       [36.3 ],\n",
              "       [25.2 ],\n",
              "       [18.2 ],\n",
              "       [24.66],\n",
              "       [53.98],\n",
              "       [39.06],\n",
              "       [23.98],\n",
              "       [54.98],\n",
              "       [49.74],\n",
              "       [27.7 ],\n",
              "       [40.82],\n",
              "       [30.56],\n",
              "       [29.66],\n",
              "       [16.42],\n",
              "       [43.96],\n",
              "       [38.7 ],\n",
              "       [36.6 ],\n",
              "       [28.36],\n",
              "       [37.66]])"
            ]
          },
          "metadata": {},
          "execution_count": 18
        }
      ]
    },
    {
      "cell_type": "code",
      "metadata": {
        "colab": {
          "base_uri": "https://localhost:8080/"
        },
        "id": "TQRRf_v_Bg7e",
        "outputId": "1344e5b7-40e7-4cd9-9644-aa89ab366cab"
      },
      "source": [
        "from sklearn.metrics import r2_score\n",
        "r2_score(y_test, y_pred)"
      ],
      "execution_count": 19,
      "outputs": [
        {
          "output_type": "execute_result",
          "data": {
            "text/plain": [
              "0.6410732944875639"
            ]
          },
          "metadata": {},
          "execution_count": 19
        }
      ]
    },
    {
      "cell_type": "code",
      "metadata": {
        "id": "6Q5yYQXTBlzD",
        "colab": {
          "base_uri": "https://localhost:8080/"
        },
        "outputId": "9717587a-d82c-4fc1-be54-adbf5500ca44"
      },
      "source": [
        "y_pred=knn.predict(sc.transform(([[7.0,390.56840,10]])))\n",
        "y_pred"
      ],
      "execution_count": 20,
      "outputs": [
        {
          "output_type": "execute_result",
          "data": {
            "text/plain": [
              "array([[50.24]])"
            ]
          },
          "metadata": {},
          "execution_count": 20
        }
      ]
    },
    {
      "cell_type": "code",
      "metadata": {
        "id": "tCKNc9KvIRAh"
      },
      "source": [
        ""
      ],
      "execution_count": null,
      "outputs": []
    }
  ]
}