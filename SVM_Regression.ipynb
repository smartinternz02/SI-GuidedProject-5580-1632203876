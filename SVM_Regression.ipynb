{
  "nbformat": 4,
  "nbformat_minor": 0,
  "metadata": {
    "colab": {
      "name": "SVM_Regression",
      "provenance": [],
      "collapsed_sections": []
    },
    "kernelspec": {
      "name": "python3",
      "display_name": "Python 3"
    },
    "language_info": {
      "name": "python"
    }
  },
  "cells": [
    {
      "cell_type": "markdown",
      "metadata": {
        "id": "kMe5fnCL6G_W"
      },
      "source": [
        "**mounting drive**"
      ]
    },
    {
      "cell_type": "code",
      "metadata": {
        "colab": {
          "base_uri": "https://localhost:8080/"
        },
        "id": "F4lNdVGG6Fu2",
        "outputId": "550e91c8-c7c0-4a7d-8e1b-b7661aca7028"
      },
      "source": [
        "from google.colab import drive\n",
        "drive.mount('/content/drive')"
      ],
      "execution_count": 66,
      "outputs": [
        {
          "output_type": "stream",
          "name": "stdout",
          "text": [
            "Drive already mounted at /content/drive; to attempt to forcibly remount, call drive.mount(\"/content/drive\", force_remount=True).\n"
          ]
        }
      ]
    },
    {
      "cell_type": "code",
      "metadata": {
        "id": "Xv6-doNu-reo"
      },
      "source": [
        "import numpy as np\n",
        "import pandas as pd\n"
      ],
      "execution_count": 67,
      "outputs": []
    },
    {
      "cell_type": "markdown",
      "metadata": {
        "id": "KGlcSsaZ6Nn1"
      },
      "source": [
        "**read the dataset**"
      ]
    },
    {
      "cell_type": "code",
      "metadata": {
        "id": "5XUDWmJT-12R"
      },
      "source": [
        "realestate_dataset=pd.read_csv(\"/content/drive/MyDrive/ML_TRAINING/Dataset/Real estate valuation data set.csv\")"
      ],
      "execution_count": 68,
      "outputs": []
    },
    {
      "cell_type": "code",
      "metadata": {
        "colab": {
          "base_uri": "https://localhost:8080/",
          "height": 359
        },
        "id": "tb2CFXAb--Ln",
        "outputId": "9e2a186a-4b90-40fa-b9e2-4d34ee96cf8e"
      },
      "source": [
        "realestate_dataset.head(10)"
      ],
      "execution_count": 69,
      "outputs": [
        {
          "output_type": "execute_result",
          "data": {
            "text/html": [
              "<div>\n",
              "<style scoped>\n",
              "    .dataframe tbody tr th:only-of-type {\n",
              "        vertical-align: middle;\n",
              "    }\n",
              "\n",
              "    .dataframe tbody tr th {\n",
              "        vertical-align: top;\n",
              "    }\n",
              "\n",
              "    .dataframe thead th {\n",
              "        text-align: right;\n",
              "    }\n",
              "</style>\n",
              "<table border=\"1\" class=\"dataframe\">\n",
              "  <thead>\n",
              "    <tr style=\"text-align: right;\">\n",
              "      <th></th>\n",
              "      <th>No</th>\n",
              "      <th>transaction date</th>\n",
              "      <th>house age</th>\n",
              "      <th>distance to the nearest MRT station</th>\n",
              "      <th>number of convenience stores</th>\n",
              "      <th>latitude</th>\n",
              "      <th>longitude</th>\n",
              "      <th>house price of unit area</th>\n",
              "    </tr>\n",
              "  </thead>\n",
              "  <tbody>\n",
              "    <tr>\n",
              "      <th>0</th>\n",
              "      <td>1</td>\n",
              "      <td>2012.917</td>\n",
              "      <td>32.0</td>\n",
              "      <td>84.87882</td>\n",
              "      <td>10</td>\n",
              "      <td>24.98298</td>\n",
              "      <td>121.54024</td>\n",
              "      <td>37.9</td>\n",
              "    </tr>\n",
              "    <tr>\n",
              "      <th>1</th>\n",
              "      <td>2</td>\n",
              "      <td>2012.917</td>\n",
              "      <td>19.5</td>\n",
              "      <td>306.59470</td>\n",
              "      <td>9</td>\n",
              "      <td>24.98034</td>\n",
              "      <td>121.53951</td>\n",
              "      <td>42.2</td>\n",
              "    </tr>\n",
              "    <tr>\n",
              "      <th>2</th>\n",
              "      <td>3</td>\n",
              "      <td>2013.583</td>\n",
              "      <td>13.3</td>\n",
              "      <td>561.98450</td>\n",
              "      <td>5</td>\n",
              "      <td>24.98746</td>\n",
              "      <td>121.54391</td>\n",
              "      <td>47.3</td>\n",
              "    </tr>\n",
              "    <tr>\n",
              "      <th>3</th>\n",
              "      <td>4</td>\n",
              "      <td>2013.500</td>\n",
              "      <td>13.3</td>\n",
              "      <td>561.98450</td>\n",
              "      <td>5</td>\n",
              "      <td>24.98746</td>\n",
              "      <td>121.54391</td>\n",
              "      <td>54.8</td>\n",
              "    </tr>\n",
              "    <tr>\n",
              "      <th>4</th>\n",
              "      <td>5</td>\n",
              "      <td>2012.833</td>\n",
              "      <td>5.0</td>\n",
              "      <td>390.56840</td>\n",
              "      <td>5</td>\n",
              "      <td>24.97937</td>\n",
              "      <td>121.54245</td>\n",
              "      <td>43.1</td>\n",
              "    </tr>\n",
              "    <tr>\n",
              "      <th>5</th>\n",
              "      <td>6</td>\n",
              "      <td>2012.667</td>\n",
              "      <td>7.1</td>\n",
              "      <td>2175.03000</td>\n",
              "      <td>3</td>\n",
              "      <td>24.96305</td>\n",
              "      <td>121.51254</td>\n",
              "      <td>32.1</td>\n",
              "    </tr>\n",
              "    <tr>\n",
              "      <th>6</th>\n",
              "      <td>7</td>\n",
              "      <td>2012.667</td>\n",
              "      <td>34.5</td>\n",
              "      <td>623.47310</td>\n",
              "      <td>7</td>\n",
              "      <td>24.97933</td>\n",
              "      <td>121.53642</td>\n",
              "      <td>40.3</td>\n",
              "    </tr>\n",
              "    <tr>\n",
              "      <th>7</th>\n",
              "      <td>8</td>\n",
              "      <td>2013.417</td>\n",
              "      <td>20.3</td>\n",
              "      <td>287.60250</td>\n",
              "      <td>6</td>\n",
              "      <td>24.98042</td>\n",
              "      <td>121.54228</td>\n",
              "      <td>46.7</td>\n",
              "    </tr>\n",
              "    <tr>\n",
              "      <th>8</th>\n",
              "      <td>9</td>\n",
              "      <td>2013.500</td>\n",
              "      <td>31.7</td>\n",
              "      <td>5512.03800</td>\n",
              "      <td>1</td>\n",
              "      <td>24.95095</td>\n",
              "      <td>121.48458</td>\n",
              "      <td>18.8</td>\n",
              "    </tr>\n",
              "    <tr>\n",
              "      <th>9</th>\n",
              "      <td>10</td>\n",
              "      <td>2013.417</td>\n",
              "      <td>17.9</td>\n",
              "      <td>1783.18000</td>\n",
              "      <td>3</td>\n",
              "      <td>24.96731</td>\n",
              "      <td>121.51486</td>\n",
              "      <td>22.1</td>\n",
              "    </tr>\n",
              "  </tbody>\n",
              "</table>\n",
              "</div>"
            ],
            "text/plain": [
              "   No  transaction date  ...  longitude  house price of unit area\n",
              "0   1          2012.917  ...  121.54024                      37.9\n",
              "1   2          2012.917  ...  121.53951                      42.2\n",
              "2   3          2013.583  ...  121.54391                      47.3\n",
              "3   4          2013.500  ...  121.54391                      54.8\n",
              "4   5          2012.833  ...  121.54245                      43.1\n",
              "5   6          2012.667  ...  121.51254                      32.1\n",
              "6   7          2012.667  ...  121.53642                      40.3\n",
              "7   8          2013.417  ...  121.54228                      46.7\n",
              "8   9          2013.500  ...  121.48458                      18.8\n",
              "9  10          2013.417  ...  121.51486                      22.1\n",
              "\n",
              "[10 rows x 8 columns]"
            ]
          },
          "metadata": {},
          "execution_count": 69
        }
      ]
    },
    {
      "cell_type": "markdown",
      "metadata": {
        "id": "OPkkJpEq6Ulh"
      },
      "source": [
        "**Check null values**"
      ]
    },
    {
      "cell_type": "code",
      "metadata": {
        "colab": {
          "base_uri": "https://localhost:8080/"
        },
        "id": "0DSf9ntb_sbL",
        "outputId": "7f33d1c3-10de-4c68-bbfc-09048d7b245c"
      },
      "source": [
        "realestate_dataset.isnull().any()"
      ],
      "execution_count": 70,
      "outputs": [
        {
          "output_type": "execute_result",
          "data": {
            "text/plain": [
              "No                                     False\n",
              "transaction date                       False\n",
              "house age                              False\n",
              "distance to the nearest MRT station    False\n",
              "number of convenience stores           False\n",
              "latitude                               False\n",
              "longitude                              False\n",
              "house price of unit area               False\n",
              "dtype: bool"
            ]
          },
          "metadata": {},
          "execution_count": 70
        }
      ]
    },
    {
      "cell_type": "code",
      "metadata": {
        "colab": {
          "base_uri": "https://localhost:8080/"
        },
        "id": "4c7jhAWf_vKk",
        "outputId": "7d9fb4bd-135e-44d3-c3da-e39611cc1f55"
      },
      "source": [
        "realestate_dataset.isnull().sum()"
      ],
      "execution_count": 71,
      "outputs": [
        {
          "output_type": "execute_result",
          "data": {
            "text/plain": [
              "No                                     0\n",
              "transaction date                       0\n",
              "house age                              0\n",
              "distance to the nearest MRT station    0\n",
              "number of convenience stores           0\n",
              "latitude                               0\n",
              "longitude                              0\n",
              "house price of unit area               0\n",
              "dtype: int64"
            ]
          },
          "metadata": {},
          "execution_count": 71
        }
      ]
    },
    {
      "cell_type": "code",
      "metadata": {
        "id": "i5JxYL3n_1av"
      },
      "source": [
        "x=realestate_dataset.iloc[:,2:5].values\n",
        "y=realestate_dataset.iloc[:,7:8].values"
      ],
      "execution_count": 72,
      "outputs": []
    },
    {
      "cell_type": "code",
      "metadata": {
        "colab": {
          "base_uri": "https://localhost:8080/"
        },
        "id": "7YYSS_u6_3mn",
        "outputId": "1edc7d12-85ca-46ae-ae50-645cf9fcfcb4"
      },
      "source": [
        "x"
      ],
      "execution_count": 73,
      "outputs": [
        {
          "output_type": "execute_result",
          "data": {
            "text/plain": [
              "array([[ 32.     ,  84.87882,  10.     ],\n",
              "       [ 19.5    , 306.5947 ,   9.     ],\n",
              "       [ 13.3    , 561.9845 ,   5.     ],\n",
              "       ...,\n",
              "       [ 18.8    , 390.9696 ,   7.     ],\n",
              "       [  8.1    , 104.8101 ,   5.     ],\n",
              "       [  6.5    ,  90.45606,   9.     ]])"
            ]
          },
          "metadata": {},
          "execution_count": 73
        }
      ]
    },
    {
      "cell_type": "code",
      "metadata": {
        "colab": {
          "base_uri": "https://localhost:8080/"
        },
        "id": "Dd-xThOvABQn",
        "outputId": "68c3d1cb-9c20-4a45-96d5-82f84611254e"
      },
      "source": [
        "y"
      ],
      "execution_count": 74,
      "outputs": [
        {
          "output_type": "execute_result",
          "data": {
            "text/plain": [
              "array([[ 37.9],\n",
              "       [ 42.2],\n",
              "       [ 47.3],\n",
              "       [ 54.8],\n",
              "       [ 43.1],\n",
              "       [ 32.1],\n",
              "       [ 40.3],\n",
              "       [ 46.7],\n",
              "       [ 18.8],\n",
              "       [ 22.1],\n",
              "       [ 41.4],\n",
              "       [ 58.1],\n",
              "       [ 39.3],\n",
              "       [ 23.8],\n",
              "       [ 34.3],\n",
              "       [ 50.5],\n",
              "       [ 70.1],\n",
              "       [ 37.4],\n",
              "       [ 42.3],\n",
              "       [ 47.7],\n",
              "       [ 29.3],\n",
              "       [ 51.6],\n",
              "       [ 24.6],\n",
              "       [ 47.9],\n",
              "       [ 38.8],\n",
              "       [ 27. ],\n",
              "       [ 56.2],\n",
              "       [ 33.6],\n",
              "       [ 47. ],\n",
              "       [ 57.1],\n",
              "       [ 22.1],\n",
              "       [ 25. ],\n",
              "       [ 34.2],\n",
              "       [ 49.3],\n",
              "       [ 55.1],\n",
              "       [ 27.3],\n",
              "       [ 22.9],\n",
              "       [ 25.3],\n",
              "       [ 47.7],\n",
              "       [ 46.2],\n",
              "       [ 15.9],\n",
              "       [ 18.2],\n",
              "       [ 34.7],\n",
              "       [ 34.1],\n",
              "       [ 53.9],\n",
              "       [ 38.3],\n",
              "       [ 42. ],\n",
              "       [ 61.5],\n",
              "       [ 13.4],\n",
              "       [ 13.2],\n",
              "       [ 44.2],\n",
              "       [ 20.7],\n",
              "       [ 27. ],\n",
              "       [ 38.9],\n",
              "       [ 51.7],\n",
              "       [ 13.7],\n",
              "       [ 41.9],\n",
              "       [ 53.5],\n",
              "       [ 22.6],\n",
              "       [ 42.4],\n",
              "       [ 21.3],\n",
              "       [ 63.2],\n",
              "       [ 27.7],\n",
              "       [ 55. ],\n",
              "       [ 25.3],\n",
              "       [ 44.3],\n",
              "       [ 50.7],\n",
              "       [ 56.8],\n",
              "       [ 36.2],\n",
              "       [ 42. ],\n",
              "       [ 59. ],\n",
              "       [ 40.8],\n",
              "       [ 36.3],\n",
              "       [ 20. ],\n",
              "       [ 54.4],\n",
              "       [ 29.5],\n",
              "       [ 36.8],\n",
              "       [ 25.6],\n",
              "       [ 29.8],\n",
              "       [ 26.5],\n",
              "       [ 40.3],\n",
              "       [ 36.8],\n",
              "       [ 48.1],\n",
              "       [ 17.7],\n",
              "       [ 43.7],\n",
              "       [ 50.8],\n",
              "       [ 27. ],\n",
              "       [ 18.3],\n",
              "       [ 48. ],\n",
              "       [ 25.3],\n",
              "       [ 45.4],\n",
              "       [ 43.2],\n",
              "       [ 21.8],\n",
              "       [ 16.1],\n",
              "       [ 41. ],\n",
              "       [ 51.8],\n",
              "       [ 59.5],\n",
              "       [ 34.6],\n",
              "       [ 51. ],\n",
              "       [ 62.2],\n",
              "       [ 38.2],\n",
              "       [ 32.9],\n",
              "       [ 54.4],\n",
              "       [ 45.7],\n",
              "       [ 30.5],\n",
              "       [ 71. ],\n",
              "       [ 47.1],\n",
              "       [ 26.6],\n",
              "       [ 34.1],\n",
              "       [ 28.4],\n",
              "       [ 51.6],\n",
              "       [ 39.4],\n",
              "       [ 23.1],\n",
              "       [  7.6],\n",
              "       [ 53.3],\n",
              "       [ 46.4],\n",
              "       [ 12.2],\n",
              "       [ 13. ],\n",
              "       [ 30.6],\n",
              "       [ 59.6],\n",
              "       [ 31.3],\n",
              "       [ 48. ],\n",
              "       [ 32.5],\n",
              "       [ 45.5],\n",
              "       [ 57.4],\n",
              "       [ 48.6],\n",
              "       [ 62.9],\n",
              "       [ 55. ],\n",
              "       [ 60.7],\n",
              "       [ 41. ],\n",
              "       [ 37.5],\n",
              "       [ 30.7],\n",
              "       [ 37.5],\n",
              "       [ 39.5],\n",
              "       [ 42.2],\n",
              "       [ 20.8],\n",
              "       [ 46.8],\n",
              "       [ 47.4],\n",
              "       [ 43.5],\n",
              "       [ 42.5],\n",
              "       [ 51.4],\n",
              "       [ 28.9],\n",
              "       [ 37.5],\n",
              "       [ 40.1],\n",
              "       [ 28.4],\n",
              "       [ 45.5],\n",
              "       [ 52.2],\n",
              "       [ 43.2],\n",
              "       [ 45.1],\n",
              "       [ 39.7],\n",
              "       [ 48.5],\n",
              "       [ 44.7],\n",
              "       [ 28.9],\n",
              "       [ 40.9],\n",
              "       [ 20.7],\n",
              "       [ 15.6],\n",
              "       [ 18.3],\n",
              "       [ 35.6],\n",
              "       [ 39.4],\n",
              "       [ 37.4],\n",
              "       [ 57.8],\n",
              "       [ 39.6],\n",
              "       [ 11.6],\n",
              "       [ 55.5],\n",
              "       [ 55.2],\n",
              "       [ 30.6],\n",
              "       [ 73.6],\n",
              "       [ 43.4],\n",
              "       [ 37.4],\n",
              "       [ 23.5],\n",
              "       [ 14.4],\n",
              "       [ 58.8],\n",
              "       [ 58.1],\n",
              "       [ 35.1],\n",
              "       [ 45.2],\n",
              "       [ 36.5],\n",
              "       [ 19.2],\n",
              "       [ 42. ],\n",
              "       [ 36.7],\n",
              "       [ 42.6],\n",
              "       [ 15.5],\n",
              "       [ 55.9],\n",
              "       [ 23.6],\n",
              "       [ 18.8],\n",
              "       [ 21.8],\n",
              "       [ 21.5],\n",
              "       [ 25.7],\n",
              "       [ 22. ],\n",
              "       [ 44.3],\n",
              "       [ 20.5],\n",
              "       [ 42.3],\n",
              "       [ 37.8],\n",
              "       [ 42.7],\n",
              "       [ 49.3],\n",
              "       [ 29.3],\n",
              "       [ 34.6],\n",
              "       [ 36.6],\n",
              "       [ 48.2],\n",
              "       [ 39.1],\n",
              "       [ 31.6],\n",
              "       [ 25.5],\n",
              "       [ 45.9],\n",
              "       [ 31.5],\n",
              "       [ 46.1],\n",
              "       [ 26.6],\n",
              "       [ 21.4],\n",
              "       [ 44. ],\n",
              "       [ 34.2],\n",
              "       [ 26.2],\n",
              "       [ 40.9],\n",
              "       [ 52.2],\n",
              "       [ 43.5],\n",
              "       [ 31.1],\n",
              "       [ 58. ],\n",
              "       [ 20.9],\n",
              "       [ 48.1],\n",
              "       [ 39.7],\n",
              "       [ 40.8],\n",
              "       [ 43.8],\n",
              "       [ 40.2],\n",
              "       [ 78.3],\n",
              "       [ 38.5],\n",
              "       [ 48.5],\n",
              "       [ 42.3],\n",
              "       [ 46. ],\n",
              "       [ 49. ],\n",
              "       [ 12.8],\n",
              "       [ 40.2],\n",
              "       [ 46.6],\n",
              "       [ 19. ],\n",
              "       [ 33.4],\n",
              "       [ 14.7],\n",
              "       [ 17.4],\n",
              "       [ 32.4],\n",
              "       [ 23.9],\n",
              "       [ 39.3],\n",
              "       [ 61.9],\n",
              "       [ 39. ],\n",
              "       [ 40.6],\n",
              "       [ 29.7],\n",
              "       [ 28.8],\n",
              "       [ 41.4],\n",
              "       [ 33.4],\n",
              "       [ 48.2],\n",
              "       [ 21.7],\n",
              "       [ 40.8],\n",
              "       [ 40.6],\n",
              "       [ 23.1],\n",
              "       [ 22.3],\n",
              "       [ 15. ],\n",
              "       [ 30. ],\n",
              "       [ 13.8],\n",
              "       [ 52.7],\n",
              "       [ 25.9],\n",
              "       [ 51.8],\n",
              "       [ 17.4],\n",
              "       [ 26.5],\n",
              "       [ 43.9],\n",
              "       [ 63.3],\n",
              "       [ 28.8],\n",
              "       [ 30.7],\n",
              "       [ 24.4],\n",
              "       [ 53. ],\n",
              "       [ 31.7],\n",
              "       [ 40.6],\n",
              "       [ 38.1],\n",
              "       [ 23.7],\n",
              "       [ 41.1],\n",
              "       [ 40.1],\n",
              "       [ 23. ],\n",
              "       [117.5],\n",
              "       [ 26.5],\n",
              "       [ 40.5],\n",
              "       [ 29.3],\n",
              "       [ 41. ],\n",
              "       [ 49.7],\n",
              "       [ 34. ],\n",
              "       [ 27.7],\n",
              "       [ 44. ],\n",
              "       [ 31.1],\n",
              "       [ 45.4],\n",
              "       [ 44.8],\n",
              "       [ 25.6],\n",
              "       [ 23.5],\n",
              "       [ 34.4],\n",
              "       [ 55.3],\n",
              "       [ 56.3],\n",
              "       [ 32.9],\n",
              "       [ 51. ],\n",
              "       [ 44.5],\n",
              "       [ 37. ],\n",
              "       [ 54.4],\n",
              "       [ 24.5],\n",
              "       [ 42.5],\n",
              "       [ 38.1],\n",
              "       [ 21.8],\n",
              "       [ 34.1],\n",
              "       [ 28.5],\n",
              "       [ 16.7],\n",
              "       [ 46.1],\n",
              "       [ 36.9],\n",
              "       [ 35.7],\n",
              "       [ 23.2],\n",
              "       [ 38.4],\n",
              "       [ 29.4],\n",
              "       [ 55. ],\n",
              "       [ 50.2],\n",
              "       [ 24.7],\n",
              "       [ 53. ],\n",
              "       [ 19.1],\n",
              "       [ 24.7],\n",
              "       [ 42.2],\n",
              "       [ 78. ],\n",
              "       [ 42.8],\n",
              "       [ 41.6],\n",
              "       [ 27.3],\n",
              "       [ 42. ],\n",
              "       [ 37.5],\n",
              "       [ 49.8],\n",
              "       [ 26.9],\n",
              "       [ 18.6],\n",
              "       [ 37.7],\n",
              "       [ 33.1],\n",
              "       [ 42.5],\n",
              "       [ 31.3],\n",
              "       [ 38.1],\n",
              "       [ 62.1],\n",
              "       [ 36.7],\n",
              "       [ 23.6],\n",
              "       [ 19.2],\n",
              "       [ 12.8],\n",
              "       [ 15.6],\n",
              "       [ 39.6],\n",
              "       [ 38.4],\n",
              "       [ 22.8],\n",
              "       [ 36.5],\n",
              "       [ 35.6],\n",
              "       [ 30.9],\n",
              "       [ 36.3],\n",
              "       [ 50.4],\n",
              "       [ 42.9],\n",
              "       [ 37. ],\n",
              "       [ 53.5],\n",
              "       [ 46.6],\n",
              "       [ 41.2],\n",
              "       [ 37.9],\n",
              "       [ 30.8],\n",
              "       [ 11.2],\n",
              "       [ 53.7],\n",
              "       [ 47. ],\n",
              "       [ 42.3],\n",
              "       [ 28.6],\n",
              "       [ 25.7],\n",
              "       [ 31.3],\n",
              "       [ 30.1],\n",
              "       [ 60.7],\n",
              "       [ 45.3],\n",
              "       [ 44.9],\n",
              "       [ 45.1],\n",
              "       [ 24.7],\n",
              "       [ 47.1],\n",
              "       [ 63.3],\n",
              "       [ 40. ],\n",
              "       [ 48. ],\n",
              "       [ 33.1],\n",
              "       [ 29.5],\n",
              "       [ 24.8],\n",
              "       [ 20.9],\n",
              "       [ 43.1],\n",
              "       [ 22.8],\n",
              "       [ 42.1],\n",
              "       [ 51.7],\n",
              "       [ 41.5],\n",
              "       [ 52.2],\n",
              "       [ 49.5],\n",
              "       [ 23.8],\n",
              "       [ 30.5],\n",
              "       [ 56.8],\n",
              "       [ 37.4],\n",
              "       [ 69.7],\n",
              "       [ 53.3],\n",
              "       [ 47.3],\n",
              "       [ 29.3],\n",
              "       [ 40.3],\n",
              "       [ 12.9],\n",
              "       [ 46.6],\n",
              "       [ 55.3],\n",
              "       [ 25.6],\n",
              "       [ 27.3],\n",
              "       [ 67.7],\n",
              "       [ 38.6],\n",
              "       [ 31.3],\n",
              "       [ 35.3],\n",
              "       [ 40.3],\n",
              "       [ 24.7],\n",
              "       [ 42.5],\n",
              "       [ 31.9],\n",
              "       [ 32.2],\n",
              "       [ 23. ],\n",
              "       [ 37.3],\n",
              "       [ 35.5],\n",
              "       [ 27.7],\n",
              "       [ 28.5],\n",
              "       [ 39.7],\n",
              "       [ 41.2],\n",
              "       [ 37.2],\n",
              "       [ 40.5],\n",
              "       [ 22.3],\n",
              "       [ 28.1],\n",
              "       [ 15.4],\n",
              "       [ 50. ],\n",
              "       [ 40.6],\n",
              "       [ 52.5],\n",
              "       [ 63.9]])"
            ]
          },
          "metadata": {},
          "execution_count": 74
        }
      ]
    },
    {
      "cell_type": "code",
      "metadata": {
        "colab": {
          "base_uri": "https://localhost:8080/"
        },
        "id": "8VOGKUOLACDZ",
        "outputId": "87b3dcfe-87b3-49f6-c3c8-0acdf6ae8c5e"
      },
      "source": [
        "x.shape"
      ],
      "execution_count": 75,
      "outputs": [
        {
          "output_type": "execute_result",
          "data": {
            "text/plain": [
              "(414, 3)"
            ]
          },
          "metadata": {},
          "execution_count": 75
        }
      ]
    },
    {
      "cell_type": "code",
      "metadata": {
        "colab": {
          "base_uri": "https://localhost:8080/"
        },
        "id": "RzGDCMfHATJi",
        "outputId": "2d7f6cba-4f8b-47fc-a312-35b48920f33d"
      },
      "source": [
        "y.shape"
      ],
      "execution_count": 76,
      "outputs": [
        {
          "output_type": "execute_result",
          "data": {
            "text/plain": [
              "(414, 1)"
            ]
          },
          "metadata": {},
          "execution_count": 76
        }
      ]
    },
    {
      "cell_type": "markdown",
      "metadata": {
        "id": "fYqDWkzs6d42"
      },
      "source": [
        "**split the dataset into train set and test set**"
      ]
    },
    {
      "cell_type": "code",
      "metadata": {
        "id": "coSC5iixAV9V"
      },
      "source": [
        "from sklearn.model_selection import train_test_split\n",
        "x_train, x_test, y_train, y_test=train_test_split(x,y,test_size=0.2,random_state=0)"
      ],
      "execution_count": 77,
      "outputs": []
    },
    {
      "cell_type": "code",
      "metadata": {
        "colab": {
          "base_uri": "https://localhost:8080/"
        },
        "id": "7KoGrLLZ4W63",
        "outputId": "0d3074a4-6205-4349-ad83-4810deeca4d6"
      },
      "source": [
        "print(x_train.shape)\n",
        "print(y_train.shape)\n",
        "print(x_test.shape)\n",
        "print(x_test.shape)"
      ],
      "execution_count": 78,
      "outputs": [
        {
          "output_type": "stream",
          "name": "stdout",
          "text": [
            "(331, 3)\n",
            "(331, 1)\n",
            "(83, 3)\n",
            "(83, 3)\n"
          ]
        }
      ]
    },
    {
      "cell_type": "markdown",
      "metadata": {
        "id": "qQzBnhrr6lYt"
      },
      "source": [
        "**feature scaling**"
      ]
    },
    {
      "cell_type": "code",
      "metadata": {
        "id": "WjTlZIk3A1KK"
      },
      "source": [
        "from sklearn.preprocessing import StandardScaler\n",
        "sc=StandardScaler()\n",
        "x_train=sc.fit_transform(x_train)\n",
        "x_test=sc.fit_transform(x_test)"
      ],
      "execution_count": 79,
      "outputs": []
    },
    {
      "cell_type": "code",
      "metadata": {
        "id": "fM3hp8TBA_yL"
      },
      "source": [
        "from sklearn.svm import SVR\n",
        "sv=SVR()"
      ],
      "execution_count": 80,
      "outputs": []
    },
    {
      "cell_type": "code",
      "metadata": {
        "colab": {
          "base_uri": "https://localhost:8080/"
        },
        "id": "wv2c2mSnBQII",
        "outputId": "bd7d3364-1c20-4c2d-eefd-90c0e2ddd9ce"
      },
      "source": [
        "sv.fit(x_train,y_train)"
      ],
      "execution_count": 81,
      "outputs": [
        {
          "output_type": "stream",
          "name": "stderr",
          "text": [
            "/usr/local/lib/python3.7/dist-packages/sklearn/utils/validation.py:760: DataConversionWarning: A column-vector y was passed when a 1d array was expected. Please change the shape of y to (n_samples, ), for example using ravel().\n",
            "  y = column_or_1d(y, warn=True)\n"
          ]
        },
        {
          "output_type": "execute_result",
          "data": {
            "text/plain": [
              "SVR(C=1.0, cache_size=200, coef0=0.0, degree=3, epsilon=0.1, gamma='scale',\n",
              "    kernel='rbf', max_iter=-1, shrinking=True, tol=0.001, verbose=False)"
            ]
          },
          "metadata": {},
          "execution_count": 81
        }
      ]
    },
    {
      "cell_type": "code",
      "metadata": {
        "id": "BAgLJb_QBXrE"
      },
      "source": [
        "y_pred=sv.predict(x_test)"
      ],
      "execution_count": 82,
      "outputs": []
    },
    {
      "cell_type": "code",
      "metadata": {
        "colab": {
          "base_uri": "https://localhost:8080/"
        },
        "id": "b50Mzhg4Bdkq",
        "outputId": "d30d720b-5a64-43db-d55e-d0a0f8116a0a"
      },
      "source": [
        "y_pred"
      ],
      "execution_count": 83,
      "outputs": [
        {
          "output_type": "execute_result",
          "data": {
            "text/plain": [
              "array([38.18392798, 21.50907854, 37.88181756, 21.77665373, 37.00089214,\n",
              "       38.41668009, 38.93016526, 33.11009919, 47.82261063, 41.50077685,\n",
              "       46.88727364, 43.59442461, 37.49577065, 39.21217417, 47.8287283 ,\n",
              "       33.88472516, 38.20360313, 39.0754485 , 42.68187511, 39.51094641,\n",
              "       49.5965949 , 29.78633551, 33.58626666, 42.64186592, 45.44325192,\n",
              "       45.42056042, 44.30991951, 25.77665259, 45.61492098, 22.8419314 ,\n",
              "       46.12867657, 30.6564031 , 40.00137749, 33.158006  , 44.5582463 ,\n",
              "       29.69732991, 40.30140792, 33.50512434, 47.95991467, 28.09990105,\n",
              "       47.82341716, 33.69402363, 29.27740591, 40.51266156, 20.82314014,\n",
              "       47.09961989, 39.45568607, 20.92145952, 26.87302589, 49.47932886,\n",
              "       49.60477511, 37.45806058, 44.67791957, 27.33370084, 29.83103295,\n",
              "       35.01201455, 45.78768728, 37.38815464, 47.05810272, 30.77967448,\n",
              "       38.11396897, 39.03100801, 35.60380473, 48.00875216, 38.53233061,\n",
              "       23.64729626, 22.561835  , 28.69099269, 45.80388259, 38.41668009,\n",
              "       29.2984838 , 45.66209231, 39.47651831, 25.86213542, 35.84800606,\n",
              "       30.11628177, 28.39388507, 22.58855096, 42.50521266, 35.04323978,\n",
              "       42.15786473, 28.6428966 , 37.80929824])"
            ]
          },
          "metadata": {},
          "execution_count": 83
        }
      ]
    },
    {
      "cell_type": "code",
      "metadata": {
        "colab": {
          "base_uri": "https://localhost:8080/"
        },
        "id": "TQRRf_v_Bg7e",
        "outputId": "9c35d9d1-eee0-484e-95c9-137ad7e835e0"
      },
      "source": [
        "from sklearn.metrics import r2_score\n",
        "r2_score(y_test, y_pred)"
      ],
      "execution_count": 84,
      "outputs": [
        {
          "output_type": "execute_result",
          "data": {
            "text/plain": [
              "0.600958247830944"
            ]
          },
          "metadata": {},
          "execution_count": 84
        }
      ]
    },
    {
      "cell_type": "code",
      "metadata": {
        "id": "6Q5yYQXTBlzD",
        "colab": {
          "base_uri": "https://localhost:8080/"
        },
        "outputId": "cd114f9a-a14d-4c80-ef3a-5f7639ee143f"
      },
      "source": [
        "y_pred=sv.predict(sc.transform(([[7.0,390.56840,10]])))\n",
        "y_pred"
      ],
      "execution_count": 85,
      "outputs": [
        {
          "output_type": "execute_result",
          "data": {
            "text/plain": [
              "array([47.91586261])"
            ]
          },
          "metadata": {},
          "execution_count": 85
        }
      ]
    },
    {
      "cell_type": "markdown",
      "metadata": {
        "id": "DhpzfLwz6y9r"
      },
      "source": [
        "**parameter tuning**"
      ]
    },
    {
      "cell_type": "code",
      "metadata": {
        "id": "JjkQKXdBEUci"
      },
      "source": [
        "from sklearn.model_selection import GridSearchCV"
      ],
      "execution_count": 86,
      "outputs": []
    },
    {
      "cell_type": "code",
      "metadata": {
        "id": "0dNIc5-9G2xp"
      },
      "source": [
        "#define parameter range\n",
        "param_grid={'C':[0.1,1,10,100,1000],\n",
        "            'gamma':[1,0.1,0.01,0.001,0.0001], #curve is high, gamma value are high\n",
        "            'kernel':['rbf','sigmoid']}"
      ],
      "execution_count": 87,
      "outputs": []
    },
    {
      "cell_type": "code",
      "metadata": {
        "colab": {
          "base_uri": "https://localhost:8080/"
        },
        "id": "mDUOvQGtG6gW",
        "outputId": "9a1d4384-f805-48b8-ee5b-be6cea3cb354"
      },
      "source": [
        "grid=GridSearchCV(SVR(),param_grid,refit=True,verbose=3)\n",
        "grid.fit(x_train,y_train)"
      ],
      "execution_count": 88,
      "outputs": [
        {
          "output_type": "stream",
          "name": "stdout",
          "text": [
            "Fitting 5 folds for each of 50 candidates, totalling 250 fits\n",
            "[CV] C=0.1, gamma=1, kernel=rbf ......................................\n",
            "[CV] .......... C=0.1, gamma=1, kernel=rbf, score=0.157, total=   0.0s\n",
            "[CV] C=0.1, gamma=1, kernel=rbf ......................................\n",
            "[CV] .......... C=0.1, gamma=1, kernel=rbf, score=0.157, total=   0.0s\n",
            "[CV] C=0.1, gamma=1, kernel=rbf ......................................\n",
            "[CV] .......... C=0.1, gamma=1, kernel=rbf, score=0.183, total=   0.0s\n",
            "[CV] C=0.1, gamma=1, kernel=rbf ......................................\n",
            "[CV] .......... C=0.1, gamma=1, kernel=rbf, score=0.125, total=   0.0s\n",
            "[CV] C=0.1, gamma=1, kernel=rbf ......................................\n",
            "[CV] .......... C=0.1, gamma=1, kernel=rbf, score=0.147, total=   0.0s\n",
            "[CV] C=0.1, gamma=1, kernel=sigmoid ..................................\n",
            "[CV] ...... C=0.1, gamma=1, kernel=sigmoid, score=0.440, total=   0.0s\n",
            "[CV] C=0.1, gamma=1, kernel=sigmoid ..................................\n",
            "[CV] ...... C=0.1, gamma=1, kernel=sigmoid, score=0.522, total=   0.0s\n",
            "[CV] C=0.1, gamma=1, kernel=sigmoid ..................................\n",
            "[CV] ...... C=0.1, gamma=1, kernel=sigmoid, score=0.488, total=   0.0s\n",
            "[CV] C=0.1, gamma=1, kernel=sigmoid ..................................\n",
            "[CV] ...... C=0.1, gamma=1, kernel=sigmoid, score=0.323, total=   0.0s\n",
            "[CV] C=0.1, gamma=1, kernel=sigmoid ..................................\n",
            "[CV] ...... C=0.1, gamma=1, kernel=sigmoid, score=0.349, total=   0.0s\n",
            "[CV] C=0.1, gamma=0.1, kernel=rbf ....................................\n",
            "[CV] ........ C=0.1, gamma=0.1, kernel=rbf, score=0.209, total=   0.0s\n",
            "[CV] C=0.1, gamma=0.1, kernel=rbf ....................................\n",
            "[CV] ........ C=0.1, gamma=0.1, kernel=rbf, score=0.232, total=   0.0s\n",
            "[CV] C=0.1, gamma=0.1, kernel=rbf ....................................\n",
            "[CV] ........ C=0.1, gamma=0.1, kernel=rbf, score=0.227, total=   0.0s\n",
            "[CV] C=0.1, gamma=0.1, kernel=rbf ....................................\n",
            "[CV] ........ C=0.1, gamma=0.1, kernel=rbf, score=0.148, total=   0.0s\n",
            "[CV] C=0.1, gamma=0.1, kernel=rbf ....................................\n",
            "[CV] ........ C=0.1, gamma=0.1, kernel=rbf, score=0.193, total=   0.0s\n",
            "[CV] C=0.1, gamma=0.1, kernel=sigmoid ................................\n",
            "[CV] .... C=0.1, gamma=0.1, kernel=sigmoid, score=0.216, total=   0.0s\n",
            "[CV] C=0.1, gamma=0.1, kernel=sigmoid ................................\n",
            "[CV] .... C=0.1, gamma=0.1, kernel=sigmoid, score=0.261, total=   0.0s\n",
            "[CV] C=0.1, gamma=0.1, kernel=sigmoid ................................\n",
            "[CV] .... C=0.1, gamma=0.1, kernel=sigmoid, score=0.233, total=   0.0s\n",
            "[CV] C=0.1, gamma=0.1, kernel=sigmoid ................................\n",
            "[CV] .... C=0.1, gamma=0.1, kernel=sigmoid, score=0.148, total=   0.0s\n",
            "[CV] C=0.1, gamma=0.1, kernel=sigmoid ................................\n",
            "[CV] .... C=0.1, gamma=0.1, kernel=sigmoid, score=0.192, total=   0.0s\n",
            "[CV] C=0.1, gamma=0.01, kernel=rbf ...................................\n",
            "[CV] ....... C=0.1, gamma=0.01, kernel=rbf, score=0.038, total=   0.0s\n",
            "[CV] C=0.1, gamma=0.01, kernel=rbf ...................................\n",
            "[CV] ....... C=0.1, gamma=0.01, kernel=rbf, score=0.051, total=   0.0s\n",
            "[CV] C=0.1, gamma=0.01, kernel=rbf ...................................\n",
            "[CV] ....... C=0.1, gamma=0.01, kernel=rbf, score=0.049, total=   0.0s\n",
            "[CV] C=0.1, gamma=0.01, kernel=rbf ...................................\n",
            "[CV] ....... C=0.1, gamma=0.01, kernel=rbf, score=0.031, total=   0.0s\n",
            "[CV] C=0.1, gamma=0.01, kernel=rbf ...................................\n"
          ]
        },
        {
          "output_type": "stream",
          "name": "stderr",
          "text": [
            "[Parallel(n_jobs=1)]: Using backend SequentialBackend with 1 concurrent workers.\n",
            "/usr/local/lib/python3.7/dist-packages/sklearn/utils/validation.py:760: DataConversionWarning: A column-vector y was passed when a 1d array was expected. Please change the shape of y to (n_samples, ), for example using ravel().\n",
            "  y = column_or_1d(y, warn=True)\n",
            "[Parallel(n_jobs=1)]: Done   1 out of   1 | elapsed:    0.0s remaining:    0.0s\n",
            "/usr/local/lib/python3.7/dist-packages/sklearn/utils/validation.py:760: DataConversionWarning: A column-vector y was passed when a 1d array was expected. Please change the shape of y to (n_samples, ), for example using ravel().\n",
            "  y = column_or_1d(y, warn=True)\n",
            "[Parallel(n_jobs=1)]: Done   2 out of   2 | elapsed:    0.0s remaining:    0.0s\n",
            "/usr/local/lib/python3.7/dist-packages/sklearn/utils/validation.py:760: DataConversionWarning: A column-vector y was passed when a 1d array was expected. Please change the shape of y to (n_samples, ), for example using ravel().\n",
            "  y = column_or_1d(y, warn=True)\n",
            "/usr/local/lib/python3.7/dist-packages/sklearn/utils/validation.py:760: DataConversionWarning: A column-vector y was passed when a 1d array was expected. Please change the shape of y to (n_samples, ), for example using ravel().\n",
            "  y = column_or_1d(y, warn=True)\n",
            "/usr/local/lib/python3.7/dist-packages/sklearn/utils/validation.py:760: DataConversionWarning: A column-vector y was passed when a 1d array was expected. Please change the shape of y to (n_samples, ), for example using ravel().\n",
            "  y = column_or_1d(y, warn=True)\n",
            "/usr/local/lib/python3.7/dist-packages/sklearn/utils/validation.py:760: DataConversionWarning: A column-vector y was passed when a 1d array was expected. Please change the shape of y to (n_samples, ), for example using ravel().\n",
            "  y = column_or_1d(y, warn=True)\n",
            "/usr/local/lib/python3.7/dist-packages/sklearn/utils/validation.py:760: DataConversionWarning: A column-vector y was passed when a 1d array was expected. Please change the shape of y to (n_samples, ), for example using ravel().\n",
            "  y = column_or_1d(y, warn=True)\n",
            "/usr/local/lib/python3.7/dist-packages/sklearn/utils/validation.py:760: DataConversionWarning: A column-vector y was passed when a 1d array was expected. Please change the shape of y to (n_samples, ), for example using ravel().\n",
            "  y = column_or_1d(y, warn=True)\n",
            "/usr/local/lib/python3.7/dist-packages/sklearn/utils/validation.py:760: DataConversionWarning: A column-vector y was passed when a 1d array was expected. Please change the shape of y to (n_samples, ), for example using ravel().\n",
            "  y = column_or_1d(y, warn=True)\n",
            "/usr/local/lib/python3.7/dist-packages/sklearn/utils/validation.py:760: DataConversionWarning: A column-vector y was passed when a 1d array was expected. Please change the shape of y to (n_samples, ), for example using ravel().\n",
            "  y = column_or_1d(y, warn=True)\n",
            "/usr/local/lib/python3.7/dist-packages/sklearn/utils/validation.py:760: DataConversionWarning: A column-vector y was passed when a 1d array was expected. Please change the shape of y to (n_samples, ), for example using ravel().\n",
            "  y = column_or_1d(y, warn=True)\n",
            "/usr/local/lib/python3.7/dist-packages/sklearn/utils/validation.py:760: DataConversionWarning: A column-vector y was passed when a 1d array was expected. Please change the shape of y to (n_samples, ), for example using ravel().\n",
            "  y = column_or_1d(y, warn=True)\n",
            "/usr/local/lib/python3.7/dist-packages/sklearn/utils/validation.py:760: DataConversionWarning: A column-vector y was passed when a 1d array was expected. Please change the shape of y to (n_samples, ), for example using ravel().\n",
            "  y = column_or_1d(y, warn=True)\n",
            "/usr/local/lib/python3.7/dist-packages/sklearn/utils/validation.py:760: DataConversionWarning: A column-vector y was passed when a 1d array was expected. Please change the shape of y to (n_samples, ), for example using ravel().\n",
            "  y = column_or_1d(y, warn=True)\n",
            "/usr/local/lib/python3.7/dist-packages/sklearn/utils/validation.py:760: DataConversionWarning: A column-vector y was passed when a 1d array was expected. Please change the shape of y to (n_samples, ), for example using ravel().\n",
            "  y = column_or_1d(y, warn=True)\n",
            "/usr/local/lib/python3.7/dist-packages/sklearn/utils/validation.py:760: DataConversionWarning: A column-vector y was passed when a 1d array was expected. Please change the shape of y to (n_samples, ), for example using ravel().\n",
            "  y = column_or_1d(y, warn=True)\n",
            "/usr/local/lib/python3.7/dist-packages/sklearn/utils/validation.py:760: DataConversionWarning: A column-vector y was passed when a 1d array was expected. Please change the shape of y to (n_samples, ), for example using ravel().\n",
            "  y = column_or_1d(y, warn=True)\n",
            "/usr/local/lib/python3.7/dist-packages/sklearn/utils/validation.py:760: DataConversionWarning: A column-vector y was passed when a 1d array was expected. Please change the shape of y to (n_samples, ), for example using ravel().\n",
            "  y = column_or_1d(y, warn=True)\n",
            "/usr/local/lib/python3.7/dist-packages/sklearn/utils/validation.py:760: DataConversionWarning: A column-vector y was passed when a 1d array was expected. Please change the shape of y to (n_samples, ), for example using ravel().\n",
            "  y = column_or_1d(y, warn=True)\n",
            "/usr/local/lib/python3.7/dist-packages/sklearn/utils/validation.py:760: DataConversionWarning: A column-vector y was passed when a 1d array was expected. Please change the shape of y to (n_samples, ), for example using ravel().\n",
            "  y = column_or_1d(y, warn=True)\n",
            "/usr/local/lib/python3.7/dist-packages/sklearn/utils/validation.py:760: DataConversionWarning: A column-vector y was passed when a 1d array was expected. Please change the shape of y to (n_samples, ), for example using ravel().\n",
            "  y = column_or_1d(y, warn=True)\n",
            "/usr/local/lib/python3.7/dist-packages/sklearn/utils/validation.py:760: DataConversionWarning: A column-vector y was passed when a 1d array was expected. Please change the shape of y to (n_samples, ), for example using ravel().\n",
            "  y = column_or_1d(y, warn=True)\n",
            "/usr/local/lib/python3.7/dist-packages/sklearn/utils/validation.py:760: DataConversionWarning: A column-vector y was passed when a 1d array was expected. Please change the shape of y to (n_samples, ), for example using ravel().\n",
            "  y = column_or_1d(y, warn=True)\n",
            "/usr/local/lib/python3.7/dist-packages/sklearn/utils/validation.py:760: DataConversionWarning: A column-vector y was passed when a 1d array was expected. Please change the shape of y to (n_samples, ), for example using ravel().\n",
            "  y = column_or_1d(y, warn=True)\n",
            "/usr/local/lib/python3.7/dist-packages/sklearn/utils/validation.py:760: DataConversionWarning: A column-vector y was passed when a 1d array was expected. Please change the shape of y to (n_samples, ), for example using ravel().\n",
            "  y = column_or_1d(y, warn=True)\n"
          ]
        },
        {
          "output_type": "stream",
          "name": "stdout",
          "text": [
            "[CV] ....... C=0.1, gamma=0.01, kernel=rbf, score=0.033, total=   0.0s\n",
            "[CV] C=0.1, gamma=0.01, kernel=sigmoid ...............................\n",
            "[CV] ... C=0.1, gamma=0.01, kernel=sigmoid, score=0.016, total=   0.0s\n",
            "[CV] C=0.1, gamma=0.01, kernel=sigmoid ...............................\n",
            "[CV] ... C=0.1, gamma=0.01, kernel=sigmoid, score=0.023, total=   0.0s\n",
            "[CV] C=0.1, gamma=0.01, kernel=sigmoid ...............................\n",
            "[CV] ... C=0.1, gamma=0.01, kernel=sigmoid, score=0.025, total=   0.0s\n",
            "[CV] C=0.1, gamma=0.01, kernel=sigmoid ...............................\n",
            "[CV] ... C=0.1, gamma=0.01, kernel=sigmoid, score=0.015, total=   0.0s\n",
            "[CV] C=0.1, gamma=0.01, kernel=sigmoid ...............................\n",
            "[CV] ... C=0.1, gamma=0.01, kernel=sigmoid, score=0.012, total=   0.0s\n",
            "[CV] C=0.1, gamma=0.001, kernel=rbf ..................................\n",
            "[CV] ..... C=0.1, gamma=0.001, kernel=rbf, score=-0.005, total=   0.0s\n",
            "[CV] C=0.1, gamma=0.001, kernel=rbf ..................................\n",
            "[CV] ..... C=0.1, gamma=0.001, kernel=rbf, score=-0.004, total=   0.0s\n",
            "[CV] C=0.1, gamma=0.001, kernel=rbf ..................................\n",
            "[CV] ...... C=0.1, gamma=0.001, kernel=rbf, score=0.001, total=   0.0s\n",
            "[CV] C=0.1, gamma=0.001, kernel=rbf ..................................\n",
            "[CV] ..... C=0.1, gamma=0.001, kernel=rbf, score=-0.000, total=   0.0s\n",
            "[CV] C=0.1, gamma=0.001, kernel=rbf ..................................\n",
            "[CV] ..... C=0.1, gamma=0.001, kernel=rbf, score=-0.007, total=   0.0s\n",
            "[CV] C=0.1, gamma=0.001, kernel=sigmoid ..............................\n",
            "[CV] . C=0.1, gamma=0.001, kernel=sigmoid, score=-0.008, total=   0.0s\n",
            "[CV] C=0.1, gamma=0.001, kernel=sigmoid ..............................\n",
            "[CV] . C=0.1, gamma=0.001, kernel=sigmoid, score=-0.008, total=   0.0s\n",
            "[CV] C=0.1, gamma=0.001, kernel=sigmoid ..............................\n",
            "[CV] . C=0.1, gamma=0.001, kernel=sigmoid, score=-0.002, total=   0.0s\n",
            "[CV] C=0.1, gamma=0.001, kernel=sigmoid ..............................\n",
            "[CV] . C=0.1, gamma=0.001, kernel=sigmoid, score=-0.002, total=   0.0s\n",
            "[CV] C=0.1, gamma=0.001, kernel=sigmoid ..............................\n",
            "[CV] . C=0.1, gamma=0.001, kernel=sigmoid, score=-0.010, total=   0.0s\n",
            "[CV] C=0.1, gamma=0.0001, kernel=rbf .................................\n",
            "[CV] .... C=0.1, gamma=0.0001, kernel=rbf, score=-0.011, total=   0.0s\n",
            "[CV] C=0.1, gamma=0.0001, kernel=rbf .................................\n",
            "[CV] .... C=0.1, gamma=0.0001, kernel=rbf, score=-0.011, total=   0.0s\n",
            "[CV] C=0.1, gamma=0.0001, kernel=rbf .................................\n",
            "[CV] .... C=0.1, gamma=0.0001, kernel=rbf, score=-0.004, total=   0.0s\n",
            "[CV] C=0.1, gamma=0.0001, kernel=rbf .................................\n",
            "[CV] .... C=0.1, gamma=0.0001, kernel=rbf, score=-0.004, total=   0.0s\n",
            "[CV] C=0.1, gamma=0.0001, kernel=rbf .................................\n",
            "[CV] .... C=0.1, gamma=0.0001, kernel=rbf, score=-0.012, total=   0.0s\n",
            "[CV] C=0.1, gamma=0.0001, kernel=sigmoid .............................\n",
            "[CV]  C=0.1, gamma=0.0001, kernel=sigmoid, score=-0.011, total=   0.0s\n",
            "[CV] C=0.1, gamma=0.0001, kernel=sigmoid .............................\n",
            "[CV]  C=0.1, gamma=0.0001, kernel=sigmoid, score=-0.011, total=   0.0s\n",
            "[CV] C=0.1, gamma=0.0001, kernel=sigmoid .............................\n",
            "[CV]  C=0.1, gamma=0.0001, kernel=sigmoid, score=-0.004, total=   0.0s\n",
            "[CV] C=0.1, gamma=0.0001, kernel=sigmoid .............................\n",
            "[CV]  C=0.1, gamma=0.0001, kernel=sigmoid, score=-0.004, total=   0.0s\n",
            "[CV] C=0.1, gamma=0.0001, kernel=sigmoid .............................\n",
            "[CV]  C=0.1, gamma=0.0001, kernel=sigmoid, score=-0.013, total=   0.0s\n",
            "[CV] C=1, gamma=1, kernel=rbf ........................................\n"
          ]
        },
        {
          "output_type": "stream",
          "name": "stderr",
          "text": [
            "/usr/local/lib/python3.7/dist-packages/sklearn/utils/validation.py:760: DataConversionWarning: A column-vector y was passed when a 1d array was expected. Please change the shape of y to (n_samples, ), for example using ravel().\n",
            "  y = column_or_1d(y, warn=True)\n",
            "/usr/local/lib/python3.7/dist-packages/sklearn/utils/validation.py:760: DataConversionWarning: A column-vector y was passed when a 1d array was expected. Please change the shape of y to (n_samples, ), for example using ravel().\n",
            "  y = column_or_1d(y, warn=True)\n",
            "/usr/local/lib/python3.7/dist-packages/sklearn/utils/validation.py:760: DataConversionWarning: A column-vector y was passed when a 1d array was expected. Please change the shape of y to (n_samples, ), for example using ravel().\n",
            "  y = column_or_1d(y, warn=True)\n",
            "/usr/local/lib/python3.7/dist-packages/sklearn/utils/validation.py:760: DataConversionWarning: A column-vector y was passed when a 1d array was expected. Please change the shape of y to (n_samples, ), for example using ravel().\n",
            "  y = column_or_1d(y, warn=True)\n",
            "/usr/local/lib/python3.7/dist-packages/sklearn/utils/validation.py:760: DataConversionWarning: A column-vector y was passed when a 1d array was expected. Please change the shape of y to (n_samples, ), for example using ravel().\n",
            "  y = column_or_1d(y, warn=True)\n",
            "/usr/local/lib/python3.7/dist-packages/sklearn/utils/validation.py:760: DataConversionWarning: A column-vector y was passed when a 1d array was expected. Please change the shape of y to (n_samples, ), for example using ravel().\n",
            "  y = column_or_1d(y, warn=True)\n",
            "/usr/local/lib/python3.7/dist-packages/sklearn/utils/validation.py:760: DataConversionWarning: A column-vector y was passed when a 1d array was expected. Please change the shape of y to (n_samples, ), for example using ravel().\n",
            "  y = column_or_1d(y, warn=True)\n",
            "/usr/local/lib/python3.7/dist-packages/sklearn/utils/validation.py:760: DataConversionWarning: A column-vector y was passed when a 1d array was expected. Please change the shape of y to (n_samples, ), for example using ravel().\n",
            "  y = column_or_1d(y, warn=True)\n",
            "/usr/local/lib/python3.7/dist-packages/sklearn/utils/validation.py:760: DataConversionWarning: A column-vector y was passed when a 1d array was expected. Please change the shape of y to (n_samples, ), for example using ravel().\n",
            "  y = column_or_1d(y, warn=True)\n",
            "/usr/local/lib/python3.7/dist-packages/sklearn/utils/validation.py:760: DataConversionWarning: A column-vector y was passed when a 1d array was expected. Please change the shape of y to (n_samples, ), for example using ravel().\n",
            "  y = column_or_1d(y, warn=True)\n",
            "/usr/local/lib/python3.7/dist-packages/sklearn/utils/validation.py:760: DataConversionWarning: A column-vector y was passed when a 1d array was expected. Please change the shape of y to (n_samples, ), for example using ravel().\n",
            "  y = column_or_1d(y, warn=True)\n",
            "/usr/local/lib/python3.7/dist-packages/sklearn/utils/validation.py:760: DataConversionWarning: A column-vector y was passed when a 1d array was expected. Please change the shape of y to (n_samples, ), for example using ravel().\n",
            "  y = column_or_1d(y, warn=True)\n",
            "/usr/local/lib/python3.7/dist-packages/sklearn/utils/validation.py:760: DataConversionWarning: A column-vector y was passed when a 1d array was expected. Please change the shape of y to (n_samples, ), for example using ravel().\n",
            "  y = column_or_1d(y, warn=True)\n",
            "/usr/local/lib/python3.7/dist-packages/sklearn/utils/validation.py:760: DataConversionWarning: A column-vector y was passed when a 1d array was expected. Please change the shape of y to (n_samples, ), for example using ravel().\n",
            "  y = column_or_1d(y, warn=True)\n",
            "/usr/local/lib/python3.7/dist-packages/sklearn/utils/validation.py:760: DataConversionWarning: A column-vector y was passed when a 1d array was expected. Please change the shape of y to (n_samples, ), for example using ravel().\n",
            "  y = column_or_1d(y, warn=True)\n",
            "/usr/local/lib/python3.7/dist-packages/sklearn/utils/validation.py:760: DataConversionWarning: A column-vector y was passed when a 1d array was expected. Please change the shape of y to (n_samples, ), for example using ravel().\n",
            "  y = column_or_1d(y, warn=True)\n",
            "/usr/local/lib/python3.7/dist-packages/sklearn/utils/validation.py:760: DataConversionWarning: A column-vector y was passed when a 1d array was expected. Please change the shape of y to (n_samples, ), for example using ravel().\n",
            "  y = column_or_1d(y, warn=True)\n",
            "/usr/local/lib/python3.7/dist-packages/sklearn/utils/validation.py:760: DataConversionWarning: A column-vector y was passed when a 1d array was expected. Please change the shape of y to (n_samples, ), for example using ravel().\n",
            "  y = column_or_1d(y, warn=True)\n",
            "/usr/local/lib/python3.7/dist-packages/sklearn/utils/validation.py:760: DataConversionWarning: A column-vector y was passed when a 1d array was expected. Please change the shape of y to (n_samples, ), for example using ravel().\n",
            "  y = column_or_1d(y, warn=True)\n",
            "/usr/local/lib/python3.7/dist-packages/sklearn/utils/validation.py:760: DataConversionWarning: A column-vector y was passed when a 1d array was expected. Please change the shape of y to (n_samples, ), for example using ravel().\n",
            "  y = column_or_1d(y, warn=True)\n",
            "/usr/local/lib/python3.7/dist-packages/sklearn/utils/validation.py:760: DataConversionWarning: A column-vector y was passed when a 1d array was expected. Please change the shape of y to (n_samples, ), for example using ravel().\n",
            "  y = column_or_1d(y, warn=True)\n",
            "/usr/local/lib/python3.7/dist-packages/sklearn/utils/validation.py:760: DataConversionWarning: A column-vector y was passed when a 1d array was expected. Please change the shape of y to (n_samples, ), for example using ravel().\n",
            "  y = column_or_1d(y, warn=True)\n",
            "/usr/local/lib/python3.7/dist-packages/sklearn/utils/validation.py:760: DataConversionWarning: A column-vector y was passed when a 1d array was expected. Please change the shape of y to (n_samples, ), for example using ravel().\n",
            "  y = column_or_1d(y, warn=True)\n",
            "/usr/local/lib/python3.7/dist-packages/sklearn/utils/validation.py:760: DataConversionWarning: A column-vector y was passed when a 1d array was expected. Please change the shape of y to (n_samples, ), for example using ravel().\n",
            "  y = column_or_1d(y, warn=True)\n",
            "/usr/local/lib/python3.7/dist-packages/sklearn/utils/validation.py:760: DataConversionWarning: A column-vector y was passed when a 1d array was expected. Please change the shape of y to (n_samples, ), for example using ravel().\n",
            "  y = column_or_1d(y, warn=True)\n",
            "/usr/local/lib/python3.7/dist-packages/sklearn/utils/validation.py:760: DataConversionWarning: A column-vector y was passed when a 1d array was expected. Please change the shape of y to (n_samples, ), for example using ravel().\n",
            "  y = column_or_1d(y, warn=True)\n",
            "/usr/local/lib/python3.7/dist-packages/sklearn/utils/validation.py:760: DataConversionWarning: A column-vector y was passed when a 1d array was expected. Please change the shape of y to (n_samples, ), for example using ravel().\n",
            "  y = column_or_1d(y, warn=True)\n"
          ]
        },
        {
          "output_type": "stream",
          "name": "stdout",
          "text": [
            "[CV] ............ C=1, gamma=1, kernel=rbf, score=0.482, total=   0.0s\n",
            "[CV] C=1, gamma=1, kernel=rbf ........................................\n",
            "[CV] ............ C=1, gamma=1, kernel=rbf, score=0.516, total=   0.0s\n",
            "[CV] C=1, gamma=1, kernel=rbf ........................................\n",
            "[CV] ............ C=1, gamma=1, kernel=rbf, score=0.578, total=   0.0s\n",
            "[CV] C=1, gamma=1, kernel=rbf ........................................\n",
            "[CV] ............ C=1, gamma=1, kernel=rbf, score=0.374, total=   0.0s\n",
            "[CV] C=1, gamma=1, kernel=rbf ........................................\n",
            "[CV] ............ C=1, gamma=1, kernel=rbf, score=0.481, total=   0.0s\n",
            "[CV] C=1, gamma=1, kernel=sigmoid ....................................\n",
            "[CV] ....... C=1, gamma=1, kernel=sigmoid, score=-1.335, total=   0.0s\n",
            "[CV] C=1, gamma=1, kernel=sigmoid ....................................\n",
            "[CV] ....... C=1, gamma=1, kernel=sigmoid, score=-1.472, total=   0.0s\n",
            "[CV] C=1, gamma=1, kernel=sigmoid ....................................\n",
            "[CV] ....... C=1, gamma=1, kernel=sigmoid, score=-1.193, total=   0.0s\n",
            "[CV] C=1, gamma=1, kernel=sigmoid ....................................\n",
            "[CV] ....... C=1, gamma=1, kernel=sigmoid, score=-0.971, total=   0.0s\n",
            "[CV] C=1, gamma=1, kernel=sigmoid ....................................\n",
            "[CV] ....... C=1, gamma=1, kernel=sigmoid, score=-1.920, total=   0.0s\n",
            "[CV] C=1, gamma=0.1, kernel=rbf ......................................\n",
            "[CV] .......... C=1, gamma=0.1, kernel=rbf, score=0.512, total=   0.0s\n",
            "[CV] C=1, gamma=0.1, kernel=rbf ......................................\n",
            "[CV] .......... C=1, gamma=0.1, kernel=rbf, score=0.629, total=   0.0s\n",
            "[CV] C=1, gamma=0.1, kernel=rbf ......................................\n",
            "[CV] .......... C=1, gamma=0.1, kernel=rbf, score=0.598, total=   0.0s\n",
            "[CV] C=1, gamma=0.1, kernel=rbf ......................................\n",
            "[CV] .......... C=1, gamma=0.1, kernel=rbf, score=0.361, total=   0.0s\n",
            "[CV] C=1, gamma=0.1, kernel=rbf ......................................\n",
            "[CV] .......... C=1, gamma=0.1, kernel=rbf, score=0.490, total=   0.0s\n",
            "[CV] C=1, gamma=0.1, kernel=sigmoid ..................................\n",
            "[CV] ...... C=1, gamma=0.1, kernel=sigmoid, score=0.487, total=   0.0s\n",
            "[CV] C=1, gamma=0.1, kernel=sigmoid ..................................\n",
            "[CV] ...... C=1, gamma=0.1, kernel=sigmoid, score=0.612, total=   0.0s\n",
            "[CV] C=1, gamma=0.1, kernel=sigmoid ..................................\n",
            "[CV] ...... C=1, gamma=0.1, kernel=sigmoid, score=0.565, total=   0.0s\n",
            "[CV] C=1, gamma=0.1, kernel=sigmoid ..................................\n",
            "[CV] ...... C=1, gamma=0.1, kernel=sigmoid, score=0.321, total=   0.0s\n",
            "[CV] C=1, gamma=0.1, kernel=sigmoid ..................................\n",
            "[CV] ...... C=1, gamma=0.1, kernel=sigmoid, score=0.459, total=   0.0s\n",
            "[CV] C=1, gamma=0.01, kernel=rbf .....................................\n",
            "[CV] ......... C=1, gamma=0.01, kernel=rbf, score=0.348, total=   0.0s\n",
            "[CV] C=1, gamma=0.01, kernel=rbf .....................................\n",
            "[CV] ......... C=1, gamma=0.01, kernel=rbf, score=0.431, total=   0.0s\n",
            "[CV] C=1, gamma=0.01, kernel=rbf .....................................\n",
            "[CV] ......... C=1, gamma=0.01, kernel=rbf, score=0.384, total=   0.0s\n",
            "[CV] C=1, gamma=0.01, kernel=rbf .....................................\n",
            "[CV] ......... C=1, gamma=0.01, kernel=rbf, score=0.239, total=   0.0s\n",
            "[CV] C=1, gamma=0.01, kernel=rbf .....................................\n",
            "[CV] ......... C=1, gamma=0.01, kernel=rbf, score=0.311, total=   0.0s\n",
            "[CV] C=1, gamma=0.01, kernel=sigmoid .................................\n"
          ]
        },
        {
          "output_type": "stream",
          "name": "stderr",
          "text": [
            "/usr/local/lib/python3.7/dist-packages/sklearn/utils/validation.py:760: DataConversionWarning: A column-vector y was passed when a 1d array was expected. Please change the shape of y to (n_samples, ), for example using ravel().\n",
            "  y = column_or_1d(y, warn=True)\n",
            "/usr/local/lib/python3.7/dist-packages/sklearn/utils/validation.py:760: DataConversionWarning: A column-vector y was passed when a 1d array was expected. Please change the shape of y to (n_samples, ), for example using ravel().\n",
            "  y = column_or_1d(y, warn=True)\n",
            "/usr/local/lib/python3.7/dist-packages/sklearn/utils/validation.py:760: DataConversionWarning: A column-vector y was passed when a 1d array was expected. Please change the shape of y to (n_samples, ), for example using ravel().\n",
            "  y = column_or_1d(y, warn=True)\n",
            "/usr/local/lib/python3.7/dist-packages/sklearn/utils/validation.py:760: DataConversionWarning: A column-vector y was passed when a 1d array was expected. Please change the shape of y to (n_samples, ), for example using ravel().\n",
            "  y = column_or_1d(y, warn=True)\n",
            "/usr/local/lib/python3.7/dist-packages/sklearn/utils/validation.py:760: DataConversionWarning: A column-vector y was passed when a 1d array was expected. Please change the shape of y to (n_samples, ), for example using ravel().\n",
            "  y = column_or_1d(y, warn=True)\n",
            "/usr/local/lib/python3.7/dist-packages/sklearn/utils/validation.py:760: DataConversionWarning: A column-vector y was passed when a 1d array was expected. Please change the shape of y to (n_samples, ), for example using ravel().\n",
            "  y = column_or_1d(y, warn=True)\n",
            "/usr/local/lib/python3.7/dist-packages/sklearn/utils/validation.py:760: DataConversionWarning: A column-vector y was passed when a 1d array was expected. Please change the shape of y to (n_samples, ), for example using ravel().\n",
            "  y = column_or_1d(y, warn=True)\n",
            "/usr/local/lib/python3.7/dist-packages/sklearn/utils/validation.py:760: DataConversionWarning: A column-vector y was passed when a 1d array was expected. Please change the shape of y to (n_samples, ), for example using ravel().\n",
            "  y = column_or_1d(y, warn=True)\n",
            "/usr/local/lib/python3.7/dist-packages/sklearn/utils/validation.py:760: DataConversionWarning: A column-vector y was passed when a 1d array was expected. Please change the shape of y to (n_samples, ), for example using ravel().\n",
            "  y = column_or_1d(y, warn=True)\n",
            "/usr/local/lib/python3.7/dist-packages/sklearn/utils/validation.py:760: DataConversionWarning: A column-vector y was passed when a 1d array was expected. Please change the shape of y to (n_samples, ), for example using ravel().\n",
            "  y = column_or_1d(y, warn=True)\n",
            "/usr/local/lib/python3.7/dist-packages/sklearn/utils/validation.py:760: DataConversionWarning: A column-vector y was passed when a 1d array was expected. Please change the shape of y to (n_samples, ), for example using ravel().\n",
            "  y = column_or_1d(y, warn=True)\n",
            "/usr/local/lib/python3.7/dist-packages/sklearn/utils/validation.py:760: DataConversionWarning: A column-vector y was passed when a 1d array was expected. Please change the shape of y to (n_samples, ), for example using ravel().\n",
            "  y = column_or_1d(y, warn=True)\n",
            "/usr/local/lib/python3.7/dist-packages/sklearn/utils/validation.py:760: DataConversionWarning: A column-vector y was passed when a 1d array was expected. Please change the shape of y to (n_samples, ), for example using ravel().\n",
            "  y = column_or_1d(y, warn=True)\n",
            "/usr/local/lib/python3.7/dist-packages/sklearn/utils/validation.py:760: DataConversionWarning: A column-vector y was passed when a 1d array was expected. Please change the shape of y to (n_samples, ), for example using ravel().\n",
            "  y = column_or_1d(y, warn=True)\n",
            "/usr/local/lib/python3.7/dist-packages/sklearn/utils/validation.py:760: DataConversionWarning: A column-vector y was passed when a 1d array was expected. Please change the shape of y to (n_samples, ), for example using ravel().\n",
            "  y = column_or_1d(y, warn=True)\n",
            "/usr/local/lib/python3.7/dist-packages/sklearn/utils/validation.py:760: DataConversionWarning: A column-vector y was passed when a 1d array was expected. Please change the shape of y to (n_samples, ), for example using ravel().\n",
            "  y = column_or_1d(y, warn=True)\n",
            "/usr/local/lib/python3.7/dist-packages/sklearn/utils/validation.py:760: DataConversionWarning: A column-vector y was passed when a 1d array was expected. Please change the shape of y to (n_samples, ), for example using ravel().\n",
            "  y = column_or_1d(y, warn=True)\n",
            "/usr/local/lib/python3.7/dist-packages/sklearn/utils/validation.py:760: DataConversionWarning: A column-vector y was passed when a 1d array was expected. Please change the shape of y to (n_samples, ), for example using ravel().\n",
            "  y = column_or_1d(y, warn=True)\n",
            "/usr/local/lib/python3.7/dist-packages/sklearn/utils/validation.py:760: DataConversionWarning: A column-vector y was passed when a 1d array was expected. Please change the shape of y to (n_samples, ), for example using ravel().\n",
            "  y = column_or_1d(y, warn=True)\n",
            "/usr/local/lib/python3.7/dist-packages/sklearn/utils/validation.py:760: DataConversionWarning: A column-vector y was passed when a 1d array was expected. Please change the shape of y to (n_samples, ), for example using ravel().\n",
            "  y = column_or_1d(y, warn=True)\n",
            "/usr/local/lib/python3.7/dist-packages/sklearn/utils/validation.py:760: DataConversionWarning: A column-vector y was passed when a 1d array was expected. Please change the shape of y to (n_samples, ), for example using ravel().\n",
            "  y = column_or_1d(y, warn=True)\n",
            "/usr/local/lib/python3.7/dist-packages/sklearn/utils/validation.py:760: DataConversionWarning: A column-vector y was passed when a 1d array was expected. Please change the shape of y to (n_samples, ), for example using ravel().\n",
            "  y = column_or_1d(y, warn=True)\n",
            "/usr/local/lib/python3.7/dist-packages/sklearn/utils/validation.py:760: DataConversionWarning: A column-vector y was passed when a 1d array was expected. Please change the shape of y to (n_samples, ), for example using ravel().\n",
            "  y = column_or_1d(y, warn=True)\n",
            "/usr/local/lib/python3.7/dist-packages/sklearn/utils/validation.py:760: DataConversionWarning: A column-vector y was passed when a 1d array was expected. Please change the shape of y to (n_samples, ), for example using ravel().\n",
            "  y = column_or_1d(y, warn=True)\n"
          ]
        },
        {
          "output_type": "stream",
          "name": "stdout",
          "text": [
            "[CV] ..... C=1, gamma=0.01, kernel=sigmoid, score=0.226, total=   0.0s\n",
            "[CV] C=1, gamma=0.01, kernel=sigmoid .................................\n",
            "[CV] ..... C=1, gamma=0.01, kernel=sigmoid, score=0.275, total=   0.0s\n",
            "[CV] C=1, gamma=0.01, kernel=sigmoid .................................\n",
            "[CV] ..... C=1, gamma=0.01, kernel=sigmoid, score=0.242, total=   0.0s\n",
            "[CV] C=1, gamma=0.01, kernel=sigmoid .................................\n",
            "[CV] ..... C=1, gamma=0.01, kernel=sigmoid, score=0.154, total=   0.0s\n",
            "[CV] C=1, gamma=0.01, kernel=sigmoid .................................\n",
            "[CV] ..... C=1, gamma=0.01, kernel=sigmoid, score=0.200, total=   0.0s\n",
            "[CV] C=1, gamma=0.001, kernel=rbf ....................................\n",
            "[CV] ........ C=1, gamma=0.001, kernel=rbf, score=0.042, total=   0.0s\n",
            "[CV] C=1, gamma=0.001, kernel=rbf ....................................\n",
            "[CV] ........ C=1, gamma=0.001, kernel=rbf, score=0.057, total=   0.0s\n",
            "[CV] C=1, gamma=0.001, kernel=rbf ....................................\n",
            "[CV] ........ C=1, gamma=0.001, kernel=rbf, score=0.053, total=   0.0s\n",
            "[CV] C=1, gamma=0.001, kernel=rbf ....................................\n",
            "[CV] ........ C=1, gamma=0.001, kernel=rbf, score=0.034, total=   0.0s\n",
            "[CV] C=1, gamma=0.001, kernel=rbf ....................................\n",
            "[CV] ........ C=1, gamma=0.001, kernel=rbf, score=0.037, total=   0.0s\n",
            "[CV] C=1, gamma=0.001, kernel=sigmoid ................................\n",
            "[CV] .... C=1, gamma=0.001, kernel=sigmoid, score=0.016, total=   0.0s\n",
            "[CV] C=1, gamma=0.001, kernel=sigmoid ................................\n",
            "[CV] .... C=1, gamma=0.001, kernel=sigmoid, score=0.023, total=   0.0s\n",
            "[CV] C=1, gamma=0.001, kernel=sigmoid ................................\n",
            "[CV] .... C=1, gamma=0.001, kernel=sigmoid, score=0.025, total=   0.0s\n",
            "[CV] C=1, gamma=0.001, kernel=sigmoid ................................\n",
            "[CV] .... C=1, gamma=0.001, kernel=sigmoid, score=0.015, total=   0.0s\n",
            "[CV] C=1, gamma=0.001, kernel=sigmoid ................................\n",
            "[CV] .... C=1, gamma=0.001, kernel=sigmoid, score=0.012, total=   0.0s\n",
            "[CV] C=1, gamma=0.0001, kernel=rbf ...................................\n",
            "[CV] ...... C=1, gamma=0.0001, kernel=rbf, score=-0.005, total=   0.0s\n",
            "[CV] C=1, gamma=0.0001, kernel=rbf ...................................\n",
            "[CV] ...... C=1, gamma=0.0001, kernel=rbf, score=-0.004, total=   0.0s\n",
            "[CV] C=1, gamma=0.0001, kernel=rbf ...................................\n",
            "[CV] ....... C=1, gamma=0.0001, kernel=rbf, score=0.001, total=   0.0s\n",
            "[CV] C=1, gamma=0.0001, kernel=rbf ...................................\n",
            "[CV] ...... C=1, gamma=0.0001, kernel=rbf, score=-0.000, total=   0.0s\n",
            "[CV] C=1, gamma=0.0001, kernel=rbf ...................................\n",
            "[CV] ...... C=1, gamma=0.0001, kernel=rbf, score=-0.007, total=   0.0s\n",
            "[CV] C=1, gamma=0.0001, kernel=sigmoid ...............................\n",
            "[CV] .. C=1, gamma=0.0001, kernel=sigmoid, score=-0.008, total=   0.0s\n",
            "[CV] C=1, gamma=0.0001, kernel=sigmoid ...............................\n",
            "[CV] .. C=1, gamma=0.0001, kernel=sigmoid, score=-0.008, total=   0.0s\n",
            "[CV] C=1, gamma=0.0001, kernel=sigmoid ...............................\n",
            "[CV] .. C=1, gamma=0.0001, kernel=sigmoid, score=-0.002, total=   0.0s\n",
            "[CV] C=1, gamma=0.0001, kernel=sigmoid ...............................\n",
            "[CV] .. C=1, gamma=0.0001, kernel=sigmoid, score=-0.002, total=   0.0s\n",
            "[CV] C=1, gamma=0.0001, kernel=sigmoid ...............................\n"
          ]
        },
        {
          "output_type": "stream",
          "name": "stderr",
          "text": [
            "/usr/local/lib/python3.7/dist-packages/sklearn/utils/validation.py:760: DataConversionWarning: A column-vector y was passed when a 1d array was expected. Please change the shape of y to (n_samples, ), for example using ravel().\n",
            "  y = column_or_1d(y, warn=True)\n",
            "/usr/local/lib/python3.7/dist-packages/sklearn/utils/validation.py:760: DataConversionWarning: A column-vector y was passed when a 1d array was expected. Please change the shape of y to (n_samples, ), for example using ravel().\n",
            "  y = column_or_1d(y, warn=True)\n",
            "/usr/local/lib/python3.7/dist-packages/sklearn/utils/validation.py:760: DataConversionWarning: A column-vector y was passed when a 1d array was expected. Please change the shape of y to (n_samples, ), for example using ravel().\n",
            "  y = column_or_1d(y, warn=True)\n",
            "/usr/local/lib/python3.7/dist-packages/sklearn/utils/validation.py:760: DataConversionWarning: A column-vector y was passed when a 1d array was expected. Please change the shape of y to (n_samples, ), for example using ravel().\n",
            "  y = column_or_1d(y, warn=True)\n",
            "/usr/local/lib/python3.7/dist-packages/sklearn/utils/validation.py:760: DataConversionWarning: A column-vector y was passed when a 1d array was expected. Please change the shape of y to (n_samples, ), for example using ravel().\n",
            "  y = column_or_1d(y, warn=True)\n",
            "/usr/local/lib/python3.7/dist-packages/sklearn/utils/validation.py:760: DataConversionWarning: A column-vector y was passed when a 1d array was expected. Please change the shape of y to (n_samples, ), for example using ravel().\n",
            "  y = column_or_1d(y, warn=True)\n",
            "/usr/local/lib/python3.7/dist-packages/sklearn/utils/validation.py:760: DataConversionWarning: A column-vector y was passed when a 1d array was expected. Please change the shape of y to (n_samples, ), for example using ravel().\n",
            "  y = column_or_1d(y, warn=True)\n",
            "/usr/local/lib/python3.7/dist-packages/sklearn/utils/validation.py:760: DataConversionWarning: A column-vector y was passed when a 1d array was expected. Please change the shape of y to (n_samples, ), for example using ravel().\n",
            "  y = column_or_1d(y, warn=True)\n",
            "/usr/local/lib/python3.7/dist-packages/sklearn/utils/validation.py:760: DataConversionWarning: A column-vector y was passed when a 1d array was expected. Please change the shape of y to (n_samples, ), for example using ravel().\n",
            "  y = column_or_1d(y, warn=True)\n",
            "/usr/local/lib/python3.7/dist-packages/sklearn/utils/validation.py:760: DataConversionWarning: A column-vector y was passed when a 1d array was expected. Please change the shape of y to (n_samples, ), for example using ravel().\n",
            "  y = column_or_1d(y, warn=True)\n",
            "/usr/local/lib/python3.7/dist-packages/sklearn/utils/validation.py:760: DataConversionWarning: A column-vector y was passed when a 1d array was expected. Please change the shape of y to (n_samples, ), for example using ravel().\n",
            "  y = column_or_1d(y, warn=True)\n",
            "/usr/local/lib/python3.7/dist-packages/sklearn/utils/validation.py:760: DataConversionWarning: A column-vector y was passed when a 1d array was expected. Please change the shape of y to (n_samples, ), for example using ravel().\n",
            "  y = column_or_1d(y, warn=True)\n",
            "/usr/local/lib/python3.7/dist-packages/sklearn/utils/validation.py:760: DataConversionWarning: A column-vector y was passed when a 1d array was expected. Please change the shape of y to (n_samples, ), for example using ravel().\n",
            "  y = column_or_1d(y, warn=True)\n",
            "/usr/local/lib/python3.7/dist-packages/sklearn/utils/validation.py:760: DataConversionWarning: A column-vector y was passed when a 1d array was expected. Please change the shape of y to (n_samples, ), for example using ravel().\n",
            "  y = column_or_1d(y, warn=True)\n",
            "/usr/local/lib/python3.7/dist-packages/sklearn/utils/validation.py:760: DataConversionWarning: A column-vector y was passed when a 1d array was expected. Please change the shape of y to (n_samples, ), for example using ravel().\n",
            "  y = column_or_1d(y, warn=True)\n",
            "/usr/local/lib/python3.7/dist-packages/sklearn/utils/validation.py:760: DataConversionWarning: A column-vector y was passed when a 1d array was expected. Please change the shape of y to (n_samples, ), for example using ravel().\n",
            "  y = column_or_1d(y, warn=True)\n",
            "/usr/local/lib/python3.7/dist-packages/sklearn/utils/validation.py:760: DataConversionWarning: A column-vector y was passed when a 1d array was expected. Please change the shape of y to (n_samples, ), for example using ravel().\n",
            "  y = column_or_1d(y, warn=True)\n",
            "/usr/local/lib/python3.7/dist-packages/sklearn/utils/validation.py:760: DataConversionWarning: A column-vector y was passed when a 1d array was expected. Please change the shape of y to (n_samples, ), for example using ravel().\n",
            "  y = column_or_1d(y, warn=True)\n",
            "/usr/local/lib/python3.7/dist-packages/sklearn/utils/validation.py:760: DataConversionWarning: A column-vector y was passed when a 1d array was expected. Please change the shape of y to (n_samples, ), for example using ravel().\n",
            "  y = column_or_1d(y, warn=True)\n",
            "/usr/local/lib/python3.7/dist-packages/sklearn/utils/validation.py:760: DataConversionWarning: A column-vector y was passed when a 1d array was expected. Please change the shape of y to (n_samples, ), for example using ravel().\n",
            "  y = column_or_1d(y, warn=True)\n",
            "/usr/local/lib/python3.7/dist-packages/sklearn/utils/validation.py:760: DataConversionWarning: A column-vector y was passed when a 1d array was expected. Please change the shape of y to (n_samples, ), for example using ravel().\n",
            "  y = column_or_1d(y, warn=True)\n",
            "/usr/local/lib/python3.7/dist-packages/sklearn/utils/validation.py:760: DataConversionWarning: A column-vector y was passed when a 1d array was expected. Please change the shape of y to (n_samples, ), for example using ravel().\n",
            "  y = column_or_1d(y, warn=True)\n",
            "/usr/local/lib/python3.7/dist-packages/sklearn/utils/validation.py:760: DataConversionWarning: A column-vector y was passed when a 1d array was expected. Please change the shape of y to (n_samples, ), for example using ravel().\n",
            "  y = column_or_1d(y, warn=True)\n",
            "/usr/local/lib/python3.7/dist-packages/sklearn/utils/validation.py:760: DataConversionWarning: A column-vector y was passed when a 1d array was expected. Please change the shape of y to (n_samples, ), for example using ravel().\n",
            "  y = column_or_1d(y, warn=True)\n",
            "/usr/local/lib/python3.7/dist-packages/sklearn/utils/validation.py:760: DataConversionWarning: A column-vector y was passed when a 1d array was expected. Please change the shape of y to (n_samples, ), for example using ravel().\n",
            "  y = column_or_1d(y, warn=True)\n"
          ]
        },
        {
          "output_type": "stream",
          "name": "stdout",
          "text": [
            "[CV] .. C=1, gamma=0.0001, kernel=sigmoid, score=-0.010, total=   0.0s\n",
            "[CV] C=10, gamma=1, kernel=rbf .......................................\n",
            "[CV] ........... C=10, gamma=1, kernel=rbf, score=0.585, total=   0.0s\n",
            "[CV] C=10, gamma=1, kernel=rbf .......................................\n",
            "[CV] ........... C=10, gamma=1, kernel=rbf, score=0.676, total=   0.0s\n",
            "[CV] C=10, gamma=1, kernel=rbf .......................................\n",
            "[CV] ........... C=10, gamma=1, kernel=rbf, score=0.687, total=   0.0s\n",
            "[CV] C=10, gamma=1, kernel=rbf .......................................\n",
            "[CV] ........... C=10, gamma=1, kernel=rbf, score=0.427, total=   0.0s\n",
            "[CV] C=10, gamma=1, kernel=rbf .......................................\n",
            "[CV] ........... C=10, gamma=1, kernel=rbf, score=0.582, total=   0.0s\n",
            "[CV] C=10, gamma=1, kernel=sigmoid ...................................\n",
            "[CV] .... C=10, gamma=1, kernel=sigmoid, score=-317.410, total=   0.0s\n",
            "[CV] C=10, gamma=1, kernel=sigmoid ...................................\n",
            "[CV] .... C=10, gamma=1, kernel=sigmoid, score=-248.734, total=   0.0s\n",
            "[CV] C=10, gamma=1, kernel=sigmoid ...................................\n",
            "[CV] .... C=10, gamma=1, kernel=sigmoid, score=-263.518, total=   0.0s\n",
            "[CV] C=10, gamma=1, kernel=sigmoid ...................................\n",
            "[CV] .... C=10, gamma=1, kernel=sigmoid, score=-153.949, total=   0.0s\n",
            "[CV] C=10, gamma=1, kernel=sigmoid ...................................\n",
            "[CV] .... C=10, gamma=1, kernel=sigmoid, score=-305.229, total=   0.0s\n",
            "[CV] C=10, gamma=0.1, kernel=rbf .....................................\n",
            "[CV] ......... C=10, gamma=0.1, kernel=rbf, score=0.558, total=   0.0s\n",
            "[CV] C=10, gamma=0.1, kernel=rbf .....................................\n",
            "[CV] ......... C=10, gamma=0.1, kernel=rbf, score=0.673, total=   0.0s\n",
            "[CV] C=10, gamma=0.1, kernel=rbf .....................................\n",
            "[CV] ......... C=10, gamma=0.1, kernel=rbf, score=0.672, total=   0.0s\n",
            "[CV] C=10, gamma=0.1, kernel=rbf .....................................\n",
            "[CV] ......... C=10, gamma=0.1, kernel=rbf, score=0.412, total=   0.0s\n",
            "[CV] C=10, gamma=0.1, kernel=rbf .....................................\n",
            "[CV] ......... C=10, gamma=0.1, kernel=rbf, score=0.554, total=   0.0s\n",
            "[CV] C=10, gamma=0.1, kernel=sigmoid .................................\n",
            "[CV] ..... C=10, gamma=0.1, kernel=sigmoid, score=0.167, total=   0.0s\n",
            "[CV] C=10, gamma=0.1, kernel=sigmoid .................................\n",
            "[CV] ..... C=10, gamma=0.1, kernel=sigmoid, score=0.070, total=   0.0s\n",
            "[CV] C=10, gamma=0.1, kernel=sigmoid .................................\n",
            "[CV] ..... C=10, gamma=0.1, kernel=sigmoid, score=0.229, total=   0.0s\n",
            "[CV] C=10, gamma=0.1, kernel=sigmoid .................................\n",
            "[CV] ..... C=10, gamma=0.1, kernel=sigmoid, score=0.160, total=   0.0s\n",
            "[CV] C=10, gamma=0.1, kernel=sigmoid .................................\n",
            "[CV] ..... C=10, gamma=0.1, kernel=sigmoid, score=0.294, total=   0.0s\n",
            "[CV] C=10, gamma=0.01, kernel=rbf ....................................\n"
          ]
        },
        {
          "output_type": "stream",
          "name": "stderr",
          "text": [
            "/usr/local/lib/python3.7/dist-packages/sklearn/utils/validation.py:760: DataConversionWarning: A column-vector y was passed when a 1d array was expected. Please change the shape of y to (n_samples, ), for example using ravel().\n",
            "  y = column_or_1d(y, warn=True)\n",
            "/usr/local/lib/python3.7/dist-packages/sklearn/utils/validation.py:760: DataConversionWarning: A column-vector y was passed when a 1d array was expected. Please change the shape of y to (n_samples, ), for example using ravel().\n",
            "  y = column_or_1d(y, warn=True)\n",
            "/usr/local/lib/python3.7/dist-packages/sklearn/utils/validation.py:760: DataConversionWarning: A column-vector y was passed when a 1d array was expected. Please change the shape of y to (n_samples, ), for example using ravel().\n",
            "  y = column_or_1d(y, warn=True)\n",
            "/usr/local/lib/python3.7/dist-packages/sklearn/utils/validation.py:760: DataConversionWarning: A column-vector y was passed when a 1d array was expected. Please change the shape of y to (n_samples, ), for example using ravel().\n",
            "  y = column_or_1d(y, warn=True)\n",
            "/usr/local/lib/python3.7/dist-packages/sklearn/utils/validation.py:760: DataConversionWarning: A column-vector y was passed when a 1d array was expected. Please change the shape of y to (n_samples, ), for example using ravel().\n",
            "  y = column_or_1d(y, warn=True)\n",
            "/usr/local/lib/python3.7/dist-packages/sklearn/utils/validation.py:760: DataConversionWarning: A column-vector y was passed when a 1d array was expected. Please change the shape of y to (n_samples, ), for example using ravel().\n",
            "  y = column_or_1d(y, warn=True)\n",
            "/usr/local/lib/python3.7/dist-packages/sklearn/utils/validation.py:760: DataConversionWarning: A column-vector y was passed when a 1d array was expected. Please change the shape of y to (n_samples, ), for example using ravel().\n",
            "  y = column_or_1d(y, warn=True)\n",
            "/usr/local/lib/python3.7/dist-packages/sklearn/utils/validation.py:760: DataConversionWarning: A column-vector y was passed when a 1d array was expected. Please change the shape of y to (n_samples, ), for example using ravel().\n",
            "  y = column_or_1d(y, warn=True)\n",
            "/usr/local/lib/python3.7/dist-packages/sklearn/utils/validation.py:760: DataConversionWarning: A column-vector y was passed when a 1d array was expected. Please change the shape of y to (n_samples, ), for example using ravel().\n",
            "  y = column_or_1d(y, warn=True)\n",
            "/usr/local/lib/python3.7/dist-packages/sklearn/utils/validation.py:760: DataConversionWarning: A column-vector y was passed when a 1d array was expected. Please change the shape of y to (n_samples, ), for example using ravel().\n",
            "  y = column_or_1d(y, warn=True)\n",
            "/usr/local/lib/python3.7/dist-packages/sklearn/utils/validation.py:760: DataConversionWarning: A column-vector y was passed when a 1d array was expected. Please change the shape of y to (n_samples, ), for example using ravel().\n",
            "  y = column_or_1d(y, warn=True)\n",
            "/usr/local/lib/python3.7/dist-packages/sklearn/utils/validation.py:760: DataConversionWarning: A column-vector y was passed when a 1d array was expected. Please change the shape of y to (n_samples, ), for example using ravel().\n",
            "  y = column_or_1d(y, warn=True)\n",
            "/usr/local/lib/python3.7/dist-packages/sklearn/utils/validation.py:760: DataConversionWarning: A column-vector y was passed when a 1d array was expected. Please change the shape of y to (n_samples, ), for example using ravel().\n",
            "  y = column_or_1d(y, warn=True)\n",
            "/usr/local/lib/python3.7/dist-packages/sklearn/utils/validation.py:760: DataConversionWarning: A column-vector y was passed when a 1d array was expected. Please change the shape of y to (n_samples, ), for example using ravel().\n",
            "  y = column_or_1d(y, warn=True)\n",
            "/usr/local/lib/python3.7/dist-packages/sklearn/utils/validation.py:760: DataConversionWarning: A column-vector y was passed when a 1d array was expected. Please change the shape of y to (n_samples, ), for example using ravel().\n",
            "  y = column_or_1d(y, warn=True)\n",
            "/usr/local/lib/python3.7/dist-packages/sklearn/utils/validation.py:760: DataConversionWarning: A column-vector y was passed when a 1d array was expected. Please change the shape of y to (n_samples, ), for example using ravel().\n",
            "  y = column_or_1d(y, warn=True)\n",
            "/usr/local/lib/python3.7/dist-packages/sklearn/utils/validation.py:760: DataConversionWarning: A column-vector y was passed when a 1d array was expected. Please change the shape of y to (n_samples, ), for example using ravel().\n",
            "  y = column_or_1d(y, warn=True)\n",
            "/usr/local/lib/python3.7/dist-packages/sklearn/utils/validation.py:760: DataConversionWarning: A column-vector y was passed when a 1d array was expected. Please change the shape of y to (n_samples, ), for example using ravel().\n",
            "  y = column_or_1d(y, warn=True)\n",
            "/usr/local/lib/python3.7/dist-packages/sklearn/utils/validation.py:760: DataConversionWarning: A column-vector y was passed when a 1d array was expected. Please change the shape of y to (n_samples, ), for example using ravel().\n",
            "  y = column_or_1d(y, warn=True)\n",
            "/usr/local/lib/python3.7/dist-packages/sklearn/utils/validation.py:760: DataConversionWarning: A column-vector y was passed when a 1d array was expected. Please change the shape of y to (n_samples, ), for example using ravel().\n",
            "  y = column_or_1d(y, warn=True)\n",
            "/usr/local/lib/python3.7/dist-packages/sklearn/utils/validation.py:760: DataConversionWarning: A column-vector y was passed when a 1d array was expected. Please change the shape of y to (n_samples, ), for example using ravel().\n",
            "  y = column_or_1d(y, warn=True)\n",
            "/usr/local/lib/python3.7/dist-packages/sklearn/utils/validation.py:760: DataConversionWarning: A column-vector y was passed when a 1d array was expected. Please change the shape of y to (n_samples, ), for example using ravel().\n",
            "  y = column_or_1d(y, warn=True)\n"
          ]
        },
        {
          "output_type": "stream",
          "name": "stdout",
          "text": [
            "[CV] ........ C=10, gamma=0.01, kernel=rbf, score=0.521, total=   0.0s\n",
            "[CV] C=10, gamma=0.01, kernel=rbf ....................................\n",
            "[CV] ........ C=10, gamma=0.01, kernel=rbf, score=0.642, total=   0.0s\n",
            "[CV] C=10, gamma=0.01, kernel=rbf ....................................\n",
            "[CV] ........ C=10, gamma=0.01, kernel=rbf, score=0.606, total=   0.0s\n",
            "[CV] C=10, gamma=0.01, kernel=rbf ....................................\n",
            "[CV] ........ C=10, gamma=0.01, kernel=rbf, score=0.342, total=   0.0s\n",
            "[CV] C=10, gamma=0.01, kernel=rbf ....................................\n",
            "[CV] ........ C=10, gamma=0.01, kernel=rbf, score=0.496, total=   0.0s\n",
            "[CV] C=10, gamma=0.01, kernel=sigmoid ................................\n",
            "[CV] .... C=10, gamma=0.01, kernel=sigmoid, score=0.490, total=   0.0s\n",
            "[CV] C=10, gamma=0.01, kernel=sigmoid ................................\n",
            "[CV] .... C=10, gamma=0.01, kernel=sigmoid, score=0.614, total=   0.0s\n",
            "[CV] C=10, gamma=0.01, kernel=sigmoid ................................\n",
            "[CV] .... C=10, gamma=0.01, kernel=sigmoid, score=0.565, total=   0.0s\n",
            "[CV] C=10, gamma=0.01, kernel=sigmoid ................................\n",
            "[CV] .... C=10, gamma=0.01, kernel=sigmoid, score=0.322, total=   0.0s\n",
            "[CV] C=10, gamma=0.01, kernel=sigmoid ................................\n",
            "[CV] .... C=10, gamma=0.01, kernel=sigmoid, score=0.464, total=   0.0s\n",
            "[CV] C=10, gamma=0.001, kernel=rbf ...................................\n",
            "[CV] ....... C=10, gamma=0.001, kernel=rbf, score=0.361, total=   0.0s\n",
            "[CV] C=10, gamma=0.001, kernel=rbf ...................................\n",
            "[CV] ....... C=10, gamma=0.001, kernel=rbf, score=0.453, total=   0.0s\n",
            "[CV] C=10, gamma=0.001, kernel=rbf ...................................\n",
            "[CV] ....... C=10, gamma=0.001, kernel=rbf, score=0.398, total=   0.0s\n",
            "[CV] C=10, gamma=0.001, kernel=rbf ...................................\n",
            "[CV] ....... C=10, gamma=0.001, kernel=rbf, score=0.247, total=   0.0s\n",
            "[CV] C=10, gamma=0.001, kernel=rbf ...................................\n",
            "[CV] ....... C=10, gamma=0.001, kernel=rbf, score=0.324, total=   0.0s\n",
            "[CV] C=10, gamma=0.001, kernel=sigmoid ...............................\n",
            "[CV] ... C=10, gamma=0.001, kernel=sigmoid, score=0.226, total=   0.0s\n",
            "[CV] C=10, gamma=0.001, kernel=sigmoid ...............................\n",
            "[CV] ... C=10, gamma=0.001, kernel=sigmoid, score=0.275, total=   0.0s\n",
            "[CV] C=10, gamma=0.001, kernel=sigmoid ...............................\n",
            "[CV] ... C=10, gamma=0.001, kernel=sigmoid, score=0.242, total=   0.0s\n",
            "[CV] C=10, gamma=0.001, kernel=sigmoid ...............................\n",
            "[CV] ... C=10, gamma=0.001, kernel=sigmoid, score=0.155, total=   0.0s\n",
            "[CV] C=10, gamma=0.001, kernel=sigmoid ...............................\n",
            "[CV] ... C=10, gamma=0.001, kernel=sigmoid, score=0.200, total=   0.0s\n",
            "[CV] C=10, gamma=0.0001, kernel=rbf ..................................\n",
            "[CV] ...... C=10, gamma=0.0001, kernel=rbf, score=0.042, total=   0.0s\n",
            "[CV] C=10, gamma=0.0001, kernel=rbf ..................................\n",
            "[CV] ...... C=10, gamma=0.0001, kernel=rbf, score=0.058, total=   0.0s\n",
            "[CV] C=10, gamma=0.0001, kernel=rbf ..................................\n",
            "[CV] ...... C=10, gamma=0.0001, kernel=rbf, score=0.054, total=   0.0s\n",
            "[CV] C=10, gamma=0.0001, kernel=rbf ..................................\n",
            "[CV] ...... C=10, gamma=0.0001, kernel=rbf, score=0.034, total=   0.0s\n",
            "[CV] C=10, gamma=0.0001, kernel=rbf ..................................\n",
            "[CV] ...... C=10, gamma=0.0001, kernel=rbf, score=0.037, total=   0.0s\n",
            "[CV] C=10, gamma=0.0001, kernel=sigmoid ..............................\n",
            "[CV] .. C=10, gamma=0.0001, kernel=sigmoid, score=0.016, total=   0.0s\n",
            "[CV] C=10, gamma=0.0001, kernel=sigmoid ..............................\n"
          ]
        },
        {
          "output_type": "stream",
          "name": "stderr",
          "text": [
            "/usr/local/lib/python3.7/dist-packages/sklearn/utils/validation.py:760: DataConversionWarning: A column-vector y was passed when a 1d array was expected. Please change the shape of y to (n_samples, ), for example using ravel().\n",
            "  y = column_or_1d(y, warn=True)\n",
            "/usr/local/lib/python3.7/dist-packages/sklearn/utils/validation.py:760: DataConversionWarning: A column-vector y was passed when a 1d array was expected. Please change the shape of y to (n_samples, ), for example using ravel().\n",
            "  y = column_or_1d(y, warn=True)\n",
            "/usr/local/lib/python3.7/dist-packages/sklearn/utils/validation.py:760: DataConversionWarning: A column-vector y was passed when a 1d array was expected. Please change the shape of y to (n_samples, ), for example using ravel().\n",
            "  y = column_or_1d(y, warn=True)\n",
            "/usr/local/lib/python3.7/dist-packages/sklearn/utils/validation.py:760: DataConversionWarning: A column-vector y was passed when a 1d array was expected. Please change the shape of y to (n_samples, ), for example using ravel().\n",
            "  y = column_or_1d(y, warn=True)\n",
            "/usr/local/lib/python3.7/dist-packages/sklearn/utils/validation.py:760: DataConversionWarning: A column-vector y was passed when a 1d array was expected. Please change the shape of y to (n_samples, ), for example using ravel().\n",
            "  y = column_or_1d(y, warn=True)\n",
            "/usr/local/lib/python3.7/dist-packages/sklearn/utils/validation.py:760: DataConversionWarning: A column-vector y was passed when a 1d array was expected. Please change the shape of y to (n_samples, ), for example using ravel().\n",
            "  y = column_or_1d(y, warn=True)\n",
            "/usr/local/lib/python3.7/dist-packages/sklearn/utils/validation.py:760: DataConversionWarning: A column-vector y was passed when a 1d array was expected. Please change the shape of y to (n_samples, ), for example using ravel().\n",
            "  y = column_or_1d(y, warn=True)\n",
            "/usr/local/lib/python3.7/dist-packages/sklearn/utils/validation.py:760: DataConversionWarning: A column-vector y was passed when a 1d array was expected. Please change the shape of y to (n_samples, ), for example using ravel().\n",
            "  y = column_or_1d(y, warn=True)\n",
            "/usr/local/lib/python3.7/dist-packages/sklearn/utils/validation.py:760: DataConversionWarning: A column-vector y was passed when a 1d array was expected. Please change the shape of y to (n_samples, ), for example using ravel().\n",
            "  y = column_or_1d(y, warn=True)\n",
            "/usr/local/lib/python3.7/dist-packages/sklearn/utils/validation.py:760: DataConversionWarning: A column-vector y was passed when a 1d array was expected. Please change the shape of y to (n_samples, ), for example using ravel().\n",
            "  y = column_or_1d(y, warn=True)\n",
            "/usr/local/lib/python3.7/dist-packages/sklearn/utils/validation.py:760: DataConversionWarning: A column-vector y was passed when a 1d array was expected. Please change the shape of y to (n_samples, ), for example using ravel().\n",
            "  y = column_or_1d(y, warn=True)\n",
            "/usr/local/lib/python3.7/dist-packages/sklearn/utils/validation.py:760: DataConversionWarning: A column-vector y was passed when a 1d array was expected. Please change the shape of y to (n_samples, ), for example using ravel().\n",
            "  y = column_or_1d(y, warn=True)\n",
            "/usr/local/lib/python3.7/dist-packages/sklearn/utils/validation.py:760: DataConversionWarning: A column-vector y was passed when a 1d array was expected. Please change the shape of y to (n_samples, ), for example using ravel().\n",
            "  y = column_or_1d(y, warn=True)\n",
            "/usr/local/lib/python3.7/dist-packages/sklearn/utils/validation.py:760: DataConversionWarning: A column-vector y was passed when a 1d array was expected. Please change the shape of y to (n_samples, ), for example using ravel().\n",
            "  y = column_or_1d(y, warn=True)\n",
            "/usr/local/lib/python3.7/dist-packages/sklearn/utils/validation.py:760: DataConversionWarning: A column-vector y was passed when a 1d array was expected. Please change the shape of y to (n_samples, ), for example using ravel().\n",
            "  y = column_or_1d(y, warn=True)\n",
            "/usr/local/lib/python3.7/dist-packages/sklearn/utils/validation.py:760: DataConversionWarning: A column-vector y was passed when a 1d array was expected. Please change the shape of y to (n_samples, ), for example using ravel().\n",
            "  y = column_or_1d(y, warn=True)\n",
            "/usr/local/lib/python3.7/dist-packages/sklearn/utils/validation.py:760: DataConversionWarning: A column-vector y was passed when a 1d array was expected. Please change the shape of y to (n_samples, ), for example using ravel().\n",
            "  y = column_or_1d(y, warn=True)\n",
            "/usr/local/lib/python3.7/dist-packages/sklearn/utils/validation.py:760: DataConversionWarning: A column-vector y was passed when a 1d array was expected. Please change the shape of y to (n_samples, ), for example using ravel().\n",
            "  y = column_or_1d(y, warn=True)\n",
            "/usr/local/lib/python3.7/dist-packages/sklearn/utils/validation.py:760: DataConversionWarning: A column-vector y was passed when a 1d array was expected. Please change the shape of y to (n_samples, ), for example using ravel().\n",
            "  y = column_or_1d(y, warn=True)\n",
            "/usr/local/lib/python3.7/dist-packages/sklearn/utils/validation.py:760: DataConversionWarning: A column-vector y was passed when a 1d array was expected. Please change the shape of y to (n_samples, ), for example using ravel().\n",
            "  y = column_or_1d(y, warn=True)\n",
            "/usr/local/lib/python3.7/dist-packages/sklearn/utils/validation.py:760: DataConversionWarning: A column-vector y was passed when a 1d array was expected. Please change the shape of y to (n_samples, ), for example using ravel().\n",
            "  y = column_or_1d(y, warn=True)\n",
            "/usr/local/lib/python3.7/dist-packages/sklearn/utils/validation.py:760: DataConversionWarning: A column-vector y was passed when a 1d array was expected. Please change the shape of y to (n_samples, ), for example using ravel().\n",
            "  y = column_or_1d(y, warn=True)\n",
            "/usr/local/lib/python3.7/dist-packages/sklearn/utils/validation.py:760: DataConversionWarning: A column-vector y was passed when a 1d array was expected. Please change the shape of y to (n_samples, ), for example using ravel().\n",
            "  y = column_or_1d(y, warn=True)\n",
            "/usr/local/lib/python3.7/dist-packages/sklearn/utils/validation.py:760: DataConversionWarning: A column-vector y was passed when a 1d array was expected. Please change the shape of y to (n_samples, ), for example using ravel().\n",
            "  y = column_or_1d(y, warn=True)\n",
            "/usr/local/lib/python3.7/dist-packages/sklearn/utils/validation.py:760: DataConversionWarning: A column-vector y was passed when a 1d array was expected. Please change the shape of y to (n_samples, ), for example using ravel().\n",
            "  y = column_or_1d(y, warn=True)\n",
            "/usr/local/lib/python3.7/dist-packages/sklearn/utils/validation.py:760: DataConversionWarning: A column-vector y was passed when a 1d array was expected. Please change the shape of y to (n_samples, ), for example using ravel().\n",
            "  y = column_or_1d(y, warn=True)\n"
          ]
        },
        {
          "output_type": "stream",
          "name": "stdout",
          "text": [
            "[CV] .. C=10, gamma=0.0001, kernel=sigmoid, score=0.023, total=   0.0s\n",
            "[CV] C=10, gamma=0.0001, kernel=sigmoid ..............................\n",
            "[CV] .. C=10, gamma=0.0001, kernel=sigmoid, score=0.025, total=   0.0s\n",
            "[CV] C=10, gamma=0.0001, kernel=sigmoid ..............................\n",
            "[CV] .. C=10, gamma=0.0001, kernel=sigmoid, score=0.015, total=   0.0s\n",
            "[CV] C=10, gamma=0.0001, kernel=sigmoid ..............................\n",
            "[CV] .. C=10, gamma=0.0001, kernel=sigmoid, score=0.012, total=   0.0s\n",
            "[CV] C=100, gamma=1, kernel=rbf ......................................\n",
            "[CV] .......... C=100, gamma=1, kernel=rbf, score=0.529, total=   0.0s\n",
            "[CV] C=100, gamma=1, kernel=rbf ......................................\n",
            "[CV] .......... C=100, gamma=1, kernel=rbf, score=0.600, total=   0.0s\n",
            "[CV] C=100, gamma=1, kernel=rbf ......................................\n",
            "[CV] .......... C=100, gamma=1, kernel=rbf, score=0.685, total=   0.0s\n",
            "[CV] C=100, gamma=1, kernel=rbf ......................................\n",
            "[CV] .......... C=100, gamma=1, kernel=rbf, score=0.385, total=   0.0s\n",
            "[CV] C=100, gamma=1, kernel=rbf ......................................\n",
            "[CV] .......... C=100, gamma=1, kernel=rbf, score=0.601, total=   0.0s\n",
            "[CV] C=100, gamma=1, kernel=sigmoid ..................................\n",
            "[CV] . C=100, gamma=1, kernel=sigmoid, score=-31615.532, total=   0.0s\n",
            "[CV] C=100, gamma=1, kernel=sigmoid ..................................\n",
            "[CV] . C=100, gamma=1, kernel=sigmoid, score=-24376.778, total=   0.0s\n",
            "[CV] C=100, gamma=1, kernel=sigmoid ..................................\n",
            "[CV] . C=100, gamma=1, kernel=sigmoid, score=-26755.137, total=   0.0s\n",
            "[CV] C=100, gamma=1, kernel=sigmoid ..................................\n",
            "[CV] . C=100, gamma=1, kernel=sigmoid, score=-15435.728, total=   0.0s\n",
            "[CV] C=100, gamma=1, kernel=sigmoid ..................................\n",
            "[CV] . C=100, gamma=1, kernel=sigmoid, score=-30683.530, total=   0.0s\n",
            "[CV] C=100, gamma=0.1, kernel=rbf ....................................\n",
            "[CV] ........ C=100, gamma=0.1, kernel=rbf, score=0.553, total=   0.0s\n",
            "[CV] C=100, gamma=0.1, kernel=rbf ....................................\n",
            "[CV] ........ C=100, gamma=0.1, kernel=rbf, score=0.665, total=   0.0s\n",
            "[CV] C=100, gamma=0.1, kernel=rbf ....................................\n"
          ]
        },
        {
          "output_type": "stream",
          "name": "stderr",
          "text": [
            "/usr/local/lib/python3.7/dist-packages/sklearn/utils/validation.py:760: DataConversionWarning: A column-vector y was passed when a 1d array was expected. Please change the shape of y to (n_samples, ), for example using ravel().\n",
            "  y = column_or_1d(y, warn=True)\n",
            "/usr/local/lib/python3.7/dist-packages/sklearn/utils/validation.py:760: DataConversionWarning: A column-vector y was passed when a 1d array was expected. Please change the shape of y to (n_samples, ), for example using ravel().\n",
            "  y = column_or_1d(y, warn=True)\n",
            "/usr/local/lib/python3.7/dist-packages/sklearn/utils/validation.py:760: DataConversionWarning: A column-vector y was passed when a 1d array was expected. Please change the shape of y to (n_samples, ), for example using ravel().\n",
            "  y = column_or_1d(y, warn=True)\n",
            "/usr/local/lib/python3.7/dist-packages/sklearn/utils/validation.py:760: DataConversionWarning: A column-vector y was passed when a 1d array was expected. Please change the shape of y to (n_samples, ), for example using ravel().\n",
            "  y = column_or_1d(y, warn=True)\n",
            "/usr/local/lib/python3.7/dist-packages/sklearn/utils/validation.py:760: DataConversionWarning: A column-vector y was passed when a 1d array was expected. Please change the shape of y to (n_samples, ), for example using ravel().\n",
            "  y = column_or_1d(y, warn=True)\n",
            "/usr/local/lib/python3.7/dist-packages/sklearn/utils/validation.py:760: DataConversionWarning: A column-vector y was passed when a 1d array was expected. Please change the shape of y to (n_samples, ), for example using ravel().\n",
            "  y = column_or_1d(y, warn=True)\n",
            "/usr/local/lib/python3.7/dist-packages/sklearn/utils/validation.py:760: DataConversionWarning: A column-vector y was passed when a 1d array was expected. Please change the shape of y to (n_samples, ), for example using ravel().\n",
            "  y = column_or_1d(y, warn=True)\n",
            "/usr/local/lib/python3.7/dist-packages/sklearn/utils/validation.py:760: DataConversionWarning: A column-vector y was passed when a 1d array was expected. Please change the shape of y to (n_samples, ), for example using ravel().\n",
            "  y = column_or_1d(y, warn=True)\n",
            "/usr/local/lib/python3.7/dist-packages/sklearn/utils/validation.py:760: DataConversionWarning: A column-vector y was passed when a 1d array was expected. Please change the shape of y to (n_samples, ), for example using ravel().\n",
            "  y = column_or_1d(y, warn=True)\n",
            "/usr/local/lib/python3.7/dist-packages/sklearn/utils/validation.py:760: DataConversionWarning: A column-vector y was passed when a 1d array was expected. Please change the shape of y to (n_samples, ), for example using ravel().\n",
            "  y = column_or_1d(y, warn=True)\n",
            "/usr/local/lib/python3.7/dist-packages/sklearn/utils/validation.py:760: DataConversionWarning: A column-vector y was passed when a 1d array was expected. Please change the shape of y to (n_samples, ), for example using ravel().\n",
            "  y = column_or_1d(y, warn=True)\n",
            "/usr/local/lib/python3.7/dist-packages/sklearn/utils/validation.py:760: DataConversionWarning: A column-vector y was passed when a 1d array was expected. Please change the shape of y to (n_samples, ), for example using ravel().\n",
            "  y = column_or_1d(y, warn=True)\n",
            "/usr/local/lib/python3.7/dist-packages/sklearn/utils/validation.py:760: DataConversionWarning: A column-vector y was passed when a 1d array was expected. Please change the shape of y to (n_samples, ), for example using ravel().\n",
            "  y = column_or_1d(y, warn=True)\n",
            "/usr/local/lib/python3.7/dist-packages/sklearn/utils/validation.py:760: DataConversionWarning: A column-vector y was passed when a 1d array was expected. Please change the shape of y to (n_samples, ), for example using ravel().\n",
            "  y = column_or_1d(y, warn=True)\n",
            "/usr/local/lib/python3.7/dist-packages/sklearn/utils/validation.py:760: DataConversionWarning: A column-vector y was passed when a 1d array was expected. Please change the shape of y to (n_samples, ), for example using ravel().\n",
            "  y = column_or_1d(y, warn=True)\n",
            "/usr/local/lib/python3.7/dist-packages/sklearn/utils/validation.py:760: DataConversionWarning: A column-vector y was passed when a 1d array was expected. Please change the shape of y to (n_samples, ), for example using ravel().\n",
            "  y = column_or_1d(y, warn=True)\n"
          ]
        },
        {
          "output_type": "stream",
          "name": "stdout",
          "text": [
            "[CV] ........ C=100, gamma=0.1, kernel=rbf, score=0.679, total=   0.0s\n",
            "[CV] C=100, gamma=0.1, kernel=rbf ....................................\n",
            "[CV] ........ C=100, gamma=0.1, kernel=rbf, score=0.449, total=   0.0s\n",
            "[CV] C=100, gamma=0.1, kernel=rbf ....................................\n",
            "[CV] ........ C=100, gamma=0.1, kernel=rbf, score=0.575, total=   0.0s\n",
            "[CV] C=100, gamma=0.1, kernel=sigmoid ................................\n",
            "[CV] .. C=100, gamma=0.1, kernel=sigmoid, score=-31.954, total=   0.0s\n",
            "[CV] C=100, gamma=0.1, kernel=sigmoid ................................\n",
            "[CV] .. C=100, gamma=0.1, kernel=sigmoid, score=-95.733, total=   0.0s\n",
            "[CV] C=100, gamma=0.1, kernel=sigmoid ................................\n",
            "[CV] .. C=100, gamma=0.1, kernel=sigmoid, score=-38.446, total=   0.0s\n",
            "[CV] C=100, gamma=0.1, kernel=sigmoid ................................\n",
            "[CV] .. C=100, gamma=0.1, kernel=sigmoid, score=-24.022, total=   0.0s\n",
            "[CV] C=100, gamma=0.1, kernel=sigmoid ................................\n",
            "[CV] .. C=100, gamma=0.1, kernel=sigmoid, score=-12.227, total=   0.0s\n",
            "[CV] C=100, gamma=0.01, kernel=rbf ...................................\n",
            "[CV] ....... C=100, gamma=0.01, kernel=rbf, score=0.559, total=   0.0s\n",
            "[CV] C=100, gamma=0.01, kernel=rbf ...................................\n",
            "[CV] ....... C=100, gamma=0.01, kernel=rbf, score=0.669, total=   0.0s\n",
            "[CV] C=100, gamma=0.01, kernel=rbf ...................................\n",
            "[CV] ....... C=100, gamma=0.01, kernel=rbf, score=0.661, total=   0.0s\n",
            "[CV] C=100, gamma=0.01, kernel=rbf ...................................\n",
            "[CV] ....... C=100, gamma=0.01, kernel=rbf, score=0.392, total=   0.0s\n",
            "[CV] C=100, gamma=0.01, kernel=rbf ...................................\n",
            "[CV] ....... C=100, gamma=0.01, kernel=rbf, score=0.554, total=   0.0s\n",
            "[CV] C=100, gamma=0.01, kernel=sigmoid ...............................\n",
            "[CV] ... C=100, gamma=0.01, kernel=sigmoid, score=0.496, total=   0.0s\n",
            "[CV] C=100, gamma=0.01, kernel=sigmoid ...............................\n",
            "[CV] ... C=100, gamma=0.01, kernel=sigmoid, score=0.592, total=   0.0s\n",
            "[CV] C=100, gamma=0.01, kernel=sigmoid ...............................\n",
            "[CV] ... C=100, gamma=0.01, kernel=sigmoid, score=0.598, total=   0.0s\n",
            "[CV] C=100, gamma=0.01, kernel=sigmoid ...............................\n",
            "[CV] ... C=100, gamma=0.01, kernel=sigmoid, score=0.337, total=   0.0s\n",
            "[CV] C=100, gamma=0.01, kernel=sigmoid ...............................\n",
            "[CV] ... C=100, gamma=0.01, kernel=sigmoid, score=0.494, total=   0.0s\n",
            "[CV] C=100, gamma=0.001, kernel=rbf ..................................\n",
            "[CV] ...... C=100, gamma=0.001, kernel=rbf, score=0.498, total=   0.0s\n",
            "[CV] C=100, gamma=0.001, kernel=rbf ..................................\n",
            "[CV] ...... C=100, gamma=0.001, kernel=rbf, score=0.619, total=   0.0s\n",
            "[CV] C=100, gamma=0.001, kernel=rbf ..................................\n",
            "[CV] ...... C=100, gamma=0.001, kernel=rbf, score=0.583, total=   0.0s\n",
            "[CV] C=100, gamma=0.001, kernel=rbf ..................................\n"
          ]
        },
        {
          "output_type": "stream",
          "name": "stderr",
          "text": [
            "/usr/local/lib/python3.7/dist-packages/sklearn/utils/validation.py:760: DataConversionWarning: A column-vector y was passed when a 1d array was expected. Please change the shape of y to (n_samples, ), for example using ravel().\n",
            "  y = column_or_1d(y, warn=True)\n",
            "/usr/local/lib/python3.7/dist-packages/sklearn/utils/validation.py:760: DataConversionWarning: A column-vector y was passed when a 1d array was expected. Please change the shape of y to (n_samples, ), for example using ravel().\n",
            "  y = column_or_1d(y, warn=True)\n",
            "/usr/local/lib/python3.7/dist-packages/sklearn/utils/validation.py:760: DataConversionWarning: A column-vector y was passed when a 1d array was expected. Please change the shape of y to (n_samples, ), for example using ravel().\n",
            "  y = column_or_1d(y, warn=True)\n",
            "/usr/local/lib/python3.7/dist-packages/sklearn/utils/validation.py:760: DataConversionWarning: A column-vector y was passed when a 1d array was expected. Please change the shape of y to (n_samples, ), for example using ravel().\n",
            "  y = column_or_1d(y, warn=True)\n",
            "/usr/local/lib/python3.7/dist-packages/sklearn/utils/validation.py:760: DataConversionWarning: A column-vector y was passed when a 1d array was expected. Please change the shape of y to (n_samples, ), for example using ravel().\n",
            "  y = column_or_1d(y, warn=True)\n",
            "/usr/local/lib/python3.7/dist-packages/sklearn/utils/validation.py:760: DataConversionWarning: A column-vector y was passed when a 1d array was expected. Please change the shape of y to (n_samples, ), for example using ravel().\n",
            "  y = column_or_1d(y, warn=True)\n",
            "/usr/local/lib/python3.7/dist-packages/sklearn/utils/validation.py:760: DataConversionWarning: A column-vector y was passed when a 1d array was expected. Please change the shape of y to (n_samples, ), for example using ravel().\n",
            "  y = column_or_1d(y, warn=True)\n",
            "/usr/local/lib/python3.7/dist-packages/sklearn/utils/validation.py:760: DataConversionWarning: A column-vector y was passed when a 1d array was expected. Please change the shape of y to (n_samples, ), for example using ravel().\n",
            "  y = column_or_1d(y, warn=True)\n",
            "/usr/local/lib/python3.7/dist-packages/sklearn/utils/validation.py:760: DataConversionWarning: A column-vector y was passed when a 1d array was expected. Please change the shape of y to (n_samples, ), for example using ravel().\n",
            "  y = column_or_1d(y, warn=True)\n",
            "/usr/local/lib/python3.7/dist-packages/sklearn/utils/validation.py:760: DataConversionWarning: A column-vector y was passed when a 1d array was expected. Please change the shape of y to (n_samples, ), for example using ravel().\n",
            "  y = column_or_1d(y, warn=True)\n",
            "/usr/local/lib/python3.7/dist-packages/sklearn/utils/validation.py:760: DataConversionWarning: A column-vector y was passed when a 1d array was expected. Please change the shape of y to (n_samples, ), for example using ravel().\n",
            "  y = column_or_1d(y, warn=True)\n",
            "/usr/local/lib/python3.7/dist-packages/sklearn/utils/validation.py:760: DataConversionWarning: A column-vector y was passed when a 1d array was expected. Please change the shape of y to (n_samples, ), for example using ravel().\n",
            "  y = column_or_1d(y, warn=True)\n",
            "/usr/local/lib/python3.7/dist-packages/sklearn/utils/validation.py:760: DataConversionWarning: A column-vector y was passed when a 1d array was expected. Please change the shape of y to (n_samples, ), for example using ravel().\n",
            "  y = column_or_1d(y, warn=True)\n",
            "/usr/local/lib/python3.7/dist-packages/sklearn/utils/validation.py:760: DataConversionWarning: A column-vector y was passed when a 1d array was expected. Please change the shape of y to (n_samples, ), for example using ravel().\n",
            "  y = column_or_1d(y, warn=True)\n",
            "/usr/local/lib/python3.7/dist-packages/sklearn/utils/validation.py:760: DataConversionWarning: A column-vector y was passed when a 1d array was expected. Please change the shape of y to (n_samples, ), for example using ravel().\n",
            "  y = column_or_1d(y, warn=True)\n",
            "/usr/local/lib/python3.7/dist-packages/sklearn/utils/validation.py:760: DataConversionWarning: A column-vector y was passed when a 1d array was expected. Please change the shape of y to (n_samples, ), for example using ravel().\n",
            "  y = column_or_1d(y, warn=True)\n",
            "/usr/local/lib/python3.7/dist-packages/sklearn/utils/validation.py:760: DataConversionWarning: A column-vector y was passed when a 1d array was expected. Please change the shape of y to (n_samples, ), for example using ravel().\n",
            "  y = column_or_1d(y, warn=True)\n",
            "/usr/local/lib/python3.7/dist-packages/sklearn/utils/validation.py:760: DataConversionWarning: A column-vector y was passed when a 1d array was expected. Please change the shape of y to (n_samples, ), for example using ravel().\n",
            "  y = column_or_1d(y, warn=True)\n",
            "/usr/local/lib/python3.7/dist-packages/sklearn/utils/validation.py:760: DataConversionWarning: A column-vector y was passed when a 1d array was expected. Please change the shape of y to (n_samples, ), for example using ravel().\n",
            "  y = column_or_1d(y, warn=True)\n",
            "/usr/local/lib/python3.7/dist-packages/sklearn/utils/validation.py:760: DataConversionWarning: A column-vector y was passed when a 1d array was expected. Please change the shape of y to (n_samples, ), for example using ravel().\n",
            "  y = column_or_1d(y, warn=True)\n",
            "/usr/local/lib/python3.7/dist-packages/sklearn/utils/validation.py:760: DataConversionWarning: A column-vector y was passed when a 1d array was expected. Please change the shape of y to (n_samples, ), for example using ravel().\n",
            "  y = column_or_1d(y, warn=True)\n",
            "/usr/local/lib/python3.7/dist-packages/sklearn/utils/validation.py:760: DataConversionWarning: A column-vector y was passed when a 1d array was expected. Please change the shape of y to (n_samples, ), for example using ravel().\n",
            "  y = column_or_1d(y, warn=True)\n"
          ]
        },
        {
          "output_type": "stream",
          "name": "stdout",
          "text": [
            "[CV] ...... C=100, gamma=0.001, kernel=rbf, score=0.329, total=   0.0s\n",
            "[CV] C=100, gamma=0.001, kernel=rbf ..................................\n",
            "[CV] ...... C=100, gamma=0.001, kernel=rbf, score=0.475, total=   0.0s\n",
            "[CV] C=100, gamma=0.001, kernel=sigmoid ..............................\n",
            "[CV] .. C=100, gamma=0.001, kernel=sigmoid, score=0.490, total=   0.0s\n",
            "[CV] C=100, gamma=0.001, kernel=sigmoid ..............................\n",
            "[CV] .. C=100, gamma=0.001, kernel=sigmoid, score=0.614, total=   0.0s\n",
            "[CV] C=100, gamma=0.001, kernel=sigmoid ..............................\n",
            "[CV] .. C=100, gamma=0.001, kernel=sigmoid, score=0.565, total=   0.0s\n",
            "[CV] C=100, gamma=0.001, kernel=sigmoid ..............................\n",
            "[CV] .. C=100, gamma=0.001, kernel=sigmoid, score=0.322, total=   0.0s\n",
            "[CV] C=100, gamma=0.001, kernel=sigmoid ..............................\n",
            "[CV] .. C=100, gamma=0.001, kernel=sigmoid, score=0.464, total=   0.0s\n",
            "[CV] C=100, gamma=0.0001, kernel=rbf .................................\n",
            "[CV] ..... C=100, gamma=0.0001, kernel=rbf, score=0.362, total=   0.0s\n",
            "[CV] C=100, gamma=0.0001, kernel=rbf .................................\n",
            "[CV] ..... C=100, gamma=0.0001, kernel=rbf, score=0.456, total=   0.0s\n",
            "[CV] C=100, gamma=0.0001, kernel=rbf .................................\n",
            "[CV] ..... C=100, gamma=0.0001, kernel=rbf, score=0.400, total=   0.0s\n",
            "[CV] C=100, gamma=0.0001, kernel=rbf .................................\n",
            "[CV] ..... C=100, gamma=0.0001, kernel=rbf, score=0.249, total=   0.0s\n",
            "[CV] C=100, gamma=0.0001, kernel=rbf .................................\n",
            "[CV] ..... C=100, gamma=0.0001, kernel=rbf, score=0.326, total=   0.0s\n",
            "[CV] C=100, gamma=0.0001, kernel=sigmoid .............................\n",
            "[CV] . C=100, gamma=0.0001, kernel=sigmoid, score=0.226, total=   0.0s\n",
            "[CV] C=100, gamma=0.0001, kernel=sigmoid .............................\n",
            "[CV] . C=100, gamma=0.0001, kernel=sigmoid, score=0.275, total=   0.0s\n",
            "[CV] C=100, gamma=0.0001, kernel=sigmoid .............................\n",
            "[CV] . C=100, gamma=0.0001, kernel=sigmoid, score=0.242, total=   0.0s\n",
            "[CV] C=100, gamma=0.0001, kernel=sigmoid .............................\n",
            "[CV] . C=100, gamma=0.0001, kernel=sigmoid, score=0.155, total=   0.0s\n",
            "[CV] C=100, gamma=0.0001, kernel=sigmoid .............................\n",
            "[CV] . C=100, gamma=0.0001, kernel=sigmoid, score=0.200, total=   0.0s\n",
            "[CV] C=1000, gamma=1, kernel=rbf .....................................\n"
          ]
        },
        {
          "output_type": "stream",
          "name": "stderr",
          "text": [
            "/usr/local/lib/python3.7/dist-packages/sklearn/utils/validation.py:760: DataConversionWarning: A column-vector y was passed when a 1d array was expected. Please change the shape of y to (n_samples, ), for example using ravel().\n",
            "  y = column_or_1d(y, warn=True)\n",
            "/usr/local/lib/python3.7/dist-packages/sklearn/utils/validation.py:760: DataConversionWarning: A column-vector y was passed when a 1d array was expected. Please change the shape of y to (n_samples, ), for example using ravel().\n",
            "  y = column_or_1d(y, warn=True)\n",
            "/usr/local/lib/python3.7/dist-packages/sklearn/utils/validation.py:760: DataConversionWarning: A column-vector y was passed when a 1d array was expected. Please change the shape of y to (n_samples, ), for example using ravel().\n",
            "  y = column_or_1d(y, warn=True)\n",
            "/usr/local/lib/python3.7/dist-packages/sklearn/utils/validation.py:760: DataConversionWarning: A column-vector y was passed when a 1d array was expected. Please change the shape of y to (n_samples, ), for example using ravel().\n",
            "  y = column_or_1d(y, warn=True)\n",
            "/usr/local/lib/python3.7/dist-packages/sklearn/utils/validation.py:760: DataConversionWarning: A column-vector y was passed when a 1d array was expected. Please change the shape of y to (n_samples, ), for example using ravel().\n",
            "  y = column_or_1d(y, warn=True)\n",
            "/usr/local/lib/python3.7/dist-packages/sklearn/utils/validation.py:760: DataConversionWarning: A column-vector y was passed when a 1d array was expected. Please change the shape of y to (n_samples, ), for example using ravel().\n",
            "  y = column_or_1d(y, warn=True)\n",
            "/usr/local/lib/python3.7/dist-packages/sklearn/utils/validation.py:760: DataConversionWarning: A column-vector y was passed when a 1d array was expected. Please change the shape of y to (n_samples, ), for example using ravel().\n",
            "  y = column_or_1d(y, warn=True)\n",
            "/usr/local/lib/python3.7/dist-packages/sklearn/utils/validation.py:760: DataConversionWarning: A column-vector y was passed when a 1d array was expected. Please change the shape of y to (n_samples, ), for example using ravel().\n",
            "  y = column_or_1d(y, warn=True)\n",
            "/usr/local/lib/python3.7/dist-packages/sklearn/utils/validation.py:760: DataConversionWarning: A column-vector y was passed when a 1d array was expected. Please change the shape of y to (n_samples, ), for example using ravel().\n",
            "  y = column_or_1d(y, warn=True)\n",
            "/usr/local/lib/python3.7/dist-packages/sklearn/utils/validation.py:760: DataConversionWarning: A column-vector y was passed when a 1d array was expected. Please change the shape of y to (n_samples, ), for example using ravel().\n",
            "  y = column_or_1d(y, warn=True)\n",
            "/usr/local/lib/python3.7/dist-packages/sklearn/utils/validation.py:760: DataConversionWarning: A column-vector y was passed when a 1d array was expected. Please change the shape of y to (n_samples, ), for example using ravel().\n",
            "  y = column_or_1d(y, warn=True)\n",
            "/usr/local/lib/python3.7/dist-packages/sklearn/utils/validation.py:760: DataConversionWarning: A column-vector y was passed when a 1d array was expected. Please change the shape of y to (n_samples, ), for example using ravel().\n",
            "  y = column_or_1d(y, warn=True)\n",
            "/usr/local/lib/python3.7/dist-packages/sklearn/utils/validation.py:760: DataConversionWarning: A column-vector y was passed when a 1d array was expected. Please change the shape of y to (n_samples, ), for example using ravel().\n",
            "  y = column_or_1d(y, warn=True)\n",
            "/usr/local/lib/python3.7/dist-packages/sklearn/utils/validation.py:760: DataConversionWarning: A column-vector y was passed when a 1d array was expected. Please change the shape of y to (n_samples, ), for example using ravel().\n",
            "  y = column_or_1d(y, warn=True)\n"
          ]
        },
        {
          "output_type": "stream",
          "name": "stdout",
          "text": [
            "[CV] ......... C=1000, gamma=1, kernel=rbf, score=0.343, total=   0.1s\n",
            "[CV] C=1000, gamma=1, kernel=rbf .....................................\n",
            "[CV] ......... C=1000, gamma=1, kernel=rbf, score=0.515, total=   0.1s\n",
            "[CV] C=1000, gamma=1, kernel=rbf .....................................\n",
            "[CV] ......... C=1000, gamma=1, kernel=rbf, score=0.625, total=   0.1s\n",
            "[CV] C=1000, gamma=1, kernel=rbf .....................................\n"
          ]
        },
        {
          "output_type": "stream",
          "name": "stderr",
          "text": [
            "/usr/local/lib/python3.7/dist-packages/sklearn/utils/validation.py:760: DataConversionWarning: A column-vector y was passed when a 1d array was expected. Please change the shape of y to (n_samples, ), for example using ravel().\n",
            "  y = column_or_1d(y, warn=True)\n",
            "/usr/local/lib/python3.7/dist-packages/sklearn/utils/validation.py:760: DataConversionWarning: A column-vector y was passed when a 1d array was expected. Please change the shape of y to (n_samples, ), for example using ravel().\n",
            "  y = column_or_1d(y, warn=True)\n",
            "/usr/local/lib/python3.7/dist-packages/sklearn/utils/validation.py:760: DataConversionWarning: A column-vector y was passed when a 1d array was expected. Please change the shape of y to (n_samples, ), for example using ravel().\n",
            "  y = column_or_1d(y, warn=True)\n"
          ]
        },
        {
          "output_type": "stream",
          "name": "stdout",
          "text": [
            "[CV] ......... C=1000, gamma=1, kernel=rbf, score=0.293, total=   0.1s\n",
            "[CV] C=1000, gamma=1, kernel=rbf .....................................\n",
            "[CV] ......... C=1000, gamma=1, kernel=rbf, score=0.264, total=   0.1s\n",
            "[CV] C=1000, gamma=1, kernel=sigmoid .................................\n",
            "[CV]  C=1000, gamma=1, kernel=sigmoid, score=-3162748.161, total=   0.0s\n",
            "[CV] C=1000, gamma=1, kernel=sigmoid .................................\n",
            "[CV]  C=1000, gamma=1, kernel=sigmoid, score=-1654687.944, total=   0.0s\n",
            "[CV] C=1000, gamma=1, kernel=sigmoid .................................\n",
            "[CV]  C=1000, gamma=1, kernel=sigmoid, score=-2636194.648, total=   0.0s\n",
            "[CV] C=1000, gamma=1, kernel=sigmoid .................................\n",
            "[CV]  C=1000, gamma=1, kernel=sigmoid, score=-1543292.498, total=   0.0s\n",
            "[CV] C=1000, gamma=1, kernel=sigmoid .................................\n",
            "[CV]  C=1000, gamma=1, kernel=sigmoid, score=-3075138.566, total=   0.0s\n",
            "[CV] C=1000, gamma=0.1, kernel=rbf ...................................\n",
            "[CV] ....... C=1000, gamma=0.1, kernel=rbf, score=0.541, total=   0.0s\n",
            "[CV] C=1000, gamma=0.1, kernel=rbf ...................................\n",
            "[CV] ....... C=1000, gamma=0.1, kernel=rbf, score=0.650, total=   0.0s\n",
            "[CV] C=1000, gamma=0.1, kernel=rbf ...................................\n"
          ]
        },
        {
          "output_type": "stream",
          "name": "stderr",
          "text": [
            "/usr/local/lib/python3.7/dist-packages/sklearn/utils/validation.py:760: DataConversionWarning: A column-vector y was passed when a 1d array was expected. Please change the shape of y to (n_samples, ), for example using ravel().\n",
            "  y = column_or_1d(y, warn=True)\n",
            "/usr/local/lib/python3.7/dist-packages/sklearn/utils/validation.py:760: DataConversionWarning: A column-vector y was passed when a 1d array was expected. Please change the shape of y to (n_samples, ), for example using ravel().\n",
            "  y = column_or_1d(y, warn=True)\n",
            "/usr/local/lib/python3.7/dist-packages/sklearn/utils/validation.py:760: DataConversionWarning: A column-vector y was passed when a 1d array was expected. Please change the shape of y to (n_samples, ), for example using ravel().\n",
            "  y = column_or_1d(y, warn=True)\n",
            "/usr/local/lib/python3.7/dist-packages/sklearn/utils/validation.py:760: DataConversionWarning: A column-vector y was passed when a 1d array was expected. Please change the shape of y to (n_samples, ), for example using ravel().\n",
            "  y = column_or_1d(y, warn=True)\n",
            "/usr/local/lib/python3.7/dist-packages/sklearn/utils/validation.py:760: DataConversionWarning: A column-vector y was passed when a 1d array was expected. Please change the shape of y to (n_samples, ), for example using ravel().\n",
            "  y = column_or_1d(y, warn=True)\n",
            "/usr/local/lib/python3.7/dist-packages/sklearn/utils/validation.py:760: DataConversionWarning: A column-vector y was passed when a 1d array was expected. Please change the shape of y to (n_samples, ), for example using ravel().\n",
            "  y = column_or_1d(y, warn=True)\n",
            "/usr/local/lib/python3.7/dist-packages/sklearn/utils/validation.py:760: DataConversionWarning: A column-vector y was passed when a 1d array was expected. Please change the shape of y to (n_samples, ), for example using ravel().\n",
            "  y = column_or_1d(y, warn=True)\n",
            "/usr/local/lib/python3.7/dist-packages/sklearn/utils/validation.py:760: DataConversionWarning: A column-vector y was passed when a 1d array was expected. Please change the shape of y to (n_samples, ), for example using ravel().\n",
            "  y = column_or_1d(y, warn=True)\n",
            "/usr/local/lib/python3.7/dist-packages/sklearn/utils/validation.py:760: DataConversionWarning: A column-vector y was passed when a 1d array was expected. Please change the shape of y to (n_samples, ), for example using ravel().\n",
            "  y = column_or_1d(y, warn=True)\n"
          ]
        },
        {
          "output_type": "stream",
          "name": "stdout",
          "text": [
            "[CV] ....... C=1000, gamma=0.1, kernel=rbf, score=0.665, total=   0.0s\n",
            "[CV] C=1000, gamma=0.1, kernel=rbf ...................................\n",
            "[CV] ....... C=1000, gamma=0.1, kernel=rbf, score=0.430, total=   0.0s\n",
            "[CV] C=1000, gamma=0.1, kernel=rbf ...................................\n",
            "[CV] ....... C=1000, gamma=0.1, kernel=rbf, score=0.582, total=   0.0s\n",
            "[CV] C=1000, gamma=0.1, kernel=sigmoid ...............................\n",
            "[CV]  C=1000, gamma=0.1, kernel=sigmoid, score=-4052.598, total=   0.0s\n",
            "[CV] C=1000, gamma=0.1, kernel=sigmoid ...............................\n",
            "[CV]  C=1000, gamma=0.1, kernel=sigmoid, score=-9307.777, total=   0.0s\n",
            "[CV] C=1000, gamma=0.1, kernel=sigmoid ...............................\n",
            "[CV]  C=1000, gamma=0.1, kernel=sigmoid, score=-4170.162, total=   0.0s\n",
            "[CV] C=1000, gamma=0.1, kernel=sigmoid ...............................\n",
            "[CV]  C=1000, gamma=0.1, kernel=sigmoid, score=-2405.302, total=   0.0s\n",
            "[CV] C=1000, gamma=0.1, kernel=sigmoid ...............................\n",
            "[CV]  C=1000, gamma=0.1, kernel=sigmoid, score=-1500.445, total=   0.0s\n",
            "[CV] C=1000, gamma=0.01, kernel=rbf ..................................\n",
            "[CV] ...... C=1000, gamma=0.01, kernel=rbf, score=0.571, total=   0.0s\n",
            "[CV] C=1000, gamma=0.01, kernel=rbf ..................................\n",
            "[CV] ...... C=1000, gamma=0.01, kernel=rbf, score=0.668, total=   0.0s\n",
            "[CV] C=1000, gamma=0.01, kernel=rbf ..................................\n",
            "[CV] ...... C=1000, gamma=0.01, kernel=rbf, score=0.673, total=   0.0s\n",
            "[CV] C=1000, gamma=0.01, kernel=rbf ..................................\n",
            "[CV] ...... C=1000, gamma=0.01, kernel=rbf, score=0.418, total=   0.0s\n",
            "[CV] C=1000, gamma=0.01, kernel=rbf ..................................\n",
            "[CV] ...... C=1000, gamma=0.01, kernel=rbf, score=0.577, total=   0.0s\n",
            "[CV] C=1000, gamma=0.01, kernel=sigmoid ..............................\n"
          ]
        },
        {
          "output_type": "stream",
          "name": "stderr",
          "text": [
            "/usr/local/lib/python3.7/dist-packages/sklearn/utils/validation.py:760: DataConversionWarning: A column-vector y was passed when a 1d array was expected. Please change the shape of y to (n_samples, ), for example using ravel().\n",
            "  y = column_or_1d(y, warn=True)\n",
            "/usr/local/lib/python3.7/dist-packages/sklearn/utils/validation.py:760: DataConversionWarning: A column-vector y was passed when a 1d array was expected. Please change the shape of y to (n_samples, ), for example using ravel().\n",
            "  y = column_or_1d(y, warn=True)\n",
            "/usr/local/lib/python3.7/dist-packages/sklearn/utils/validation.py:760: DataConversionWarning: A column-vector y was passed when a 1d array was expected. Please change the shape of y to (n_samples, ), for example using ravel().\n",
            "  y = column_or_1d(y, warn=True)\n",
            "/usr/local/lib/python3.7/dist-packages/sklearn/utils/validation.py:760: DataConversionWarning: A column-vector y was passed when a 1d array was expected. Please change the shape of y to (n_samples, ), for example using ravel().\n",
            "  y = column_or_1d(y, warn=True)\n",
            "/usr/local/lib/python3.7/dist-packages/sklearn/utils/validation.py:760: DataConversionWarning: A column-vector y was passed when a 1d array was expected. Please change the shape of y to (n_samples, ), for example using ravel().\n",
            "  y = column_or_1d(y, warn=True)\n",
            "/usr/local/lib/python3.7/dist-packages/sklearn/utils/validation.py:760: DataConversionWarning: A column-vector y was passed when a 1d array was expected. Please change the shape of y to (n_samples, ), for example using ravel().\n",
            "  y = column_or_1d(y, warn=True)\n",
            "/usr/local/lib/python3.7/dist-packages/sklearn/utils/validation.py:760: DataConversionWarning: A column-vector y was passed when a 1d array was expected. Please change the shape of y to (n_samples, ), for example using ravel().\n",
            "  y = column_or_1d(y, warn=True)\n",
            "/usr/local/lib/python3.7/dist-packages/sklearn/utils/validation.py:760: DataConversionWarning: A column-vector y was passed when a 1d array was expected. Please change the shape of y to (n_samples, ), for example using ravel().\n",
            "  y = column_or_1d(y, warn=True)\n",
            "/usr/local/lib/python3.7/dist-packages/sklearn/utils/validation.py:760: DataConversionWarning: A column-vector y was passed when a 1d array was expected. Please change the shape of y to (n_samples, ), for example using ravel().\n",
            "  y = column_or_1d(y, warn=True)\n",
            "/usr/local/lib/python3.7/dist-packages/sklearn/utils/validation.py:760: DataConversionWarning: A column-vector y was passed when a 1d array was expected. Please change the shape of y to (n_samples, ), for example using ravel().\n",
            "  y = column_or_1d(y, warn=True)\n",
            "/usr/local/lib/python3.7/dist-packages/sklearn/utils/validation.py:760: DataConversionWarning: A column-vector y was passed when a 1d array was expected. Please change the shape of y to (n_samples, ), for example using ravel().\n",
            "  y = column_or_1d(y, warn=True)\n",
            "/usr/local/lib/python3.7/dist-packages/sklearn/utils/validation.py:760: DataConversionWarning: A column-vector y was passed when a 1d array was expected. Please change the shape of y to (n_samples, ), for example using ravel().\n",
            "  y = column_or_1d(y, warn=True)\n",
            "/usr/local/lib/python3.7/dist-packages/sklearn/utils/validation.py:760: DataConversionWarning: A column-vector y was passed when a 1d array was expected. Please change the shape of y to (n_samples, ), for example using ravel().\n",
            "  y = column_or_1d(y, warn=True)\n"
          ]
        },
        {
          "output_type": "stream",
          "name": "stdout",
          "text": [
            "[CV] .. C=1000, gamma=0.01, kernel=sigmoid, score=0.464, total=   0.0s\n",
            "[CV] C=1000, gamma=0.01, kernel=sigmoid ..............................\n",
            "[CV] .. C=1000, gamma=0.01, kernel=sigmoid, score=0.526, total=   0.0s\n",
            "[CV] C=1000, gamma=0.01, kernel=sigmoid ..............................\n",
            "[CV] .. C=1000, gamma=0.01, kernel=sigmoid, score=0.570, total=   0.0s\n",
            "[CV] C=1000, gamma=0.01, kernel=sigmoid ..............................\n",
            "[CV] .. C=1000, gamma=0.01, kernel=sigmoid, score=0.326, total=   0.0s\n",
            "[CV] C=1000, gamma=0.01, kernel=sigmoid ..............................\n",
            "[CV] .. C=1000, gamma=0.01, kernel=sigmoid, score=0.481, total=   0.0s\n",
            "[CV] C=1000, gamma=0.001, kernel=rbf .................................\n",
            "[CV] ..... C=1000, gamma=0.001, kernel=rbf, score=0.527, total=   0.0s\n",
            "[CV] C=1000, gamma=0.001, kernel=rbf .................................\n",
            "[CV] ..... C=1000, gamma=0.001, kernel=rbf, score=0.625, total=   0.0s\n",
            "[CV] C=1000, gamma=0.001, kernel=rbf .................................\n",
            "[CV] ..... C=1000, gamma=0.001, kernel=rbf, score=0.623, total=   0.0s\n",
            "[CV] C=1000, gamma=0.001, kernel=rbf .................................\n",
            "[CV] ..... C=1000, gamma=0.001, kernel=rbf, score=0.366, total=   0.0s\n",
            "[CV] C=1000, gamma=0.001, kernel=rbf .................................\n",
            "[CV] ..... C=1000, gamma=0.001, kernel=rbf, score=0.517, total=   0.0s\n",
            "[CV] C=1000, gamma=0.001, kernel=sigmoid .............................\n",
            "[CV] . C=1000, gamma=0.001, kernel=sigmoid, score=0.498, total=   0.0s\n",
            "[CV] C=1000, gamma=0.001, kernel=sigmoid .............................\n",
            "[CV] . C=1000, gamma=0.001, kernel=sigmoid, score=0.596, total=   0.0s\n",
            "[CV] C=1000, gamma=0.001, kernel=sigmoid .............................\n",
            "[CV] . C=1000, gamma=0.001, kernel=sigmoid, score=0.601, total=   0.0s\n",
            "[CV] C=1000, gamma=0.001, kernel=sigmoid .............................\n",
            "[CV] . C=1000, gamma=0.001, kernel=sigmoid, score=0.338, total=   0.0s\n",
            "[CV] C=1000, gamma=0.001, kernel=sigmoid .............................\n",
            "[CV] . C=1000, gamma=0.001, kernel=sigmoid, score=0.494, total=   0.0s\n",
            "[CV] C=1000, gamma=0.0001, kernel=rbf ................................\n",
            "[CV] .... C=1000, gamma=0.0001, kernel=rbf, score=0.494, total=   0.0s\n",
            "[CV] C=1000, gamma=0.0001, kernel=rbf ................................\n",
            "[CV] .... C=1000, gamma=0.0001, kernel=rbf, score=0.617, total=   0.0s\n",
            "[CV] C=1000, gamma=0.0001, kernel=rbf ................................\n",
            "[CV] .... C=1000, gamma=0.0001, kernel=rbf, score=0.582, total=   0.0s\n",
            "[CV] C=1000, gamma=0.0001, kernel=rbf ................................\n",
            "[CV] .... C=1000, gamma=0.0001, kernel=rbf, score=0.329, total=   0.0s\n",
            "[CV] C=1000, gamma=0.0001, kernel=rbf ................................\n",
            "[CV] .... C=1000, gamma=0.0001, kernel=rbf, score=0.473, total=   0.0s\n",
            "[CV] C=1000, gamma=0.0001, kernel=sigmoid ............................\n",
            "[CV]  C=1000, gamma=0.0001, kernel=sigmoid, score=0.490, total=   0.0s\n",
            "[CV] C=1000, gamma=0.0001, kernel=sigmoid ............................\n"
          ]
        },
        {
          "output_type": "stream",
          "name": "stderr",
          "text": [
            "/usr/local/lib/python3.7/dist-packages/sklearn/utils/validation.py:760: DataConversionWarning: A column-vector y was passed when a 1d array was expected. Please change the shape of y to (n_samples, ), for example using ravel().\n",
            "  y = column_or_1d(y, warn=True)\n",
            "/usr/local/lib/python3.7/dist-packages/sklearn/utils/validation.py:760: DataConversionWarning: A column-vector y was passed when a 1d array was expected. Please change the shape of y to (n_samples, ), for example using ravel().\n",
            "  y = column_or_1d(y, warn=True)\n",
            "/usr/local/lib/python3.7/dist-packages/sklearn/utils/validation.py:760: DataConversionWarning: A column-vector y was passed when a 1d array was expected. Please change the shape of y to (n_samples, ), for example using ravel().\n",
            "  y = column_or_1d(y, warn=True)\n",
            "/usr/local/lib/python3.7/dist-packages/sklearn/utils/validation.py:760: DataConversionWarning: A column-vector y was passed when a 1d array was expected. Please change the shape of y to (n_samples, ), for example using ravel().\n",
            "  y = column_or_1d(y, warn=True)\n",
            "/usr/local/lib/python3.7/dist-packages/sklearn/utils/validation.py:760: DataConversionWarning: A column-vector y was passed when a 1d array was expected. Please change the shape of y to (n_samples, ), for example using ravel().\n",
            "  y = column_or_1d(y, warn=True)\n",
            "/usr/local/lib/python3.7/dist-packages/sklearn/utils/validation.py:760: DataConversionWarning: A column-vector y was passed when a 1d array was expected. Please change the shape of y to (n_samples, ), for example using ravel().\n",
            "  y = column_or_1d(y, warn=True)\n",
            "/usr/local/lib/python3.7/dist-packages/sklearn/utils/validation.py:760: DataConversionWarning: A column-vector y was passed when a 1d array was expected. Please change the shape of y to (n_samples, ), for example using ravel().\n",
            "  y = column_or_1d(y, warn=True)\n",
            "/usr/local/lib/python3.7/dist-packages/sklearn/utils/validation.py:760: DataConversionWarning: A column-vector y was passed when a 1d array was expected. Please change the shape of y to (n_samples, ), for example using ravel().\n",
            "  y = column_or_1d(y, warn=True)\n",
            "/usr/local/lib/python3.7/dist-packages/sklearn/utils/validation.py:760: DataConversionWarning: A column-vector y was passed when a 1d array was expected. Please change the shape of y to (n_samples, ), for example using ravel().\n",
            "  y = column_or_1d(y, warn=True)\n",
            "/usr/local/lib/python3.7/dist-packages/sklearn/utils/validation.py:760: DataConversionWarning: A column-vector y was passed when a 1d array was expected. Please change the shape of y to (n_samples, ), for example using ravel().\n",
            "  y = column_or_1d(y, warn=True)\n",
            "/usr/local/lib/python3.7/dist-packages/sklearn/utils/validation.py:760: DataConversionWarning: A column-vector y was passed when a 1d array was expected. Please change the shape of y to (n_samples, ), for example using ravel().\n",
            "  y = column_or_1d(y, warn=True)\n",
            "/usr/local/lib/python3.7/dist-packages/sklearn/utils/validation.py:760: DataConversionWarning: A column-vector y was passed when a 1d array was expected. Please change the shape of y to (n_samples, ), for example using ravel().\n",
            "  y = column_or_1d(y, warn=True)\n",
            "/usr/local/lib/python3.7/dist-packages/sklearn/utils/validation.py:760: DataConversionWarning: A column-vector y was passed when a 1d array was expected. Please change the shape of y to (n_samples, ), for example using ravel().\n",
            "  y = column_or_1d(y, warn=True)\n",
            "/usr/local/lib/python3.7/dist-packages/sklearn/utils/validation.py:760: DataConversionWarning: A column-vector y was passed when a 1d array was expected. Please change the shape of y to (n_samples, ), for example using ravel().\n",
            "  y = column_or_1d(y, warn=True)\n",
            "/usr/local/lib/python3.7/dist-packages/sklearn/utils/validation.py:760: DataConversionWarning: A column-vector y was passed when a 1d array was expected. Please change the shape of y to (n_samples, ), for example using ravel().\n",
            "  y = column_or_1d(y, warn=True)\n",
            "/usr/local/lib/python3.7/dist-packages/sklearn/utils/validation.py:760: DataConversionWarning: A column-vector y was passed when a 1d array was expected. Please change the shape of y to (n_samples, ), for example using ravel().\n",
            "  y = column_or_1d(y, warn=True)\n",
            "/usr/local/lib/python3.7/dist-packages/sklearn/utils/validation.py:760: DataConversionWarning: A column-vector y was passed when a 1d array was expected. Please change the shape of y to (n_samples, ), for example using ravel().\n",
            "  y = column_or_1d(y, warn=True)\n",
            "/usr/local/lib/python3.7/dist-packages/sklearn/utils/validation.py:760: DataConversionWarning: A column-vector y was passed when a 1d array was expected. Please change the shape of y to (n_samples, ), for example using ravel().\n",
            "  y = column_or_1d(y, warn=True)\n",
            "/usr/local/lib/python3.7/dist-packages/sklearn/utils/validation.py:760: DataConversionWarning: A column-vector y was passed when a 1d array was expected. Please change the shape of y to (n_samples, ), for example using ravel().\n",
            "  y = column_or_1d(y, warn=True)\n",
            "/usr/local/lib/python3.7/dist-packages/sklearn/utils/validation.py:760: DataConversionWarning: A column-vector y was passed when a 1d array was expected. Please change the shape of y to (n_samples, ), for example using ravel().\n",
            "  y = column_or_1d(y, warn=True)\n",
            "/usr/local/lib/python3.7/dist-packages/sklearn/utils/validation.py:760: DataConversionWarning: A column-vector y was passed when a 1d array was expected. Please change the shape of y to (n_samples, ), for example using ravel().\n",
            "  y = column_or_1d(y, warn=True)\n"
          ]
        },
        {
          "output_type": "stream",
          "name": "stdout",
          "text": [
            "[CV]  C=1000, gamma=0.0001, kernel=sigmoid, score=0.614, total=   0.0s\n",
            "[CV] C=1000, gamma=0.0001, kernel=sigmoid ............................\n",
            "[CV]  C=1000, gamma=0.0001, kernel=sigmoid, score=0.565, total=   0.0s\n",
            "[CV] C=1000, gamma=0.0001, kernel=sigmoid ............................\n",
            "[CV]  C=1000, gamma=0.0001, kernel=sigmoid, score=0.322, total=   0.0s\n",
            "[CV] C=1000, gamma=0.0001, kernel=sigmoid ............................\n",
            "[CV]  C=1000, gamma=0.0001, kernel=sigmoid, score=0.464, total=   0.0s\n"
          ]
        },
        {
          "output_type": "stream",
          "name": "stderr",
          "text": [
            "/usr/local/lib/python3.7/dist-packages/sklearn/utils/validation.py:760: DataConversionWarning: A column-vector y was passed when a 1d array was expected. Please change the shape of y to (n_samples, ), for example using ravel().\n",
            "  y = column_or_1d(y, warn=True)\n",
            "/usr/local/lib/python3.7/dist-packages/sklearn/utils/validation.py:760: DataConversionWarning: A column-vector y was passed when a 1d array was expected. Please change the shape of y to (n_samples, ), for example using ravel().\n",
            "  y = column_or_1d(y, warn=True)\n",
            "/usr/local/lib/python3.7/dist-packages/sklearn/utils/validation.py:760: DataConversionWarning: A column-vector y was passed when a 1d array was expected. Please change the shape of y to (n_samples, ), for example using ravel().\n",
            "  y = column_or_1d(y, warn=True)\n",
            "[Parallel(n_jobs=1)]: Done 250 out of 250 | elapsed:    2.8s finished\n",
            "/usr/local/lib/python3.7/dist-packages/sklearn/utils/validation.py:760: DataConversionWarning: A column-vector y was passed when a 1d array was expected. Please change the shape of y to (n_samples, ), for example using ravel().\n",
            "  y = column_or_1d(y, warn=True)\n"
          ]
        },
        {
          "output_type": "execute_result",
          "data": {
            "text/plain": [
              "GridSearchCV(cv=None, error_score=nan,\n",
              "             estimator=SVR(C=1.0, cache_size=200, coef0=0.0, degree=3,\n",
              "                           epsilon=0.1, gamma='scale', kernel='rbf',\n",
              "                           max_iter=-1, shrinking=True, tol=0.001,\n",
              "                           verbose=False),\n",
              "             iid='deprecated', n_jobs=None,\n",
              "             param_grid={'C': [0.1, 1, 10, 100, 1000],\n",
              "                         'gamma': [1, 0.1, 0.01, 0.001, 0.0001],\n",
              "                         'kernel': ['rbf', 'sigmoid']},\n",
              "             pre_dispatch='2*n_jobs', refit=True, return_train_score=False,\n",
              "             scoring=None, verbose=3)"
            ]
          },
          "metadata": {},
          "execution_count": 88
        }
      ]
    },
    {
      "cell_type": "code",
      "metadata": {
        "colab": {
          "base_uri": "https://localhost:8080/"
        },
        "id": "gf-BmEZpHBI-",
        "outputId": "680d0073-7ab3-4e57-a511-32d34de6ddeb"
      },
      "source": [
        "print(grid.best_params_) #print best parameter after tuning"
      ],
      "execution_count": 89,
      "outputs": [
        {
          "output_type": "stream",
          "name": "stdout",
          "text": [
            "{'C': 10, 'gamma': 1, 'kernel': 'rbf'}\n"
          ]
        }
      ]
    },
    {
      "cell_type": "code",
      "metadata": {
        "id": "SELUwX82H7NQ"
      },
      "source": [
        "svm_grid=SVR(C=10, gamma=1, kernel='rbf')"
      ],
      "execution_count": 90,
      "outputs": []
    },
    {
      "cell_type": "code",
      "metadata": {
        "colab": {
          "base_uri": "https://localhost:8080/"
        },
        "id": "YUIboc9uIEL0",
        "outputId": "c0052227-38f5-483a-c2a1-4bc20a957ae6"
      },
      "source": [
        "svm_grid.fit(x_train,y_train)"
      ],
      "execution_count": 91,
      "outputs": [
        {
          "output_type": "stream",
          "name": "stderr",
          "text": [
            "/usr/local/lib/python3.7/dist-packages/sklearn/utils/validation.py:760: DataConversionWarning: A column-vector y was passed when a 1d array was expected. Please change the shape of y to (n_samples, ), for example using ravel().\n",
            "  y = column_or_1d(y, warn=True)\n"
          ]
        },
        {
          "output_type": "execute_result",
          "data": {
            "text/plain": [
              "SVR(C=10, cache_size=200, coef0=0.0, degree=3, epsilon=0.1, gamma=1,\n",
              "    kernel='rbf', max_iter=-1, shrinking=True, tol=0.001, verbose=False)"
            ]
          },
          "metadata": {},
          "execution_count": 91
        }
      ]
    },
    {
      "cell_type": "code",
      "metadata": {
        "id": "aar5dN9lIHGq"
      },
      "source": [
        "grid_prediction=svm_grid.predict(x_test)"
      ],
      "execution_count": 92,
      "outputs": []
    },
    {
      "cell_type": "code",
      "metadata": {
        "colab": {
          "base_uri": "https://localhost:8080/"
        },
        "id": "dXR16RZ4ILkW",
        "outputId": "6e6b42fb-ddd2-41c0-bd28-c30c0f339b7c"
      },
      "source": [
        "from sklearn.metrics import r2_score\n",
        "r2_score(y_test,grid_prediction)"
      ],
      "execution_count": 93,
      "outputs": [
        {
          "output_type": "execute_result",
          "data": {
            "text/plain": [
              "0.6844729356295567"
            ]
          },
          "metadata": {},
          "execution_count": 93
        }
      ]
    },
    {
      "cell_type": "code",
      "metadata": {
        "id": "tCKNc9KvIRAh"
      },
      "source": [
        ""
      ],
      "execution_count": null,
      "outputs": []
    }
  ]
}