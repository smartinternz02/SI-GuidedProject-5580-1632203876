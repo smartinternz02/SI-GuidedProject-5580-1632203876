{
  "nbformat": 4,
  "nbformat_minor": 0,
  "metadata": {
    "kernelspec": {
      "display_name": "Python 3",
      "language": "python",
      "name": "python3"
    },
    "language_info": {
      "codemirror_mode": {
        "name": "ipython",
        "version": 3
      },
      "file_extension": ".py",
      "mimetype": "text/x-python",
      "name": "python",
      "nbconvert_exporter": "python",
      "pygments_lexer": "ipython3",
      "version": "3.8.3"
    },
    "colab": {
      "name": "Convolution_Neural_Network.ipynb",
      "provenance": [],
      "collapsed_sections": []
    },
    "accelerator": "GPU"
  },
  "cells": [
    {
      "cell_type": "code",
      "metadata": {
        "colab": {
          "base_uri": "https://localhost:8080/"
        },
        "id": "VWzMSdL_awHK",
        "outputId": "8ad4f0dd-bc7f-4b33-b867-18592aa5d41b"
      },
      "source": [
        "from google.colab import drive\n",
        "drive.mount('/content/drive')"
      ],
      "execution_count": 1,
      "outputs": [
        {
          "output_type": "stream",
          "name": "stdout",
          "text": [
            "Drive already mounted at /content/drive; to attempt to forcibly remount, call drive.mount(\"/content/drive\", force_remount=True).\n"
          ]
        }
      ]
    },
    {
      "cell_type": "markdown",
      "metadata": {
        "id": "q1PN4c3UnnNA"
      },
      "source": [
        "**importing libraries**"
      ]
    },
    {
      "cell_type": "code",
      "metadata": {
        "id": "QLV7lfMAatg6"
      },
      "source": [
        "from tensorflow.keras.models import Sequential\n",
        "from tensorflow.keras.layers import Dense\n",
        "from tensorflow.keras.layers import Convolution2D\n",
        "from tensorflow.keras.layers import MaxPooling2D\n",
        "from tensorflow.keras.layers import Flatten"
      ],
      "execution_count": 2,
      "outputs": []
    },
    {
      "cell_type": "code",
      "metadata": {
        "id": "8u_hh_dyymlP"
      },
      "source": [
        "from keras.preprocessing.image import ImageDataGenerator"
      ],
      "execution_count": 3,
      "outputs": []
    },
    {
      "cell_type": "code",
      "metadata": {
        "id": "04MldFyeymlS"
      },
      "source": [
        "train_datagen=ImageDataGenerator(rescale=1./255,shear_range=0.2,zoom_range=0.2,\n",
        "                                 horizontal_flip=True)\n",
        "test_datagen=ImageDataGenerator(rescale=1./255)"
      ],
      "execution_count": 4,
      "outputs": []
    },
    {
      "cell_type": "code",
      "metadata": {
        "colab": {
          "base_uri": "https://localhost:8080/"
        },
        "id": "WhbYSGgYymlT",
        "outputId": "a97f390b-6664-4891-dbef-9293719bafd1"
      },
      "source": [
        "x_train=train_datagen.flow_from_directory(\"/content/drive/MyDrive/ML_TRAINING/Dataset/Assignment dog breed dataset/train\",\n",
        "                                          target_size=(64,64),batch_size=32,class_mode=\"categorical\")\n",
        "x_test=test_datagen.flow_from_directory(\"/content/drive/MyDrive/ML_TRAINING/Dataset/Assignment dog breed dataset/test\",\n",
        "                                          target_size=(64,64),batch_size=32,class_mode=\"categorical\")"
      ],
      "execution_count": 5,
      "outputs": [
        {
          "output_type": "stream",
          "name": "stdout",
          "text": [
            "Found 1007 images belonging to 8 classes.\n",
            "Found 80 images belonging to 8 classes.\n"
          ]
        }
      ]
    },
    {
      "cell_type": "code",
      "metadata": {
        "id": "s5_tw2JIdPSp"
      },
      "source": [
        "nb_train_samples = 1007\n",
        "nb_validation_samples = 80\n",
        "batch_size=32"
      ],
      "execution_count": 6,
      "outputs": []
    },
    {
      "cell_type": "code",
      "metadata": {
        "colab": {
          "base_uri": "https://localhost:8080/"
        },
        "id": "ZVbuKr5fymlX",
        "outputId": "f92c8e22-3836-4d4c-8eeb-7afa328a8729"
      },
      "source": [
        "print(x_train.class_indices)"
      ],
      "execution_count": 7,
      "outputs": [
        {
          "output_type": "stream",
          "name": "stdout",
          "text": [
            "{'African Wild Dog': 0, 'Boxer': 1, 'Bulldog': 2, 'Cocker': 3, 'Collie': 4, 'Golden Retriever': 5, 'Groenendael': 6, 'Pomeranian': 7}\n"
          ]
        }
      ]
    },
    {
      "cell_type": "markdown",
      "metadata": {
        "id": "Gll9PBUPnts7"
      },
      "source": [
        "**Building model**"
      ]
    },
    {
      "cell_type": "code",
      "metadata": {
        "id": "Y8iE8AaFymlZ"
      },
      "source": [
        "model=Sequential()\n",
        "#adding convolution layer, max pooling layer, Flatten layer,hidden layer, output layer\n",
        "model.add(Convolution2D(32,(3,3),input_shape=(64,64,3),activation=\"relu\"))\n",
        "model.add(MaxPooling2D(pool_size=(2,2)))\n",
        "model.add(Convolution2D(32, 3, 3, activation = 'relu'))\n",
        "model.add(MaxPooling2D(pool_size = (2, 2)))\n",
        "model.add(Flatten()) \n",
        "model.add(Dense(units=128,activation=\"relu\"))\n",
        "model.add(Dense(units=8,activation=\"softmax\"))"
      ],
      "execution_count": 8,
      "outputs": []
    },
    {
      "cell_type": "code",
      "metadata": {
        "colab": {
          "base_uri": "https://localhost:8080/"
        },
        "id": "P6Unocwyymlb",
        "outputId": "edef7a88-7f8a-4f92-ea44-a75d2c1c02f6"
      },
      "source": [
        "model.summary()"
      ],
      "execution_count": 9,
      "outputs": [
        {
          "output_type": "stream",
          "name": "stdout",
          "text": [
            "Model: \"sequential\"\n",
            "_________________________________________________________________\n",
            "Layer (type)                 Output Shape              Param #   \n",
            "=================================================================\n",
            "conv2d (Conv2D)              (None, 62, 62, 32)        896       \n",
            "_________________________________________________________________\n",
            "max_pooling2d (MaxPooling2D) (None, 31, 31, 32)        0         \n",
            "_________________________________________________________________\n",
            "conv2d_1 (Conv2D)            (None, 10, 10, 32)        9248      \n",
            "_________________________________________________________________\n",
            "max_pooling2d_1 (MaxPooling2 (None, 5, 5, 32)          0         \n",
            "_________________________________________________________________\n",
            "flatten (Flatten)            (None, 800)               0         \n",
            "_________________________________________________________________\n",
            "dense (Dense)                (None, 128)               102528    \n",
            "_________________________________________________________________\n",
            "dense_1 (Dense)              (None, 8)                 1032      \n",
            "=================================================================\n",
            "Total params: 113,704\n",
            "Trainable params: 113,704\n",
            "Non-trainable params: 0\n",
            "_________________________________________________________________\n"
          ]
        }
      ]
    },
    {
      "cell_type": "markdown",
      "metadata": {
        "id": "jkHWaO6rn4jd"
      },
      "source": [
        "**configure the learning process**"
      ]
    },
    {
      "cell_type": "code",
      "metadata": {
        "id": "tWx6Z2A4ymlk"
      },
      "source": [
        "\n",
        "model.compile(loss=\"categorical_crossentropy\",optimizer=\"adam\",metrics=[\"accuracy\"])"
      ],
      "execution_count": 10,
      "outputs": []
    },
    {
      "cell_type": "code",
      "metadata": {
        "colab": {
          "base_uri": "https://localhost:8080/"
        },
        "id": "PrhvHru7ymll",
        "outputId": "8671ff51-2749-4697-fd15-bdd81b259dc5"
      },
      "source": [
        "model.fit(x_train,steps_per_epoch=nb_train_samples // batch_size, epochs=30,validation_data=x_test,validation_steps=nb_validation_samples // batch_size)"
      ],
      "execution_count": 11,
      "outputs": [
        {
          "output_type": "stream",
          "name": "stdout",
          "text": [
            "Epoch 1/30\n",
            "31/31 [==============================] - 6s 149ms/step - loss: 2.0464 - accuracy: 0.1990 - val_loss: 1.9619 - val_accuracy: 0.2500\n",
            "Epoch 2/30\n",
            "31/31 [==============================] - 4s 141ms/step - loss: 1.8788 - accuracy: 0.2913 - val_loss: 1.7800 - val_accuracy: 0.3438\n",
            "Epoch 3/30\n",
            "31/31 [==============================] - 4s 141ms/step - loss: 1.6695 - accuracy: 0.3949 - val_loss: 1.6283 - val_accuracy: 0.2812\n",
            "Epoch 4/30\n",
            "31/31 [==============================] - 4s 142ms/step - loss: 1.5776 - accuracy: 0.4154 - val_loss: 1.6113 - val_accuracy: 0.4062\n",
            "Epoch 5/30\n",
            "31/31 [==============================] - 4s 142ms/step - loss: 1.4881 - accuracy: 0.4415 - val_loss: 1.4397 - val_accuracy: 0.4844\n",
            "Epoch 6/30\n",
            "31/31 [==============================] - 5s 147ms/step - loss: 1.4336 - accuracy: 0.4708 - val_loss: 1.3713 - val_accuracy: 0.5000\n",
            "Epoch 7/30\n",
            "31/31 [==============================] - 5s 146ms/step - loss: 1.3445 - accuracy: 0.5231 - val_loss: 1.4346 - val_accuracy: 0.4531\n",
            "Epoch 8/30\n",
            "31/31 [==============================] - 4s 140ms/step - loss: 1.3160 - accuracy: 0.5060 - val_loss: 1.3546 - val_accuracy: 0.4531\n",
            "Epoch 9/30\n",
            "31/31 [==============================] - 4s 140ms/step - loss: 1.2058 - accuracy: 0.5569 - val_loss: 1.2544 - val_accuracy: 0.5156\n",
            "Epoch 10/30\n",
            "31/31 [==============================] - 4s 140ms/step - loss: 1.1675 - accuracy: 0.5744 - val_loss: 1.2849 - val_accuracy: 0.5625\n",
            "Epoch 11/30\n",
            "31/31 [==============================] - 4s 142ms/step - loss: 1.0874 - accuracy: 0.6185 - val_loss: 1.1640 - val_accuracy: 0.5781\n",
            "Epoch 12/30\n",
            "31/31 [==============================] - 4s 140ms/step - loss: 1.1214 - accuracy: 0.5887 - val_loss: 1.3107 - val_accuracy: 0.5625\n",
            "Epoch 13/30\n",
            "31/31 [==============================] - 4s 140ms/step - loss: 1.0522 - accuracy: 0.5949 - val_loss: 1.2448 - val_accuracy: 0.5625\n",
            "Epoch 14/30\n",
            "31/31 [==============================] - 4s 140ms/step - loss: 1.0804 - accuracy: 0.6072 - val_loss: 1.2236 - val_accuracy: 0.6250\n",
            "Epoch 15/30\n",
            "31/31 [==============================] - 4s 139ms/step - loss: 1.0242 - accuracy: 0.6267 - val_loss: 1.2034 - val_accuracy: 0.5312\n",
            "Epoch 16/30\n",
            "31/31 [==============================] - 4s 141ms/step - loss: 0.9838 - accuracy: 0.6523 - val_loss: 1.2771 - val_accuracy: 0.5781\n",
            "Epoch 17/30\n",
            "31/31 [==============================] - 4s 138ms/step - loss: 0.9145 - accuracy: 0.6800 - val_loss: 1.1902 - val_accuracy: 0.5938\n",
            "Epoch 18/30\n",
            "31/31 [==============================] - 4s 141ms/step - loss: 0.9129 - accuracy: 0.6714 - val_loss: 1.2541 - val_accuracy: 0.5938\n",
            "Epoch 19/30\n",
            "31/31 [==============================] - 4s 140ms/step - loss: 0.9017 - accuracy: 0.6759 - val_loss: 1.2485 - val_accuracy: 0.5938\n",
            "Epoch 20/30\n",
            "31/31 [==============================] - 4s 142ms/step - loss: 0.8468 - accuracy: 0.7005 - val_loss: 1.5201 - val_accuracy: 0.5000\n",
            "Epoch 21/30\n",
            "31/31 [==============================] - 4s 141ms/step - loss: 0.8425 - accuracy: 0.6954 - val_loss: 1.1506 - val_accuracy: 0.6094\n",
            "Epoch 22/30\n",
            "31/31 [==============================] - 4s 139ms/step - loss: 0.8246 - accuracy: 0.7210 - val_loss: 1.3226 - val_accuracy: 0.5469\n",
            "Epoch 23/30\n",
            "31/31 [==============================] - 4s 138ms/step - loss: 0.7872 - accuracy: 0.7128 - val_loss: 1.1149 - val_accuracy: 0.6250\n",
            "Epoch 24/30\n",
            "31/31 [==============================] - 4s 140ms/step - loss: 0.7665 - accuracy: 0.7292 - val_loss: 1.4794 - val_accuracy: 0.5156\n",
            "Epoch 25/30\n",
            "31/31 [==============================] - 4s 139ms/step - loss: 0.7838 - accuracy: 0.7149 - val_loss: 1.1211 - val_accuracy: 0.5781\n",
            "Epoch 26/30\n",
            "31/31 [==============================] - 4s 141ms/step - loss: 0.7535 - accuracy: 0.7405 - val_loss: 1.1651 - val_accuracy: 0.6250\n",
            "Epoch 27/30\n",
            "31/31 [==============================] - 4s 139ms/step - loss: 0.7274 - accuracy: 0.7415 - val_loss: 1.3522 - val_accuracy: 0.5625\n",
            "Epoch 28/30\n",
            "31/31 [==============================] - 4s 142ms/step - loss: 0.6957 - accuracy: 0.7600 - val_loss: 1.1527 - val_accuracy: 0.5938\n",
            "Epoch 29/30\n",
            "31/31 [==============================] - 4s 144ms/step - loss: 0.6502 - accuracy: 0.7744 - val_loss: 1.1948 - val_accuracy: 0.6250\n",
            "Epoch 30/30\n",
            "31/31 [==============================] - 4s 140ms/step - loss: 0.6777 - accuracy: 0.7477 - val_loss: 1.1959 - val_accuracy: 0.6094\n"
          ]
        },
        {
          "output_type": "execute_result",
          "data": {
            "text/plain": [
              "<keras.callbacks.History at 0x7fb445d73210>"
            ]
          },
          "metadata": {},
          "execution_count": 11
        }
      ]
    },
    {
      "cell_type": "markdown",
      "metadata": {
        "id": "2evXJLvboAfv"
      },
      "source": [
        "**Save the model**"
      ]
    },
    {
      "cell_type": "raw",
      "metadata": {
        "id": "nVXYVKBTymln"
      },
      "source": [
        "steps_per_epoch=no.of images in train data/batch_size=1495/32=47\n",
        "validation steps=no.of images in test data/batch _size=640/32=20"
      ]
    },
    {
      "cell_type": "code",
      "metadata": {
        "id": "qV9d3Fypymln"
      },
      "source": [
        "model.save(\"dog_breed.h5\")"
      ],
      "execution_count": 12,
      "outputs": []
    },
    {
      "cell_type": "markdown",
      "metadata": {
        "id": "GVvZI2lIymlo"
      },
      "source": [
        "**Testing the model**"
      ]
    },
    {
      "cell_type": "code",
      "metadata": {
        "id": "V-xejokOymlp"
      },
      "source": [
        "from tensorflow.keras.models import load_model\n",
        "from keras.preprocessing import image\n",
        "import numpy as np"
      ],
      "execution_count": 13,
      "outputs": []
    },
    {
      "cell_type": "code",
      "metadata": {
        "id": "AVln9ABjymlq"
      },
      "source": [
        "model=load_model(\"dog_breed.h5\")"
      ],
      "execution_count": 14,
      "outputs": []
    },
    {
      "cell_type": "code",
      "metadata": {
        "id": "mNHZDeTAymlr"
      },
      "source": [
        "img=image.load_img(\"/content/drive/MyDrive/ML_TRAINING/Dataset/Assignment dog breed dataset/valid/African Wild Dog/03.jpg\",target_size=(64,64))"
      ],
      "execution_count": 15,
      "outputs": []
    },
    {
      "cell_type": "code",
      "metadata": {
        "colab": {
          "base_uri": "https://localhost:8080/",
          "height": 81
        },
        "id": "GNlm-fdsymlr",
        "outputId": "66e9bdc7-62b8-446a-abea-caebeb2950af"
      },
      "source": [
        "img"
      ],
      "execution_count": 16,
      "outputs": [
        {
          "output_type": "execute_result",
          "data": {
            "image/png": "[encoded data removed]",
            "text/plain": [
              "<PIL.Image.Image image mode=RGB size=64x64 at 0x7FB4459733D0>"
            ]
          },
          "metadata": {},
          "execution_count": 16
        }
      ]
    },
    {
      "cell_type": "code",
      "metadata": {
        "id": "dnGOLIvXymls"
      },
      "source": [
        "x=image.img_to_array(img)"
      ],
      "execution_count": 17,
      "outputs": []
    },
    {
      "cell_type": "code",
      "metadata": {
        "colab": {
          "base_uri": "https://localhost:8080/"
        },
        "id": "S27heEL4ymlt",
        "outputId": "0e22b707-9f02-444f-e2d2-2ff2c0cf2e4b"
      },
      "source": [
        "x"
      ],
      "execution_count": 18,
      "outputs": [
        {
          "output_type": "execute_result",
          "data": {
            "text/plain": [
              "array([[[212., 177., 155.],\n",
              "        [218., 186., 165.],\n",
              "        [215., 183., 160.],\n",
              "        ...,\n",
              "        [153., 127., 114.],\n",
              "        [151., 133., 111.],\n",
              "        [151., 135., 110.]],\n",
              "\n",
              "       [[212., 177., 157.],\n",
              "        [220., 185., 166.],\n",
              "        [220., 185., 163.],\n",
              "        ...,\n",
              "        [161., 139., 116.],\n",
              "        [159., 144., 113.],\n",
              "        [161., 148., 114.]],\n",
              "\n",
              "       [[211., 176., 157.],\n",
              "        [220., 185., 166.],\n",
              "        [220., 185., 165.],\n",
              "        ...,\n",
              "        [163., 148., 115.],\n",
              "        [163., 154., 111.],\n",
              "        [166., 157., 114.]],\n",
              "\n",
              "       ...,\n",
              "\n",
              "       [[211., 188., 154.],\n",
              "        [210., 192., 152.],\n",
              "        [209., 194., 151.],\n",
              "        ...,\n",
              "        [ 96.,  85.,  83.],\n",
              "        [104.,  93.,  91.],\n",
              "        [ 72.,  61.,  57.]],\n",
              "\n",
              "       [[210., 190., 155.],\n",
              "        [211., 193., 155.],\n",
              "        [209., 194., 153.],\n",
              "        ...,\n",
              "        [119., 110., 105.],\n",
              "        [118., 107., 105.],\n",
              "        [ 84.,  73.,  67.]],\n",
              "\n",
              "       [[212., 192., 155.],\n",
              "        [213., 195., 159.],\n",
              "        [211., 195., 159.],\n",
              "        ...,\n",
              "        [113., 104.,  97.],\n",
              "        [110.,  99.,  93.],\n",
              "        [ 67.,  54.,  46.]]], dtype=float32)"
            ]
          },
          "metadata": {},
          "execution_count": 18
        }
      ]
    },
    {
      "cell_type": "code",
      "metadata": {
        "colab": {
          "base_uri": "https://localhost:8080/"
        },
        "id": "aOHJpdSmymlu",
        "outputId": "c95435f1-7901-4500-9850-03ef500bcc35"
      },
      "source": [
        "x.shape"
      ],
      "execution_count": 19,
      "outputs": [
        {
          "output_type": "execute_result",
          "data": {
            "text/plain": [
              "(64, 64, 3)"
            ]
          },
          "metadata": {},
          "execution_count": 19
        }
      ]
    },
    {
      "cell_type": "code",
      "metadata": {
        "id": "tf0KNRvhymlu"
      },
      "source": [
        "x=np.expand_dims(x,axis=0)"
      ],
      "execution_count": 20,
      "outputs": []
    },
    {
      "cell_type": "code",
      "metadata": {
        "colab": {
          "base_uri": "https://localhost:8080/"
        },
        "id": "ZjBCvgljymlv",
        "outputId": "42800c34-449a-4cba-fa60-90f37348e3ab"
      },
      "source": [
        "x.shape"
      ],
      "execution_count": 21,
      "outputs": [
        {
          "output_type": "execute_result",
          "data": {
            "text/plain": [
              "(1, 64, 64, 3)"
            ]
          },
          "metadata": {},
          "execution_count": 21
        }
      ]
    },
    {
      "cell_type": "raw",
      "metadata": {
        "id": "k0ULbU6Zymlw"
      },
      "source": [
        "\n",
        "pred=model.predict_classes(x)\n",
        "\n",
        "\n",
        "pred=np.argmax(model)"
      ]
    },
    {
      "cell_type": "code",
      "metadata": {
        "id": "m8OA3FUaymlx"
      },
      "source": [
        "y=model.predict(x)\n",
        "pred=np.argmax(y, axis=1)"
      ],
      "execution_count": 22,
      "outputs": []
    },
    {
      "cell_type": "code",
      "metadata": {
        "colab": {
          "base_uri": "https://localhost:8080/"
        },
        "id": "n-3VbWWlymlx",
        "outputId": "6dc33bd6-8888-419a-f824-d2d05d630879"
      },
      "source": [
        "y"
      ],
      "execution_count": 23,
      "outputs": [
        {
          "output_type": "execute_result",
          "data": {
            "text/plain": [
              "array([[1., 0., 0., 0., 0., 0., 0., 0.]], dtype=float32)"
            ]
          },
          "metadata": {},
          "execution_count": 23
        }
      ]
    },
    {
      "cell_type": "code",
      "metadata": {
        "colab": {
          "base_uri": "https://localhost:8080/"
        },
        "id": "yQeKMssHymly",
        "outputId": "277d507f-47d3-467d-f621-16f83bb96c7b"
      },
      "source": [
        "pred"
      ],
      "execution_count": 24,
      "outputs": [
        {
          "output_type": "execute_result",
          "data": {
            "text/plain": [
              "array([0])"
            ]
          },
          "metadata": {},
          "execution_count": 24
        }
      ]
    },
    {
      "cell_type": "code",
      "metadata": {
        "colab": {
          "base_uri": "https://localhost:8080/"
        },
        "id": "gmLY2Brxymlz",
        "outputId": "21a68c0e-6496-4105-d3df-74fb3895d525"
      },
      "source": [
        "x_train.class_indices"
      ],
      "execution_count": 25,
      "outputs": [
        {
          "output_type": "execute_result",
          "data": {
            "text/plain": [
              "{'African Wild Dog': 0,\n",
              " 'Boxer': 1,\n",
              " 'Bulldog': 2,\n",
              " 'Cocker': 3,\n",
              " 'Collie': 4,\n",
              " 'Golden Retriever': 5,\n",
              " 'Groenendael': 6,\n",
              " 'Pomeranian': 7}"
            ]
          },
          "metadata": {},
          "execution_count": 25
        }
      ]
    },
    {
      "cell_type": "code",
      "metadata": {
        "id": "-0F_d2kJymlz"
      },
      "source": [
        "index=['African Wild Dog', 'Boxer', 'Bulldog', 'Cocker', 'Collie','Golden Retriever','Groenendael','Pomeranian']\n",
        "breed_result=str(index[pred[0]])"
      ],
      "execution_count": 26,
      "outputs": []
    },
    {
      "cell_type": "code",
      "metadata": {
        "colab": {
          "base_uri": "https://localhost:8080/",
          "height": 35
        },
        "id": "jPEWtUa9yml0",
        "outputId": "096c2664-202b-408a-8478-3f5f84fa7e13"
      },
      "source": [
        "breed_result"
      ],
      "execution_count": 27,
      "outputs": [
        {
          "output_type": "execute_result",
          "data": {
            "application/vnd.google.colaboratory.intrinsic+json": {
              "type": "string"
            },
            "text/plain": [
              "'African Wild Dog'"
            ]
          },
          "metadata": {},
          "execution_count": 27
        }
      ]
    },
    {
      "cell_type": "code",
      "metadata": {
        "id": "WIxf-a4WpY-f"
      },
      "source": [
        ""
      ],
      "execution_count": null,
      "outputs": []
    }
  ]
}